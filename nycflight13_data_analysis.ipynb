{
  "nbformat": 4,
  "nbformat_minor": 0,
  "metadata": {
    "kernelspec": {
      "display_name": "Python 3",
      "language": "python",
      "name": "python3"
    },
    "language_info": {
      "codemirror_mode": {
        "name": "ipython",
        "version": 3
      },
      "file_extension": ".py",
      "mimetype": "text/x-python",
      "name": "python",
      "nbconvert_exporter": "python",
      "pygments_lexer": "ipython3",
      "version": "3.8.5"
    },
    "colab": {
      "name": "nycflight13_data_analysis.ipynb",
      "provenance": [],
      "include_colab_link": true
    }
  },
  "cells": [
    {
      "cell_type": "markdown",
      "metadata": {
        "id": "view-in-github",
        "colab_type": "text"
      },
      "source": [
        "<a href=\"https://colab.research.google.com/github/jssaini7815/Basic-Python/blob/main/nycflight13_data_analysis.ipynb\" target=\"_parent\"><img src=\"https://colab.research.google.com/assets/colab-badge.svg\" alt=\"Open In Colab\"/></a>"
      ]
    },
    {
      "cell_type": "markdown",
      "metadata": {
        "id": "8mUXHwvc5kIv"
      },
      "source": [
        "# Import library"
      ]
    },
    {
      "cell_type": "code",
      "metadata": {
        "id": "qrPFYdzd5kI7",
        "outputId": "dbac5b1a-a0c2-43c3-9f4d-9e589413a77b"
      },
      "source": [
        "import pandas as pd\n",
        "import numpy as np\n",
        "import matplotlib.pyplot as plt\n",
        "!pip install nycflights13"
      ],
      "execution_count": null,
      "outputs": [
        {
          "output_type": "stream",
          "text": [
            "Requirement already satisfied: nycflights13 in c:\\users\\dell\\anaconda3\\lib\\site-packages (0.0.3)\n",
            "Requirement already satisfied: pandas>=0.24.0 in c:\\users\\dell\\anaconda3\\lib\\site-packages (from nycflights13) (1.1.3)\n",
            "Requirement already satisfied: numpy>=1.15.4 in c:\\users\\dell\\anaconda3\\lib\\site-packages (from pandas>=0.24.0->nycflights13) (1.19.2)\n",
            "Requirement already satisfied: python-dateutil>=2.7.3 in c:\\users\\dell\\anaconda3\\lib\\site-packages (from pandas>=0.24.0->nycflights13) (2.8.1)\n",
            "Requirement already satisfied: pytz>=2017.2 in c:\\users\\dell\\anaconda3\\lib\\site-packages (from pandas>=0.24.0->nycflights13) (2020.1)\n",
            "Requirement already satisfied: six>=1.5 in c:\\users\\dell\\anaconda3\\lib\\site-packages (from python-dateutil>=2.7.3->pandas>=0.24.0->nycflights13) (1.15.0)\n"
          ],
          "name": "stdout"
        }
      ]
    },
    {
      "cell_type": "code",
      "metadata": {
        "id": "RUibyPz85kI9",
        "outputId": "324f0b3d-7658-4201-86bd-ed572ffdba3c"
      },
      "source": [
        "import os\n",
        "os.getcwd() "
      ],
      "execution_count": null,
      "outputs": [
        {
          "output_type": "execute_result",
          "data": {
            "text/plain": [
              "'C:\\\\Users\\\\Dell'"
            ]
          },
          "metadata": {
            "tags": []
          },
          "execution_count": 97
        }
      ]
    },
    {
      "cell_type": "code",
      "metadata": {
        "id": "9R1gBTxM5kI-",
        "outputId": "94955db4-3655-4161-96bd-3e7a1457c1df"
      },
      "source": [
        "import os \n",
        "import time\n",
        "import time\n",
        "\n",
        "named_tuple = time.localtime() # get struct_time\n",
        "time_string = time.strftime(\"%m/%d/%Y\", named_tuple)\n",
        "\n",
        "print(time_string)"
      ],
      "execution_count": null,
      "outputs": [
        {
          "output_type": "stream",
          "text": [
            "05/04/2021\n"
          ],
          "name": "stdout"
        }
      ]
    },
    {
      "cell_type": "code",
      "metadata": {
        "id": "BetajSxE5kI_"
      },
      "source": [
        "from nycflights13 import flights\n",
        "#flights=flights.set_index('month')\n",
        "#flights is the combined, tidied data, but can also import individual pieces..\n",
        "#from nycflights13 import airports"
      ],
      "execution_count": null,
      "outputs": []
    },
    {
      "cell_type": "code",
      "metadata": {
        "scrolled": true,
        "id": "ODS_6N0W5kI_"
      },
      "source": [
        "flights"
      ],
      "execution_count": null,
      "outputs": []
    },
    {
      "cell_type": "code",
      "metadata": {
        "id": "rKFcawn65kJA"
      },
      "source": [
        "flights.rename(index={'1': \"JAN\", '2':\"FEB\",'3':'MAR','4':'APR','5':'MAY','6':'JUNE','7':'JUL','8':'AUG','9':'SEP'},inplace=True)\n"
      ],
      "execution_count": null,
      "outputs": []
    },
    {
      "cell_type": "code",
      "metadata": {
        "id": "jdN_kCUc5kJA"
      },
      "source": [
        "flights.head()"
      ],
      "execution_count": null,
      "outputs": []
    },
    {
      "cell_type": "code",
      "metadata": {
        "id": "9lR974C25kJB"
      },
      "source": [
        "flights.info()"
      ],
      "execution_count": null,
      "outputs": []
    },
    {
      "cell_type": "code",
      "metadata": {
        "id": "coS6OYlg5kJB"
      },
      "source": [
        "from datetime import datetime\n",
        "flights['date']= flights.apply(lambda x:datetime.strptime(\"{0} {1} {2}\".format(x['year'],x['month'], x['day']), \"%Y %m %d\"),axis=1)\n",
        "flights.info()"
      ],
      "execution_count": null,
      "outputs": []
    },
    {
      "cell_type": "code",
      "metadata": {
        "id": "zFNWg_5D5kJC"
      },
      "source": [
        "flights.arr_delay"
      ],
      "execution_count": null,
      "outputs": []
    },
    {
      "cell_type": "code",
      "metadata": {
        "id": "9yyP1T0I5kJC"
      },
      "source": [
        "flights.date"
      ],
      "execution_count": null,
      "outputs": []
    },
    {
      "cell_type": "code",
      "metadata": {
        "id": "Fmsc9u4U5kJD"
      },
      "source": [
        "flights.columns"
      ],
      "execution_count": null,
      "outputs": []
    },
    {
      "cell_type": "code",
      "metadata": {
        "id": "pnuQLITy5kJD"
      },
      "source": [
        ""
      ],
      "execution_count": null,
      "outputs": []
    },
    {
      "cell_type": "code",
      "metadata": {
        "id": "yFZ3ylbT5kJD"
      },
      "source": [
        "from datetime import date\n",
        "import os \n",
        "import time\n",
        "import time\n",
        "\n",
        "local_time = time.localtime() # get struct_time\n",
        "time_string = time.strftime(\"%m/%d/%Y\", local_time)\n",
        "\n",
        "#print(time_string)\n",
        "\n",
        "  \n",
        "def Age(birthDate):\n",
        "    today = date.today()\n",
        "    age = today.year - birthDate.year - ((today.month, today.day) <(birthDate.month, birthDate.day))\n",
        "  \n",
        "    return age\n",
        "      \n",
        "# Driver code \n",
        "print(Age(date(1992, 4, 8)), \"years\")"
      ],
      "execution_count": null,
      "outputs": []
    },
    {
      "cell_type": "code",
      "metadata": {
        "id": "PGmQDF2s5kJE"
      },
      "source": [
        ""
      ],
      "execution_count": null,
      "outputs": []
    },
    {
      "cell_type": "code",
      "metadata": {
        "id": "YpetZ1CO5kJE"
      },
      "source": [
        "flights.dropna(axis=0)"
      ],
      "execution_count": null,
      "outputs": []
    },
    {
      "cell_type": "code",
      "metadata": {
        "id": "CNArbnB65kJF"
      },
      "source": [
        ""
      ],
      "execution_count": null,
      "outputs": []
    },
    {
      "cell_type": "code",
      "metadata": {
        "id": "asdof9El5kJF"
      },
      "source": [
        "flights['TotalDelay']= flights.arr_delay + flights.dep_delay"
      ],
      "execution_count": null,
      "outputs": []
    },
    {
      "cell_type": "code",
      "metadata": {
        "id": "DofrP-xK5kJF"
      },
      "source": [
        ""
      ],
      "execution_count": null,
      "outputs": []
    },
    {
      "cell_type": "code",
      "metadata": {
        "id": "b4qXi08F5kJF"
      },
      "source": [
        "flights['TotalDelay']=flights['TotalDelay'].dropna(axis=0)\n",
        "flights['TotalDelay']"
      ],
      "execution_count": null,
      "outputs": []
    },
    {
      "cell_type": "code",
      "metadata": {
        "id": "g4Fz8k2C5kJG"
      },
      "source": [
        "#flights['TotalDelaylessthan3']=flights['TotalDelay']<3\n",
        "flights.dest"
      ],
      "execution_count": null,
      "outputs": []
    },
    {
      "cell_type": "code",
      "metadata": {
        "id": "84UmHoSc5kJG"
      },
      "source": [
        "flights.loc[flights.TotalDelay <3,:]"
      ],
      "execution_count": null,
      "outputs": []
    },
    {
      "cell_type": "code",
      "metadata": {
        "id": "28nQJOca5kJG"
      },
      "source": [
        "flights.carrier"
      ],
      "execution_count": null,
      "outputs": []
    },
    {
      "cell_type": "code",
      "metadata": {
        "id": "wZawUahE5kJH"
      },
      "source": [
        "print(flights.loc[flights['carrier'].isin(['UA','AA','DL'])])"
      ],
      "execution_count": null,
      "outputs": []
    },
    {
      "cell_type": "code",
      "metadata": {
        "id": "SUcN2UDb5kJH"
      },
      "source": [
        "flights.TotalDelay"
      ],
      "execution_count": null,
      "outputs": []
    },
    {
      "cell_type": "code",
      "metadata": {
        "id": "RzocKv6O5kJH"
      },
      "source": [
        "flights['dest']"
      ],
      "execution_count": null,
      "outputs": []
    },
    {
      "cell_type": "code",
      "metadata": {
        "id": "B9gB9UZB5kJH"
      },
      "source": [
        "flights.set_index('month')"
      ],
      "execution_count": null,
      "outputs": []
    },
    {
      "cell_type": "code",
      "metadata": {
        "scrolled": true,
        "id": "34JEfjX_5kJI"
      },
      "source": [
        "#flights.rename(index = {\"1\": \"JAN\", \"2\":\"FEB\"},inplace =True,axis=0)"
      ],
      "execution_count": null,
      "outputs": []
    },
    {
      "cell_type": "code",
      "metadata": {
        "id": "gtJQKLx75kJI"
      },
      "source": [
        "data=flights\n",
        "data.set_index('month')\n",
        "#data.rename(index={'1': \"JAN\", '2':\"FEB\",'3':'MAR','4':'APR','5':'MAY','6':'JUNE','7':'JUL','8':'AUG','9':'SEP'},inplace=True)\n",
        "data"
      ],
      "execution_count": null,
      "outputs": []
    },
    {
      "cell_type": "code",
      "metadata": {
        "id": "EkGVkZEX5kJI"
      },
      "source": [
        "data.month.rename({'1': \"JAN\", '2':\"FEB\",'3':'MAR','4':'APR','5':'MAY','6':'JUNE','7':'JUL','8':'AUG','9':'SEP'},axis=0,inplace=True)"
      ],
      "execution_count": null,
      "outputs": []
    },
    {
      "cell_type": "code",
      "metadata": {
        "id": "IxC4Bf195kJJ"
      },
      "source": [
        "# Arrived more than two hours late, but didn???t leave late\n",
        "flights.loc[(flights.dep_delay<1) & (flights.arr_delay>2)]\n"
      ],
      "execution_count": null,
      "outputs": []
    },
    {
      "cell_type": "code",
      "metadata": {
        "scrolled": true,
        "id": "2oA6P1bT5kJJ"
      },
      "source": [
        "data"
      ],
      "execution_count": null,
      "outputs": []
    },
    {
      "cell_type": "code",
      "metadata": {
        "id": "3PU3elIN5kJJ"
      },
      "source": [
        "print(data.loc[data['month'].isin(['7','8','9'])])1"
      ],
      "execution_count": null,
      "outputs": []
    },
    {
      "cell_type": "code",
      "metadata": {
        "id": "yslOhqMl5kJK"
      },
      "source": [
        "#data.set_index(month)\n",
        "#data.month.rename({'1': 'Jan', '2': 'Feb'})"
      ],
      "execution_count": null,
      "outputs": []
    },
    {
      "cell_type": "code",
      "metadata": {
        "id": "ICxep4Z05kJK"
      },
      "source": [
        "print(flights.loc[flights['dest'].isin(['IAH','HOU'])])"
      ],
      "execution_count": null,
      "outputs": []
    },
    {
      "cell_type": "code",
      "metadata": {
        "scrolled": true,
        "id": "4nbcoVQL5kJK"
      },
      "source": [
        "#Were delayed by at least an hour, but made up over 30 minutes in flight\n",
        "flights.head()\n",
        "flights.flight.loc[(flights.dep_delay>1) & (flights.minute>30)]"
      ],
      "execution_count": null,
      "outputs": []
    },
    {
      "cell_type": "code",
      "metadata": {
        "id": "9DIxhrgq5kJL",
        "outputId": "03bd7cd3-6610-481f-b47e-5873168495b3"
      },
      "source": [
        "!pip install datestr\n",
        "from datestr import Date"
      ],
      "execution_count": null,
      "outputs": [
        {
          "output_type": "stream",
          "text": [
            "Requirement already satisfied: datestr in c:\\users\\dell\\anaconda3\\lib\\site-packages (0.1.0)\n",
            "Requirement already satisfied: future in c:\\users\\dell\\anaconda3\\lib\\site-packages (from datestr) (0.18.2)\n",
            "Requirement already satisfied: python-dateutil in c:\\users\\dell\\anaconda3\\lib\\site-packages (from datestr) (2.8.1)\n",
            "Requirement already satisfied: six>=1.5 in c:\\users\\dell\\anaconda3\\lib\\site-packages (from python-dateutil->datestr) (1.15.0)\n"
          ],
          "name": "stdout"
        }
      ]
    },
    {
      "cell_type": "code",
      "metadata": {
        "id": "XS7YdMZ75kJL",
        "outputId": "51652d5a-f4f6-4d9d-b399-9aa23bfcf09d"
      },
      "source": [
        "flights.time_hour=pd.to_datetime(flights.time_hour)\n",
        "flights.time_hour\n",
        "\n",
        "\n",
        "\n",
        "# from datetime import datetime, timezone\n",
        "# datetime(flights.time_hour, tzinfo=timezone.utc).isoformat()"
      ],
      "execution_count": null,
      "outputs": [
        {
          "output_type": "execute_result",
          "data": {
            "text/plain": [
              "0        2013-01-01 10:00:00+00:00\n",
              "1        2013-01-01 10:00:00+00:00\n",
              "2        2013-01-01 10:00:00+00:00\n",
              "3        2013-01-01 10:00:00+00:00\n",
              "4        2013-01-01 11:00:00+00:00\n",
              "                    ...           \n",
              "336771   2013-09-30 18:00:00+00:00\n",
              "336772   2013-10-01 02:00:00+00:00\n",
              "336773   2013-09-30 16:00:00+00:00\n",
              "336774   2013-09-30 15:00:00+00:00\n",
              "336775   2013-09-30 12:00:00+00:00\n",
              "Name: time_hour, Length: 336776, dtype: datetime64[ns, UTC]"
            ]
          },
          "metadata": {
            "tags": []
          },
          "execution_count": 78
        }
      ]
    },
    {
      "cell_type": "code",
      "metadata": {
        "id": "tTKkpl425kJM",
        "outputId": "c9190b88-7c86-4c0c-cc64-c29497d29159"
      },
      "source": [
        "flights.time_hour.dt.year"
      ],
      "execution_count": null,
      "outputs": [
        {
          "output_type": "execute_result",
          "data": {
            "text/plain": [
              "0         2013\n",
              "1         2013\n",
              "2         2013\n",
              "3         2013\n",
              "4         2013\n",
              "          ... \n",
              "336771    2013\n",
              "336772    2013\n",
              "336773    2013\n",
              "336774    2013\n",
              "336775    2013\n",
              "Name: time_hour, Length: 336776, dtype: int64"
            ]
          },
          "metadata": {
            "tags": []
          },
          "execution_count": 80
        }
      ]
    },
    {
      "cell_type": "code",
      "metadata": {
        "id": "fthBBHfG5kJM"
      },
      "source": [
        "flights.time_hour.dt.month"
      ],
      "execution_count": null,
      "outputs": []
    },
    {
      "cell_type": "code",
      "metadata": {
        "id": "akBkL3HJ5kJM"
      },
      "source": [
        "flights.time_hour.dt.day"
      ],
      "execution_count": null,
      "outputs": []
    },
    {
      "cell_type": "code",
      "metadata": {
        "id": "CjKbKvU55kJN"
      },
      "source": [
        "flights['hour']=flights.time_hour.dt.hour"
      ],
      "execution_count": null,
      "outputs": []
    },
    {
      "cell_type": "code",
      "metadata": {
        "id": "pPZDEwOG5kJN",
        "outputId": "dd167ab3-a71a-449a-d83b-031527429fe4"
      },
      "source": [
        "flights.hour\n",
        "flight_mid_night_six=flights.loc[(flights.hour>0) & (flights.hour<6)]\n",
        "flight_mid_night_six\n",
        "# Departed between midnight and 6am (inclusive)"
      ],
      "execution_count": null,
      "outputs": [
        {
          "output_type": "execute_result",
          "data": {
            "text/html": [
              "<div>\n",
              "<style scoped>\n",
              "    .dataframe tbody tr th:only-of-type {\n",
              "        vertical-align: middle;\n",
              "    }\n",
              "\n",
              "    .dataframe tbody tr th {\n",
              "        vertical-align: top;\n",
              "    }\n",
              "\n",
              "    .dataframe thead th {\n",
              "        text-align: right;\n",
              "    }\n",
              "</style>\n",
              "<table border=\"1\" class=\"dataframe\">\n",
              "  <thead>\n",
              "    <tr style=\"text-align: right;\">\n",
              "      <th></th>\n",
              "      <th>year</th>\n",
              "      <th>month</th>\n",
              "      <th>day</th>\n",
              "      <th>dep_time</th>\n",
              "      <th>sched_dep_time</th>\n",
              "      <th>dep_delay</th>\n",
              "      <th>arr_time</th>\n",
              "      <th>sched_arr_time</th>\n",
              "      <th>arr_delay</th>\n",
              "      <th>carrier</th>\n",
              "      <th>flight</th>\n",
              "      <th>tailnum</th>\n",
              "      <th>origin</th>\n",
              "      <th>dest</th>\n",
              "      <th>air_time</th>\n",
              "      <th>distance</th>\n",
              "      <th>hour</th>\n",
              "      <th>minute</th>\n",
              "      <th>time_hour</th>\n",
              "    </tr>\n",
              "  </thead>\n",
              "  <tbody>\n",
              "    <tr>\n",
              "      <th>734</th>\n",
              "      <td>2013</td>\n",
              "      <td>1</td>\n",
              "      <td>1</td>\n",
              "      <td>1952.0</td>\n",
              "      <td>2000</td>\n",
              "      <td>-8.0</td>\n",
              "      <td>2314.0</td>\n",
              "      <td>2325</td>\n",
              "      <td>-11.0</td>\n",
              "      <td>VX</td>\n",
              "      <td>415</td>\n",
              "      <td>N640VA</td>\n",
              "      <td>JFK</td>\n",
              "      <td>LAX</td>\n",
              "      <td>349.0</td>\n",
              "      <td>2475</td>\n",
              "      <td>1</td>\n",
              "      <td>0</td>\n",
              "      <td>2013-01-02 01:00:00+00:00</td>\n",
              "    </tr>\n",
              "    <tr>\n",
              "      <th>736</th>\n",
              "      <td>2013</td>\n",
              "      <td>1</td>\n",
              "      <td>1</td>\n",
              "      <td>1955.0</td>\n",
              "      <td>2000</td>\n",
              "      <td>-5.0</td>\n",
              "      <td>2145.0</td>\n",
              "      <td>2151</td>\n",
              "      <td>-6.0</td>\n",
              "      <td>9E</td>\n",
              "      <td>3409</td>\n",
              "      <td>N920XJ</td>\n",
              "      <td>JFK</td>\n",
              "      <td>PIT</td>\n",
              "      <td>76.0</td>\n",
              "      <td>340</td>\n",
              "      <td>1</td>\n",
              "      <td>0</td>\n",
              "      <td>2013-01-02 01:00:00+00:00</td>\n",
              "    </tr>\n",
              "    <tr>\n",
              "      <th>737</th>\n",
              "      <td>2013</td>\n",
              "      <td>1</td>\n",
              "      <td>1</td>\n",
              "      <td>1957.0</td>\n",
              "      <td>2005</td>\n",
              "      <td>-8.0</td>\n",
              "      <td>2100.0</td>\n",
              "      <td>2126</td>\n",
              "      <td>-26.0</td>\n",
              "      <td>9E</td>\n",
              "      <td>4091</td>\n",
              "      <td>N8598B</td>\n",
              "      <td>JFK</td>\n",
              "      <td>BWI</td>\n",
              "      <td>41.0</td>\n",
              "      <td>184</td>\n",
              "      <td>1</td>\n",
              "      <td>5</td>\n",
              "      <td>2013-01-02 01:00:00+00:00</td>\n",
              "    </tr>\n",
              "    <tr>\n",
              "      <th>739</th>\n",
              "      <td>2013</td>\n",
              "      <td>1</td>\n",
              "      <td>1</td>\n",
              "      <td>1957.0</td>\n",
              "      <td>2000</td>\n",
              "      <td>-3.0</td>\n",
              "      <td>2321.0</td>\n",
              "      <td>2310</td>\n",
              "      <td>11.0</td>\n",
              "      <td>UA</td>\n",
              "      <td>299</td>\n",
              "      <td>N817UA</td>\n",
              "      <td>EWR</td>\n",
              "      <td>DFW</td>\n",
              "      <td>233.0</td>\n",
              "      <td>1372</td>\n",
              "      <td>1</td>\n",
              "      <td>0</td>\n",
              "      <td>2013-01-02 01:00:00+00:00</td>\n",
              "    </tr>\n",
              "    <tr>\n",
              "      <th>741</th>\n",
              "      <td>2013</td>\n",
              "      <td>1</td>\n",
              "      <td>1</td>\n",
              "      <td>1959.0</td>\n",
              "      <td>2000</td>\n",
              "      <td>-1.0</td>\n",
              "      <td>2310.0</td>\n",
              "      <td>2307</td>\n",
              "      <td>3.0</td>\n",
              "      <td>UA</td>\n",
              "      <td>1233</td>\n",
              "      <td>N76514</td>\n",
              "      <td>EWR</td>\n",
              "      <td>IAH</td>\n",
              "      <td>232.0</td>\n",
              "      <td>1400</td>\n",
              "      <td>1</td>\n",
              "      <td>0</td>\n",
              "      <td>2013-01-02 01:00:00+00:00</td>\n",
              "    </tr>\n",
              "    <tr>\n",
              "      <th>...</th>\n",
              "      <td>...</td>\n",
              "      <td>...</td>\n",
              "      <td>...</td>\n",
              "      <td>...</td>\n",
              "      <td>...</td>\n",
              "      <td>...</td>\n",
              "      <td>...</td>\n",
              "      <td>...</td>\n",
              "      <td>...</td>\n",
              "      <td>...</td>\n",
              "      <td>...</td>\n",
              "      <td>...</td>\n",
              "      <td>...</td>\n",
              "      <td>...</td>\n",
              "      <td>...</td>\n",
              "      <td>...</td>\n",
              "      <td>...</td>\n",
              "      <td>...</td>\n",
              "      <td>...</td>\n",
              "    </tr>\n",
              "    <tr>\n",
              "      <th>336766</th>\n",
              "      <td>2013</td>\n",
              "      <td>9</td>\n",
              "      <td>30</td>\n",
              "      <td>2240.0</td>\n",
              "      <td>2250</td>\n",
              "      <td>-10.0</td>\n",
              "      <td>2347.0</td>\n",
              "      <td>7</td>\n",
              "      <td>-20.0</td>\n",
              "      <td>B6</td>\n",
              "      <td>2002</td>\n",
              "      <td>N281JB</td>\n",
              "      <td>JFK</td>\n",
              "      <td>BUF</td>\n",
              "      <td>52.0</td>\n",
              "      <td>301</td>\n",
              "      <td>2</td>\n",
              "      <td>50</td>\n",
              "      <td>2013-10-01 02:00:00+00:00</td>\n",
              "    </tr>\n",
              "    <tr>\n",
              "      <th>336767</th>\n",
              "      <td>2013</td>\n",
              "      <td>9</td>\n",
              "      <td>30</td>\n",
              "      <td>2241.0</td>\n",
              "      <td>2246</td>\n",
              "      <td>-5.0</td>\n",
              "      <td>2345.0</td>\n",
              "      <td>1</td>\n",
              "      <td>-16.0</td>\n",
              "      <td>B6</td>\n",
              "      <td>486</td>\n",
              "      <td>N346JB</td>\n",
              "      <td>JFK</td>\n",
              "      <td>ROC</td>\n",
              "      <td>47.0</td>\n",
              "      <td>264</td>\n",
              "      <td>2</td>\n",
              "      <td>46</td>\n",
              "      <td>2013-10-01 02:00:00+00:00</td>\n",
              "    </tr>\n",
              "    <tr>\n",
              "      <th>336768</th>\n",
              "      <td>2013</td>\n",
              "      <td>9</td>\n",
              "      <td>30</td>\n",
              "      <td>2307.0</td>\n",
              "      <td>2255</td>\n",
              "      <td>12.0</td>\n",
              "      <td>2359.0</td>\n",
              "      <td>2358</td>\n",
              "      <td>1.0</td>\n",
              "      <td>B6</td>\n",
              "      <td>718</td>\n",
              "      <td>N565JB</td>\n",
              "      <td>JFK</td>\n",
              "      <td>BOS</td>\n",
              "      <td>33.0</td>\n",
              "      <td>187</td>\n",
              "      <td>2</td>\n",
              "      <td>55</td>\n",
              "      <td>2013-10-01 02:00:00+00:00</td>\n",
              "    </tr>\n",
              "    <tr>\n",
              "      <th>336769</th>\n",
              "      <td>2013</td>\n",
              "      <td>9</td>\n",
              "      <td>30</td>\n",
              "      <td>2349.0</td>\n",
              "      <td>2359</td>\n",
              "      <td>-10.0</td>\n",
              "      <td>325.0</td>\n",
              "      <td>350</td>\n",
              "      <td>-25.0</td>\n",
              "      <td>B6</td>\n",
              "      <td>745</td>\n",
              "      <td>N516JB</td>\n",
              "      <td>JFK</td>\n",
              "      <td>PSE</td>\n",
              "      <td>196.0</td>\n",
              "      <td>1617</td>\n",
              "      <td>3</td>\n",
              "      <td>59</td>\n",
              "      <td>2013-10-01 03:00:00+00:00</td>\n",
              "    </tr>\n",
              "    <tr>\n",
              "      <th>336772</th>\n",
              "      <td>2013</td>\n",
              "      <td>9</td>\n",
              "      <td>30</td>\n",
              "      <td>NaN</td>\n",
              "      <td>2200</td>\n",
              "      <td>NaN</td>\n",
              "      <td>NaN</td>\n",
              "      <td>2312</td>\n",
              "      <td>NaN</td>\n",
              "      <td>9E</td>\n",
              "      <td>3525</td>\n",
              "      <td>NaN</td>\n",
              "      <td>LGA</td>\n",
              "      <td>SYR</td>\n",
              "      <td>NaN</td>\n",
              "      <td>198</td>\n",
              "      <td>2</td>\n",
              "      <td>0</td>\n",
              "      <td>2013-10-01 02:00:00+00:00</td>\n",
              "    </tr>\n",
              "  </tbody>\n",
              "</table>\n",
              "<p>20103 rows × 19 columns</p>\n",
              "</div>"
            ],
            "text/plain": [
              "        year  month  day  dep_time  sched_dep_time  dep_delay  arr_time  \\\n",
              "734     2013      1    1    1952.0            2000       -8.0    2314.0   \n",
              "736     2013      1    1    1955.0            2000       -5.0    2145.0   \n",
              "737     2013      1    1    1957.0            2005       -8.0    2100.0   \n",
              "739     2013      1    1    1957.0            2000       -3.0    2321.0   \n",
              "741     2013      1    1    1959.0            2000       -1.0    2310.0   \n",
              "...      ...    ...  ...       ...             ...        ...       ...   \n",
              "336766  2013      9   30    2240.0            2250      -10.0    2347.0   \n",
              "336767  2013      9   30    2241.0            2246       -5.0    2345.0   \n",
              "336768  2013      9   30    2307.0            2255       12.0    2359.0   \n",
              "336769  2013      9   30    2349.0            2359      -10.0     325.0   \n",
              "336772  2013      9   30       NaN            2200        NaN       NaN   \n",
              "\n",
              "        sched_arr_time  arr_delay carrier  flight tailnum origin dest  \\\n",
              "734               2325      -11.0      VX     415  N640VA    JFK  LAX   \n",
              "736               2151       -6.0      9E    3409  N920XJ    JFK  PIT   \n",
              "737               2126      -26.0      9E    4091  N8598B    JFK  BWI   \n",
              "739               2310       11.0      UA     299  N817UA    EWR  DFW   \n",
              "741               2307        3.0      UA    1233  N76514    EWR  IAH   \n",
              "...                ...        ...     ...     ...     ...    ...  ...   \n",
              "336766               7      -20.0      B6    2002  N281JB    JFK  BUF   \n",
              "336767               1      -16.0      B6     486  N346JB    JFK  ROC   \n",
              "336768            2358        1.0      B6     718  N565JB    JFK  BOS   \n",
              "336769             350      -25.0      B6     745  N516JB    JFK  PSE   \n",
              "336772            2312        NaN      9E    3525     NaN    LGA  SYR   \n",
              "\n",
              "        air_time  distance  hour  minute                 time_hour  \n",
              "734        349.0      2475     1       0 2013-01-02 01:00:00+00:00  \n",
              "736         76.0       340     1       0 2013-01-02 01:00:00+00:00  \n",
              "737         41.0       184     1       5 2013-01-02 01:00:00+00:00  \n",
              "739        233.0      1372     1       0 2013-01-02 01:00:00+00:00  \n",
              "741        232.0      1400     1       0 2013-01-02 01:00:00+00:00  \n",
              "...          ...       ...   ...     ...                       ...  \n",
              "336766      52.0       301     2      50 2013-10-01 02:00:00+00:00  \n",
              "336767      47.0       264     2      46 2013-10-01 02:00:00+00:00  \n",
              "336768      33.0       187     2      55 2013-10-01 02:00:00+00:00  \n",
              "336769     196.0      1617     3      59 2013-10-01 03:00:00+00:00  \n",
              "336772       NaN       198     2       0 2013-10-01 02:00:00+00:00  \n",
              "\n",
              "[20103 rows x 19 columns]"
            ]
          },
          "metadata": {
            "tags": []
          },
          "execution_count": 89
        }
      ]
    },
    {
      "cell_type": "code",
      "metadata": {
        "id": "NzL5dz5R5kJN"
      },
      "source": [
        "# # time = flights.time_hour\n",
        "# # new_time_stamp=datestr(time,'yyyy-mm-ddTHH:MM:SSZ')\n",
        "# # #2013-01-01T10:00:00Z\n",
        "\n",
        "# from datestr import Date\n",
        "# from datetime import datetime, date\n",
        "# # Date(str(flights.time_hour)).relativedelta()\n",
        "# # # >>> '2018-06-03'\n",
        "# # Date(datetime(2018, 6, 3, 12, 15, 30)).relativedelta() \n"
      ],
      "execution_count": null,
      "outputs": []
    },
    {
      "cell_type": "code",
      "metadata": {
        "id": "xhS414YV5kJO"
      },
      "source": [
        "#!pip install python-dateutil\n",
        "\n",
        "# from dateutil.parser import parse \n",
        "# dt = parse(str(flights.time_hour))\n",
        "# dt.year\n",
        "\n",
        "# dt.month\n",
        "\n",
        "# dt.day\n",
        "\n",
        "# dt.hour\n",
        "\n",
        "# dt.minute\n",
        "\n",
        "# dt.second"
      ],
      "execution_count": null,
      "outputs": []
    },
    {
      "cell_type": "code",
      "metadata": {
        "id": "k_hYwMRU5kJO"
      },
      "source": [
        "# Departed between midnight and 6am (inclusive)\n",
        "flights.head()\n",
        "#flights.loc[(flights.time_hour>=12) and (flights.time_hour<=6)]\n",
        "\n",
        "from datetime import datetime\n",
        "from datetime import date\n",
        "from datetime import time\n",
        "import pandas as pd\n",
        "from datetime import datetime\n",
        "\n",
        "# flights.time_hour = flights['time_hour'].str.split(n=1, expand=True)\n",
        "\n",
        "# flights.time_hour\n",
        "\n",
        "\n",
        "# flights['time_hour']\n",
        "\n",
        "# flights['date'] = pd.split(flights['time_hour'], periods=6, freq='W')\n",
        "# print(flights['date'])\n",
        "\n",
        "#flights['time_hour'] = pd.to_datetime(flights['time_hour']).dt.date\n",
        "# pd.to_datetime(flights['time_hour'])\n",
        "# pd.to_datetime(your_series)\n",
        "# type(flights['time_hour'])\n",
        "# flights['time_hour']\n",
        "#pd.to_datetime(flights['time_hour'])\n",
        "# print(flights.time_hour.head())\n",
        "# Series.to_string(flights['time_hour'])\n",
        "#flights['time_hour'] = pd.Series(flights['time_hour'], dtype=pd.StringDtype)\n",
        "# Considering date is in mm/dd/yyyy format\n",
        "# dt_object2 = datetime.strptime(dt_string, \"%m/%d/%Y %H:%M:%S\")\n",
        "# print(\"dt_object2:\", dt_object2)\n",
        "\n",
        "# # Convert dt_object2 to Unix Timestamp\n",
        "# timestamp = datetime.timestamp(dt_object2)\n",
        "# print('Unix Timestamp: ', timestamp)\n",
        "\n",
        "# # Convert back into datetime\n",
        "# date_time = datetime.fromtimestamp(timestamp)\n",
        "# d = date_time.strftime(\"%c\")\n",
        "# print(\"Output 1:\", d)\n",
        "# d = date_time.strftime(\"%x\")\n",
        "# print(\"Output 2:\", d)\n",
        "# d = date_time.strftime(\"%X\")\n",
        "# print(\"Output 3:\", d)\n",
        "\n",
        "\n",
        "\n",
        "# my_string = flights.time_hour\n",
        "\n",
        "# # Create date object in given time format yyyy-mm-dd\n",
        "# my_date = datetime.strptime(my_string, \"%Y-%m-%d %H:%M:%S\")\n",
        "\n",
        "# print(my_date)\n",
        "# print('Type: ',type(my_date))\n",
        "\n",
        "# dt_series=flights.time_hour\n",
        "# dt_string=datetime(dt_series)\n",
        "# #dt_string=datetime.strptime(flights.time_hour,'%Y/%m/%d %H:%M:%S')\n",
        "# type(dt_string)\n",
        "\n",
        "# # Considering date is in dd/mm/yyyy format\n",
        "# dt_object1 = datetime.strptime(dt_string, \"%H:%M:%S\")\n",
        "# print(\"dt_object1 =\", dt_object1)\n",
        "\n",
        "# Considering date is in mm/dd/yyyy format\n",
        "# dt_object2 = datetime.strptime(dt_string, \"%m/%d/%Y %H:%M:%S\")\n",
        "# print(\"dt_object2 =\", dt_object2)"
      ],
      "execution_count": null,
      "outputs": []
    },
    {
      "cell_type": "code",
      "metadata": {
        "id": "W5n5CjMX5kJR"
      },
      "source": [
        "\n",
        "# Q1. Write a function that given your birthday (as a date), returns how old you are in years.\n",
        "# Ans1 \n",
        "from datetime import date\n",
        "import os \n",
        "import time\n",
        "import time\n",
        "\n",
        "local_time = time.localtime() # get struct_time\n",
        "time_string = time.strftime(\"%m/%d/%Y\", local_time)\n",
        "\n",
        "#print(time_string)\n",
        "\n",
        "  \n",
        "def Age(birthDate):\n",
        "    today = date.today()\n",
        "    age = today.year - birthDate.year - ((today.month, today.day) <(birthDate.month, birthDate.day))\n",
        "  \n",
        "    return age\n",
        "      \n",
        "# Driver code \n",
        "print(Age(date(1992, 4, 8)), \"years\")\n",
        "\n",
        "### Ans1 Ends ####\n",
        "\n",
        "# Q2. What happens if you parse a string that contains invalid dates? Ex: ymd(c(\"2010-10-10\", \"bananas\"))\n",
        "# Ans2 ymd(c(\"2010-10-10\", \"bananas\"))\n",
        "'''\n",
        "It returns the parsed object as a Date object (so it parses it) but returns the failed string as NA.\n",
        "\n",
        "'''\n",
        "\n",
        "### Ans2 Ends ####\n",
        "\n",
        "# Q3. How do you import default dataset presend in R to work session\n",
        "# Ans3 In Python \n",
        "\n",
        "!pip install nycflights13\n",
        "from nycflights13 import flights\n",
        "\n",
        "# Ans3 Ends\n",
        "\n",
        "###########################################################\n",
        "#### Using the flights data, Find all the flights that ####\n",
        "#### Instruction: Paste just the query which gives the correct output ##\n",
        "\n",
        "# Q4. Had an delay in arrival of 3 or less hours\n",
        "# Ans4 \n",
        "flights['TotalDelay']= flights.arr_delay + flights.dep_delay\n",
        "flights['TotalDelay']=flights['TotalDelay'].dropna(axis=0)\n",
        "flights['TotalDelay']\n",
        "flights.flight.loc[flights.TotalDelay <3,:]\n",
        "\n",
        "\n",
        "# Ans4 Ends\n",
        "\n",
        "# Q5. Flew to Houston (IAH or HOU)\n",
        "# Ans5\n",
        "print(flights.flight.loc[flights['dest'].isin(['IAH','HOU'])])\n",
        "# Ans5 Ends\n",
        "\n",
        "#Q6. Were operated by United, American, or Delta\n",
        "# Ans6\n",
        "print(flights.flight.loc[flights['carrier'].isin(['UA','AA','DL'])])\n",
        "\n",
        "# Ans6 Ends\n",
        "\n",
        "# Q7. Departed in summer (July, August, and September)\n",
        "# Ans 7 \n",
        "data=flights\n",
        "print(data.flight.loc[data['month'].isin(['7','8','9'])])\n",
        "\n",
        "\n",
        "# Ans7 Ends\n",
        "\n",
        "# Q8. Arrived more than two hours late, but didn???t leave late\n",
        "# Ans8\n",
        "# Arrived more than two hours late, but didn???t leave late\n",
        "flights.flight.loc[(flights.dep_delay<1) & (flights.arr_delay>2)]\n",
        "\n",
        "\n",
        "\n",
        "# Ans8 Ends\n",
        "\n",
        "# Q9. Were delayed by at least an hour, but made up over 30 minutes in flight\n",
        "# Ans9\n",
        "flights.flight.loc[(flights.dep_delay>1) & (flights.minute>30)]\n",
        "\n",
        "# Ans9 Ends\n",
        "\n",
        "#Q10. Departed between midnight and 6am (inclusive)\n",
        "#Ans10\n",
        "flights.time_hour=pd.to_datetime(flights.time_hour)\n",
        "flights.time_hour\n",
        "flights['hour']=flights.time_hour.dt.hour\n",
        "flights.hour\n",
        "flight_mid_night_six=flights.flight.loc[(flights.hour>0) & (flights.hour<6)] ##  24 hour time format is given >0 means midnight time <6 means upto 6 o'clock morning time \n",
        "flight_mid_night_six\n",
        "# Departed between midnight and 6am (inclusive)\n",
        "\n",
        "#Ans 10 Ends\n"
      ],
      "execution_count": null,
      "outputs": []
    }
  ]
}