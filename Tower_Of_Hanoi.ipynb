{
  "nbformat": 4,
  "nbformat_minor": 0,
  "metadata": {
    "colab": {
      "name": "Tower_Of_Hanoi.ipynb",
      "provenance": [],
      "authorship_tag": "ABX9TyMb4ZBSs54u3R+ZnVa3biDr",
      "include_colab_link": true
    },
    "kernelspec": {
      "name": "python3",
      "display_name": "Python 3"
    }
  },
  "cells": [
    {
      "cell_type": "markdown",
      "metadata": {
        "id": "view-in-github",
        "colab_type": "text"
      },
      "source": [
        "<a href=\"https://colab.research.google.com/github/jssaini7815/Basic-Python/blob/main/Tower_Of_Hanoi.ipynb\" target=\"_parent\"><img src=\"https://colab.research.google.com/assets/colab-badge.svg\" alt=\"Open In Colab\"/></a>"
      ]
    },
    {
      "cell_type": "code",
      "metadata": {
        "id": "xIZxfk1P9UQh"
      },
      "source": [
        "#Recursive Python function to solve tower of hanoi"
      ],
      "execution_count": 1,
      "outputs": []
    },
    {
      "cell_type": "code",
      "metadata": {
        "id": "Z6ZCmKOm9lO7"
      },
      "source": [
        "def TowerOfHanoi(n,from_rod,to_nod,aux_rod):\r\n",
        "  if n==1:\r\n",
        "    print(\"Move disk 1 from rod\",from_rod,\"to rod\",to_rod)\r\n",
        "    return \r\n",
        "  TowerOfHanoi(n-1,from_rod,aux_rod,to_rod)\r\n",
        "  print(\"Move disk \",n,\"from rod\",from_rod,'to rod',to_rod)\r\n",
        "  TowerOfHanoi(n-1,aux_rod,from_rod,to_rod)\r\n",
        "from_rod=[4,3,2,1]\r\n",
        "to_nod=[]\r\n",
        "aux_nod=[]\r\n",
        "#Driver code\r\n",
        "n=4\r\n",
        "TowerOfHanoi(n,'A','B','C')\r\n",
        "#A,C,B are the name of rods\r\n"
      ],
      "execution_count": null,
      "outputs": []
    }
  ]
}