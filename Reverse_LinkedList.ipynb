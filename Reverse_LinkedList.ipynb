{
  "nbformat": 4,
  "nbformat_minor": 0,
  "metadata": {
    "colab": {
      "name": "Reverse_LinkedList.ipynb",
      "provenance": [],
      "authorship_tag": "ABX9TyPb1oX6P5CLplStowQ3pZdF",
      "include_colab_link": true
    },
    "kernelspec": {
      "name": "python3",
      "display_name": "Python 3"
    }
  },
  "cells": [
    {
      "cell_type": "markdown",
      "metadata": {
        "id": "view-in-github",
        "colab_type": "text"
      },
      "source": [
        "<a href=\"https://colab.research.google.com/github/jssaini7815/Basic-Python/blob/main/Reverse_LinkedList.ipynb\" target=\"_parent\"><img src=\"https://colab.research.google.com/assets/colab-badge.svg\" alt=\"Open In Colab\"/></a>"
      ]
    },
    {
      "cell_type": "code",
      "metadata": {
        "id": "FJt4p0KijfHF"
      },
      "source": [
        "#Python program to reverse a linked list"
      ],
      "execution_count": null,
      "outputs": []
    },
    {
      "cell_type": "code",
      "metadata": {
        "id": "zVhefuAso5O9"
      },
      "source": [
        ""
      ],
      "execution_count": null,
      "outputs": []
    },
    {
      "cell_type": "markdown",
      "metadata": {
        "id": "pCinFhqWo7ZW"
      },
      "source": [
        "*Iterative Method *\r\n",
        "\r\n",
        "Initialize three pointers prev as NULL, curr as head and next as NULL.\r\n",
        "\r\n",
        "Iterate through the linked list. In loop, do following. \r\n",
        "\r\n",
        "// Before changing next of current, \r\n",
        "\r\n",
        "// store next node\r\n",
        "\r\n",
        "next = curr->next\r\n",
        "\r\n",
        "// Now change next of current \r\n",
        "\r\n",
        "// This is where actual reversing happens \r\n",
        "curr->next = prev\r\n",
        "\r\n",
        "// Move prev and curr one step forward\r\n",
        "\r\n",
        "prev = curr \r\n",
        "\r\n",
        "curr = next\r\n"
      ]
    },
    {
      "cell_type": "code",
      "metadata": {
        "id": "iKtAS0vOjuSh"
      },
      "source": [
        "#Time complexity:O(n)\r\n",
        "#Space Complexity:O(1)"
      ],
      "execution_count": null,
      "outputs": []
    },
    {
      "cell_type": "code",
      "metadata": {
        "colab": {
          "base_uri": "https://localhost:8080/"
        },
        "id": "guhrIECGj23j",
        "outputId": "2f318227-cdf9-4f15-d68d-91085db9caa2"
      },
      "source": [
        "#Node class\r\n",
        "\r\n",
        "class Node:\r\n",
        "  #Constructor to initialize the node object\r\n",
        "  def __init__(self,data):\r\n",
        "    self.data=data\r\n",
        "    self.next=None\r\n",
        "class LinkedList:\r\n",
        "  #Function to initialize head\r\n",
        "  def __init__(self):\r\n",
        "    self.head=None\r\n",
        "  \r\n",
        "  #Function to reverse the linked list\r\n",
        "  def reverse(self):\r\n",
        "    prev=None\r\n",
        "    current=self.head\r\n",
        "    while(current is not None):\r\n",
        "      next=current.next\r\n",
        "      current.next=prev\r\n",
        "      prev=current\r\n",
        "      current= next\r\n",
        "    self.head=prev\r\n",
        "  # Function to insert a new node at the beginning\r\n",
        "  def push(self,new_data):\r\n",
        "    new_node=Node(new_data)\r\n",
        "    new_node.next=self.head\r\n",
        "    self.head=new_node\r\n",
        "  # Utility function to print the linked linked list\r\n",
        "  def printList(self):\r\n",
        "    temp=self.head\r\n",
        "    while(temp):\r\n",
        "      print(temp.data)\r\n",
        "      temp=temp.next\r\n",
        "\r\n",
        "#Driver code\r\n",
        "llist=LinkedList()\r\n",
        "llist.push(20)\r\n",
        "llist.push(25)\r\n",
        "llist.push(30)\r\n",
        "llist.push(57)\r\n",
        "\r\n",
        "print(\"Given Linked List\")\r\n",
        "llist.printList()\r\n",
        "llist.reverse()\r\n",
        "\r\n",
        "print(\"\\nReversed Linked List\")\r\n",
        "llist.printList()"
      ],
      "execution_count": 4,
      "outputs": [
        {
          "output_type": "stream",
          "text": [
            "Given Linked List\n",
            "57\n",
            "30\n",
            "25\n",
            "20\n",
            "\n",
            "Reversed Linked List\n",
            "20\n",
            "25\n",
            "30\n",
            "57\n"
          ],
          "name": "stdout"
        }
      ]
    },
    {
      "cell_type": "code",
      "metadata": {
        "id": "okc18aRsoZXO"
      },
      "source": [
        ""
      ],
      "execution_count": null,
      "outputs": []
    },
    {
      "cell_type": "markdown",
      "metadata": {
        "id": "sPxmiTQHoalF"
      },
      "source": [
        "*Recursive Mehtod* \r\n",
        "  \r\n",
        "  1) Divide the list in two parts - first node and  rest of the linked list.\r\n",
        "   \r\n",
        "   2) Call reverse for the rest of the linked list.\r\n",
        "  \r\n",
        "   3) Link rest to first.\r\n",
        "  \r\n",
        "   4) Fix head pointer"
      ]
    },
    {
      "cell_type": "code",
      "metadata": {
        "colab": {
          "base_uri": "https://localhost:8080/"
        },
        "id": "uI1-H4ojosE6",
        "outputId": "9fcf5a11-3528-485d-94c0-4035017d21b5"
      },
      "source": [
        "'''\r\n",
        "Python3 program to reverse linked list using recursive method\r\n",
        "'''\r\n",
        "# Linked List Node\r\n",
        "class Node:\r\n",
        "  def __init__(self,data):\r\n",
        "    self.data=data\r\n",
        "    self.head=None\r\n",
        "#Create and Handle list operations \r\n",
        "class LinkedList:\r\n",
        "  def __init__(self):\r\n",
        "    self.head=None #Head of list\r\n",
        "  \r\n",
        "  # Method to reverse the list\r\n",
        "  def reverse(self,head):\r\n",
        "    # If head is empty or has reached the list end \r\n",
        "    if head is None or head.next is None:\r\n",
        "      return head\r\n",
        "    # Reverse the rest list\r\n",
        "    rest=self.reverse(head.next)\r\n",
        "    \r\n",
        "    # Put first element at the end\r\n",
        "    head.next.next=head\r\n",
        "    head.next=None\r\n",
        "\r\n",
        "    #Fix the header pointer\r\n",
        "    return rest\r\n",
        "\r\n",
        "# Returns the linked list in display format\r\n",
        "  def __str__(self):\r\n",
        "    linkedListStr=''\r\n",
        "    temp=self.head\r\n",
        "    while temp:\r\n",
        "      linkedListStr=(linkedListStr + str(temp.data) + \" \")\r\n",
        "      temp=temp.next\r\n",
        "    return linkedListStr\r\n",
        "\r\n",
        "#Pushes new data to the head of the list\r\n",
        "  def push(self,data):\r\n",
        "    temp=Node(data)\r\n",
        "    temp.next=self.head\r\n",
        "    self.head=temp\r\n",
        "\r\n",
        "# Driver code\r\n",
        "linkedList=LinkedList()\r\n",
        "linkedList.push(20)\r\n",
        "linkedList.push(4)\r\n",
        "linkedList.push(15)\r\n",
        "linkedList.push(39)\r\n",
        "linkedList.push(77)\r\n",
        "\r\n",
        "print(\"Given linked list\")\r\n",
        "print(linkedList)\r\n",
        "linkedList.head=linkedList.reverse(linkedList.head)\r\n",
        "print(\"Reversed linked list\")\r\n",
        "print(linkedList)\r\n"
      ],
      "execution_count": 7,
      "outputs": [
        {
          "output_type": "stream",
          "text": [
            "Given linked list\n",
            "77 39 15 4 20 \n",
            "Reversed linked list\n",
            "20 4 15 39 77 \n"
          ],
          "name": "stdout"
        }
      ]
    }
  ]
}