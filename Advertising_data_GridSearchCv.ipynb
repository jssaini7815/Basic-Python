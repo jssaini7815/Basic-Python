{
  "nbformat": 4,
  "nbformat_minor": 0,
  "metadata": {
    "colab": {
      "name": "Advertisign_dataGridSearchCv.ipynb",
      "provenance": [],
      "mount_file_id": "16TtJME05rJ0m_xhSu5GRDvT8DqGvFinj",
      "authorship_tag": "ABX9TyNxFPpmb54kv2qaR423dzWX",
      "include_colab_link": true
    },
    "kernelspec": {
      "name": "python3",
      "display_name": "Python 3"
    }
  },
  "cells": [
    {
      "cell_type": "markdown",
      "metadata": {
        "id": "view-in-github",
        "colab_type": "text"
      },
      "source": [
        "<a href=\"https://colab.research.google.com/github/jssaini7815/Basic-Python/blob/main/Advertising_data_GridSearchCv.ipynb\" target=\"_parent\"><img src=\"https://colab.research.google.com/assets/colab-badge.svg\" alt=\"Open In Colab\"/></a>"
      ]
    },
    {
      "cell_type": "code",
      "metadata": {
        "id": "0ov1Wg-cbhmC"
      },
      "source": [
        ""
      ],
      "execution_count": null,
      "outputs": []
    },
    {
      "cell_type": "markdown",
      "metadata": {
        "id": "FOtWXL7oghSP"
      },
      "source": [
        "Use GridSearchCV and select the best hyperparameter for Support Vector Machine\r\n"
      ]
    },
    {
      "cell_type": "code",
      "metadata": {
        "colab": {
          "base_uri": "https://localhost:8080/"
        },
        "id": "jSrFUxPCgty6",
        "outputId": "e6c6432f-d5e0-40bc-a624-43a729ac6b1c"
      },
      "source": [
        "import numpy as np\r\n",
        "import matplotlib.pyplot as plt\r\n",
        "import pandas as pd\r\n",
        "# Importing the dataset\r\n",
        "dataset=pd.read_csv('/content/drive/MyDrive/advertising.csv')\r\n",
        "dataset.columns\r\n",
        "X=dataset.drop('Clicked on Ad',axis=1)\r\n",
        "y=dataset.iloc[:,-1]\r\n",
        "X.info()\r\n"
      ],
      "execution_count": 62,
      "outputs": [
        {
          "output_type": "stream",
          "text": [
            "<class 'pandas.core.frame.DataFrame'>\n",
            "RangeIndex: 1000 entries, 0 to 999\n",
            "Data columns (total 9 columns):\n",
            " #   Column                    Non-Null Count  Dtype  \n",
            "---  ------                    --------------  -----  \n",
            " 0   Daily Time Spent on Site  1000 non-null   float64\n",
            " 1   Age                       1000 non-null   int64  \n",
            " 2   Area Income               1000 non-null   float64\n",
            " 3   Daily Internet Usage      1000 non-null   float64\n",
            " 4   Ad Topic Line             1000 non-null   object \n",
            " 5   City                      1000 non-null   object \n",
            " 6   Male                      1000 non-null   int64  \n",
            " 7   Country                   1000 non-null   object \n",
            " 8   Timestamp                 1000 non-null   object \n",
            "dtypes: float64(3), int64(2), object(4)\n",
            "memory usage: 70.4+ KB\n"
          ],
          "name": "stdout"
        }
      ]
    },
    {
      "cell_type": "code",
      "metadata": {
        "id": "7b5oYPWCiEJq"
      },
      "source": [
        "#Splitting the dataset into the Training set and Test set\r\n",
        "from sklearn.model_selection import train_test_split\r\n",
        "X_train,X_test,y_train,y_test=train_test_split(X,y,test_size=0.25,random_state=5)"
      ],
      "execution_count": 52,
      "outputs": []
    },
    {
      "cell_type": "code",
      "metadata": {
        "colab": {
          "base_uri": "https://localhost:8080/"
        },
        "id": "j_CUBpEotE6e",
        "outputId": "adb807fa-ca2b-4857-da89-24d74d2f8310"
      },
      "source": [
        "X_train"
      ],
      "execution_count": 64,
      "outputs": [
        {
          "output_type": "execute_result",
          "data": {
            "text/plain": [
              "array([[ 0.6009956 , -0.02443849,  1.16503507,  1.15718608, -0.97108454],\n",
              "       [-1.2718241 , -0.59365797, -1.20040692, -1.08133171,  1.02977646],\n",
              "       [ 0.56105543, -1.04903355,  0.99187243, -0.15419214, -0.97108454],\n",
              "       ...,\n",
              "       [ 0.30082023,  2.02475164,  0.21207976, -1.10202679, -0.97108454],\n",
              "       [ 0.74577873, -0.93518966,  0.82917501,  0.74673366, -0.97108454],\n",
              "       [ 1.61010905,  0.43093709, -0.64500401,  0.83480272, -0.97108454]])"
            ]
          },
          "metadata": {
            "tags": []
          },
          "execution_count": 64
        }
      ]
    },
    {
      "cell_type": "code",
      "metadata": {
        "id": "v0sdpeRGjHOO"
      },
      "source": [
        "#Feature scaling\r\n",
        "from sklearn.preprocessing import StandardScaler\r\n",
        "sc=StandardScaler()\r\n",
        "#X_train.drop(['Ad Topic Line','City','Country'],axis=1,inplace=True)\r\n",
        "X_train=sc.fit_transform(X_train)\r\n",
        "#X_train.drop(\"Timestamp\",axis=True,inplace=True)\r\n",
        "#X_test=sc.transform(X_test)\r\n",
        "X_test.drop(['Ad Topic Line','City',\"Country\",'Timestamp'],axis=1,inplace=True)"
      ],
      "execution_count": 69,
      "outputs": []
    },
    {
      "cell_type": "code",
      "metadata": {
        "colab": {
          "base_uri": "https://localhost:8080/"
        },
        "id": "wLgOmCVYj-i7",
        "outputId": "8e8fdac2-578f-430f-d54c-90b0c07e0588"
      },
      "source": [
        "# Fitting Kernel SVM to the Training Set\r\n",
        "from sklearn.svm import SVC\r\n",
        "classifier=SVC(kernel=\"linear\",random_state=0)\r\n",
        "classifier.fit(X_train,y_train)"
      ],
      "execution_count": 70,
      "outputs": [
        {
          "output_type": "execute_result",
          "data": {
            "text/plain": [
              "SVC(C=1.0, break_ties=False, cache_size=200, class_weight=None, coef0=0.0,\n",
              "    decision_function_shape='ovr', degree=3, gamma='scale', kernel='linear',\n",
              "    max_iter=-1, probability=False, random_state=0, shrinking=True, tol=0.001,\n",
              "    verbose=False)"
            ]
          },
          "metadata": {
            "tags": []
          },
          "execution_count": 70
        }
      ]
    },
    {
      "cell_type": "code",
      "metadata": {
        "id": "3dndxqd6lybN"
      },
      "source": [
        "#Predicting the test set results\r\n",
        "y_pred=classifier.predict(X_test)"
      ],
      "execution_count": 71,
      "outputs": []
    },
    {
      "cell_type": "code",
      "metadata": {
        "colab": {
          "base_uri": "https://localhost:8080/"
        },
        "id": "NVsNoMqboQVC",
        "outputId": "0d4ee53b-1e14-484f-ee0b-534e7b33f036"
      },
      "source": [
        "#Making the Confusion Matrix\r\n",
        "from sklearn.metrics import confusion_matrix\r\n",
        "cm=confusion_matrix(y_test,y_pred)\r\n",
        "cm"
      ],
      "execution_count": 79,
      "outputs": [
        {
          "output_type": "execute_result",
          "data": {
            "text/plain": [
              "array([[126,   0],\n",
              "       [124,   0]])"
            ]
          },
          "metadata": {
            "tags": []
          },
          "execution_count": 79
        }
      ]
    },
    {
      "cell_type": "code",
      "metadata": {
        "id": "UoW5EfW-t4xT"
      },
      "source": [
        "from sklearn.metrics import accuracy_score\r\n",
        "accuracy=accuracy_score(y_test,y_pred)"
      ],
      "execution_count": 73,
      "outputs": []
    },
    {
      "cell_type": "code",
      "metadata": {
        "colab": {
          "base_uri": "https://localhost:8080/"
        },
        "id": "JCdk6V4xuEU1",
        "outputId": "11b3b7ca-1af7-4c3c-c3f5-e692df0f3f47"
      },
      "source": [
        "accuracy"
      ],
      "execution_count": 74,
      "outputs": [
        {
          "output_type": "execute_result",
          "data": {
            "text/plain": [
              "0.504"
            ]
          },
          "metadata": {
            "tags": []
          },
          "execution_count": 74
        }
      ]
    },
    {
      "cell_type": "code",
      "metadata": {
        "id": "GUbs94flkfVT"
      },
      "source": [
        "# Applying Grid Search to find the best model and the best parameters\r\n",
        "from sklearn.model_selection import GridSearchCV\r\n",
        "parameters=[{'C':[1,10,100,1000],'kernel':['linear','rbf','sigmoid'],\r\n",
        "             'gamma':[.01,.1,.5,.4,.9]}]\r\n",
        "grid_search=GridSearchCV(estimator=classifier,param_grid=parameters,scoring='accuracy',cv=10,n_jobs=-1)\r\n",
        "\r\n",
        "grid_search=grid_search.fit(X_train,y_train)      "
      ],
      "execution_count": 76,
      "outputs": []
    },
    {
      "cell_type": "code",
      "metadata": {
        "id": "ymOFo7QxwS9s"
      },
      "source": [
        "accuracy=grid_search.best_score_\r\n"
      ],
      "execution_count": 77,
      "outputs": []
    },
    {
      "cell_type": "code",
      "metadata": {
        "colab": {
          "base_uri": "https://localhost:8080/"
        },
        "id": "epKX2dySwXny",
        "outputId": "1c42fc02-c37f-45b6-bc90-001dce020d29"
      },
      "source": [
        "accuracy"
      ],
      "execution_count": 78,
      "outputs": [
        {
          "output_type": "execute_result",
          "data": {
            "text/plain": [
              "0.9786666666666667"
            ]
          },
          "metadata": {
            "tags": []
          },
          "execution_count": 78
        }
      ]
    },
    {
      "cell_type": "code",
      "metadata": {
        "colab": {
          "base_uri": "https://localhost:8080/"
        },
        "id": "RoWWzacewhAz",
        "outputId": "15cbc0eb-e3f2-41be-9985-7024056b59ad"
      },
      "source": [
        "grid_search.best_params_"
      ],
      "execution_count": 80,
      "outputs": [
        {
          "output_type": "execute_result",
          "data": {
            "text/plain": [
              "{'C': 100, 'gamma': 0.01, 'kernel': 'rbf'}"
            ]
          },
          "metadata": {
            "tags": []
          },
          "execution_count": 80
        }
      ]
    }
  ]
}