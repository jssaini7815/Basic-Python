{
  "nbformat": 4,
  "nbformat_minor": 0,
  "metadata": {
    "colab": {
      "name": "Containers_and_Function_iNeuron.ipynb",
      "provenance": [],
      "collapsed_sections": [],
      "authorship_tag": "ABX9TyMmmbQkdczoXTnKUyW2bw3C",
      "include_colab_link": true
    },
    "kernelspec": {
      "name": "python3",
      "display_name": "Python 3"
    }
  },
  "cells": [
    {
      "cell_type": "markdown",
      "metadata": {
        "id": "view-in-github",
        "colab_type": "text"
      },
      "source": [
        "<a href=\"https://colab.research.google.com/github/jssaini7815/Basic-Python/blob/main/Containers_and_Function_iNeuron.ipynb\" target=\"_parent\"><img src=\"https://colab.research.google.com/assets/colab-badge.svg\" alt=\"Open In Colab\"/></a>"
      ]
    },
    {
      "cell_type": "code",
      "metadata": {
        "id": "7qpd5f66OueJ"
      },
      "source": [
        "# Tuples are similar to almost lists but they are immutable \r\n",
        "# they can not be changed.\r\n",
        "# homogeneous or heterogeneous\r\n"
      ],
      "execution_count": null,
      "outputs": []
    },
    {
      "cell_type": "markdown",
      "metadata": {
        "id": "DZKqnPerVjg1"
      },
      "source": [
        "#Constructing Tuples\r\n",
        "The construction of tuples use()\r\n",
        "with elements separated by commas where in the arguments will be arguments will be passed within brackets "
      ]
    },
    {
      "cell_type": "code",
      "metadata": {
        "colab": {
          "base_uri": "https://localhost:8080/",
          "height": 180
        },
        "id": "JSMGUP1dV8bO",
        "outputId": "f290f61a-d065-4f40-f597-afead1b4098a"
      },
      "source": [
        "l1=list(34)\r\n",
        "l1\r\n",
        "# 34 can not separately extract"
      ],
      "execution_count": null,
      "outputs": [
        {
          "output_type": "error",
          "ename": "TypeError",
          "evalue": "ignored",
          "traceback": [
            "\u001b[0;31m---------------------------------------------------------------------------\u001b[0m",
            "\u001b[0;31mTypeError\u001b[0m                                 Traceback (most recent call last)",
            "\u001b[0;32m<ipython-input-1-03372cbfb3ce>\u001b[0m in \u001b[0;36m<module>\u001b[0;34m()\u001b[0m\n\u001b[0;32m----> 1\u001b[0;31m \u001b[0ml1\u001b[0m\u001b[0;34m=\u001b[0m\u001b[0mlist\u001b[0m\u001b[0;34m(\u001b[0m\u001b[0;36m34\u001b[0m\u001b[0;34m)\u001b[0m\u001b[0;34m\u001b[0m\u001b[0;34m\u001b[0m\u001b[0m\n\u001b[0m\u001b[1;32m      2\u001b[0m \u001b[0ml1\u001b[0m\u001b[0;34m\u001b[0m\u001b[0;34m\u001b[0m\u001b[0m\n",
            "\u001b[0;31mTypeError\u001b[0m: 'int' object is not iterable"
          ]
        }
      ]
    },
    {
      "cell_type": "code",
      "metadata": {
        "colab": {
          "base_uri": "https://localhost:8080/"
        },
        "id": "3c9ogt4IWUDL",
        "outputId": "f3297ca0-8eac-4a12-f6b4-811eb3421fec"
      },
      "source": [
        "l=[3,5,6,7]\r\n",
        "l[0]='jitendersaini'\r\n",
        "l"
      ],
      "execution_count": null,
      "outputs": [
        {
          "output_type": "execute_result",
          "data": {
            "text/plain": [
              "['jitendersaini', 5, 6, 7]"
            ]
          },
          "metadata": {
            "tags": []
          },
          "execution_count": 2
        }
      ]
    },
    {
      "cell_type": "code",
      "metadata": {
        "colab": {
          "base_uri": "https://localhost:8080/"
        },
        "id": "ww6QdH82WaOo",
        "outputId": "d7f99969-00fa-427f-c02e-2fb80eec4f29"
      },
      "source": [
        "l11=list('34')\r\n",
        "l11"
      ],
      "execution_count": null,
      "outputs": [
        {
          "output_type": "execute_result",
          "data": {
            "text/plain": [
              "['3', '4']"
            ]
          },
          "metadata": {
            "tags": []
          },
          "execution_count": 3
        }
      ]
    },
    {
      "cell_type": "code",
      "metadata": {
        "colab": {
          "base_uri": "https://localhost:8080/",
          "height": 35
        },
        "id": "LVQOngyyYMvK",
        "outputId": "7dc5737e-869b-4e46-db45-32325006c8ba"
      },
      "source": [
        "l11.pop(1)"
      ],
      "execution_count": null,
      "outputs": [
        {
          "output_type": "execute_result",
          "data": {
            "application/vnd.google.colaboratory.intrinsic+json": {
              "type": "string"
            },
            "text/plain": [
              "'4'"
            ]
          },
          "metadata": {
            "tags": []
          },
          "execution_count": 17
        }
      ]
    },
    {
      "cell_type": "code",
      "metadata": {
        "id": "3Sg8QSEqYfiT"
      },
      "source": [
        ""
      ],
      "execution_count": null,
      "outputs": []
    },
    {
      "cell_type": "code",
      "metadata": {
        "colab": {
          "base_uri": "https://localhost:8080/"
        },
        "id": "MRgShvVgWgv1",
        "outputId": "0aedaaa1-9a05-406a-d7f5-aea847955ae7"
      },
      "source": [
        "c=()\r\n",
        "type(c)"
      ],
      "execution_count": null,
      "outputs": [
        {
          "output_type": "execute_result",
          "data": {
            "text/plain": [
              "tuple"
            ]
          },
          "metadata": {
            "tags": []
          },
          "execution_count": 4
        }
      ]
    },
    {
      "cell_type": "code",
      "metadata": {
        "colab": {
          "base_uri": "https://localhost:8080/"
        },
        "id": "yfQ_vqjCWn8M",
        "outputId": "25f3d37f-edf7-4cf1-924d-7b7964ee5592"
      },
      "source": [
        "c=(3,5,5,6,7,\"krsna\",4,6.55,6+8j)\r\n",
        "type(c)"
      ],
      "execution_count": null,
      "outputs": [
        {
          "output_type": "execute_result",
          "data": {
            "text/plain": [
              "tuple"
            ]
          },
          "metadata": {
            "tags": []
          },
          "execution_count": 5
        }
      ]
    },
    {
      "cell_type": "code",
      "metadata": {
        "colab": {
          "base_uri": "https://localhost:8080/"
        },
        "id": "t6AmTsEaW75I",
        "outputId": "0991759b-7508-48ee-f2cd-904ebab3d6a9"
      },
      "source": [
        "c[0:5]"
      ],
      "execution_count": null,
      "outputs": [
        {
          "output_type": "execute_result",
          "data": {
            "text/plain": [
              "(3, 5, 5, 6, 7)"
            ]
          },
          "metadata": {
            "tags": []
          },
          "execution_count": 7
        }
      ]
    },
    {
      "cell_type": "code",
      "metadata": {
        "colab": {
          "base_uri": "https://localhost:8080/"
        },
        "id": "ipfSrwE-XC7Z",
        "outputId": "b374f068-ba42-423d-9dcf-189d64558b2b"
      },
      "source": [
        "c[::-1] # reverse"
      ],
      "execution_count": null,
      "outputs": [
        {
          "output_type": "execute_result",
          "data": {
            "text/plain": [
              "((6+8j), 6.55, 4, 'krsna', 7, 6, 5, 5, 3)"
            ]
          },
          "metadata": {
            "tags": []
          },
          "execution_count": 8
        }
      ]
    },
    {
      "cell_type": "code",
      "metadata": {
        "colab": {
          "base_uri": "https://localhost:8080/",
          "height": 163
        },
        "id": "Wa6RoRcPXKKQ",
        "outputId": "93630a96-e943-4614-8392-857fd727a8b4"
      },
      "source": [
        "c[0]='jai_shree'"
      ],
      "execution_count": null,
      "outputs": [
        {
          "output_type": "error",
          "ename": "TypeError",
          "evalue": "ignored",
          "traceback": [
            "\u001b[0;31m---------------------------------------------------------------------------\u001b[0m",
            "\u001b[0;31mTypeError\u001b[0m                                 Traceback (most recent call last)",
            "\u001b[0;32m<ipython-input-9-8804cddde350>\u001b[0m in \u001b[0;36m<module>\u001b[0;34m()\u001b[0m\n\u001b[0;32m----> 1\u001b[0;31m \u001b[0mc\u001b[0m\u001b[0;34m[\u001b[0m\u001b[0;36m0\u001b[0m\u001b[0;34m]\u001b[0m\u001b[0;34m=\u001b[0m\u001b[0;34m'jai_shree'\u001b[0m\u001b[0;34m\u001b[0m\u001b[0;34m\u001b[0m\u001b[0m\n\u001b[0m",
            "\u001b[0;31mTypeError\u001b[0m: 'tuple' object does not support item assignment"
          ]
        }
      ]
    },
    {
      "cell_type": "code",
      "metadata": {
        "colab": {
          "base_uri": "https://localhost:8080/"
        },
        "id": "vRZfAikVXR4C",
        "outputId": "7fbc3ef3-750f-44f0-f4f6-64fbf59125b5"
      },
      "source": [
        "# tuples are immutable\r\n",
        "for i in c:\r\n",
        "  print(i)"
      ],
      "execution_count": null,
      "outputs": [
        {
          "output_type": "stream",
          "text": [
            "3\n",
            "5\n",
            "5\n",
            "6\n",
            "7\n",
            "krsna\n",
            "4\n",
            "6.55\n",
            "(6+8j)\n"
          ],
          "name": "stdout"
        }
      ]
    },
    {
      "cell_type": "code",
      "metadata": {
        "colab": {
          "base_uri": "https://localhost:8080/"
        },
        "id": "gFBmzp2CXopm",
        "outputId": "3ce53f01-e347-420b-e144-40a551f73120"
      },
      "source": [
        "c.count(6)"
      ],
      "execution_count": null,
      "outputs": [
        {
          "output_type": "execute_result",
          "data": {
            "text/plain": [
              "1"
            ]
          },
          "metadata": {
            "tags": []
          },
          "execution_count": 12
        }
      ]
    },
    {
      "cell_type": "code",
      "metadata": {
        "colab": {
          "base_uri": "https://localhost:8080/"
        },
        "id": "Ehi3Vzv5YAv4",
        "outputId": "1cd14a7c-76ec-41db-c83b-e5c36013942e"
      },
      "source": [
        "c.index(5)"
      ],
      "execution_count": null,
      "outputs": [
        {
          "output_type": "execute_result",
          "data": {
            "text/plain": [
              "1"
            ]
          },
          "metadata": {
            "tags": []
          },
          "execution_count": 14
        }
      ]
    },
    {
      "cell_type": "code",
      "metadata": {
        "colab": {
          "base_uri": "https://localhost:8080/",
          "height": 163
        },
        "id": "tXE1zuWgZE_r",
        "outputId": "d0875c9c-fe04-49ac-f48b-5d17c1e0b55c"
      },
      "source": [
        "c.append('nope')"
      ],
      "execution_count": null,
      "outputs": [
        {
          "output_type": "error",
          "ename": "AttributeError",
          "evalue": "ignored",
          "traceback": [
            "\u001b[0;31m---------------------------------------------------------------------------\u001b[0m",
            "\u001b[0;31mAttributeError\u001b[0m                            Traceback (most recent call last)",
            "\u001b[0;32m<ipython-input-18-d4a0637f2fcc>\u001b[0m in \u001b[0;36m<module>\u001b[0;34m()\u001b[0m\n\u001b[0;32m----> 1\u001b[0;31m \u001b[0mc\u001b[0m\u001b[0;34m.\u001b[0m\u001b[0mappend\u001b[0m\u001b[0;34m(\u001b[0m\u001b[0;34m'nope'\u001b[0m\u001b[0;34m)\u001b[0m\u001b[0;34m\u001b[0m\u001b[0;34m\u001b[0m\u001b[0m\n\u001b[0m",
            "\u001b[0;31mAttributeError\u001b[0m: 'tuple' object has no attribute 'append'"
          ]
        }
      ]
    },
    {
      "cell_type": "code",
      "metadata": {
        "colab": {
          "base_uri": "https://localhost:8080/"
        },
        "id": "c0gHjX5wZI5H",
        "outputId": "00541c77-a78d-4a17-93a3-d3476e503e97"
      },
      "source": [
        "a=4,5,7,8 # a assigning multiple value\r\n",
        "type(a)"
      ],
      "execution_count": null,
      "outputs": [
        {
          "output_type": "execute_result",
          "data": {
            "text/plain": [
              "tuple"
            ]
          },
          "metadata": {
            "tags": []
          },
          "execution_count": 19
        }
      ]
    },
    {
      "cell_type": "code",
      "metadata": {
        "colab": {
          "base_uri": "https://localhost:8080/"
        },
        "id": "9-_tFs7fZii5",
        "outputId": "e3021ba5-9c0e-4a1d-d42c-8027e2f57e6b"
      },
      "source": [
        "a,b,c=4,5,7 # sequential mapping\r\n",
        "b"
      ],
      "execution_count": null,
      "outputs": [
        {
          "output_type": "execute_result",
          "data": {
            "text/plain": [
              "5"
            ]
          },
          "metadata": {
            "tags": []
          },
          "execution_count": 21
        }
      ]
    },
    {
      "cell_type": "code",
      "metadata": {
        "colab": {
          "base_uri": "https://localhost:8080/"
        },
        "id": "Uw04bPXwZow4",
        "outputId": "0677794b-90f0-4c2d-e54c-878f186cba84"
      },
      "source": [
        "t=((3,7,8),(3,5,9))\r\n",
        "t[0][2] # nested loop possible"
      ],
      "execution_count": null,
      "outputs": [
        {
          "output_type": "execute_result",
          "data": {
            "text/plain": [
              "8"
            ]
          },
          "metadata": {
            "tags": []
          },
          "execution_count": 23
        }
      ]
    },
    {
      "cell_type": "code",
      "metadata": {
        "colab": {
          "base_uri": "https://localhost:8080/"
        },
        "id": "cNL2BpTDaKq-",
        "outputId": "ef79854a-d22e-447b-c525-f2d8d0a9f7a1"
      },
      "source": [
        "b=([4,5,8])\r\n",
        "type(b)"
      ],
      "execution_count": null,
      "outputs": [
        {
          "output_type": "execute_result",
          "data": {
            "text/plain": [
              "list"
            ]
          },
          "metadata": {
            "tags": []
          },
          "execution_count": 24
        }
      ]
    },
    {
      "cell_type": "code",
      "metadata": {
        "colab": {
          "base_uri": "https://localhost:8080/"
        },
        "id": "Jr5sMkEpaQqd",
        "outputId": "687382bd-c92c-4a94-fcd5-d5f3d34ffab5"
      },
      "source": [
        "b=([4,5,8],[8,9,10])\r\n",
        "type(b)"
      ],
      "execution_count": null,
      "outputs": [
        {
          "output_type": "execute_result",
          "data": {
            "text/plain": [
              "tuple"
            ]
          },
          "metadata": {
            "tags": []
          },
          "execution_count": 25
        }
      ]
    },
    {
      "cell_type": "code",
      "metadata": {
        "colab": {
          "base_uri": "https://localhost:8080/"
        },
        "id": "uXsP3TV5abND",
        "outputId": "bcd54949-b3ca-44ae-e393-777970d5f360"
      },
      "source": [
        "c=(4,5,68)\r\n",
        "l=list(c)\r\n",
        "l # convert tuple to list vice-versa"
      ],
      "execution_count": null,
      "outputs": [
        {
          "output_type": "execute_result",
          "data": {
            "text/plain": [
              "[4, 5, 68]"
            ]
          },
          "metadata": {
            "tags": []
          },
          "execution_count": 26
        }
      ]
    },
    {
      "cell_type": "code",
      "metadata": {
        "id": "rJ8KpiX-aqsI"
      },
      "source": [
        ""
      ],
      "execution_count": null,
      "outputs": []
    },
    {
      "cell_type": "code",
      "metadata": {
        "id": "Yykq029uamEa"
      },
      "source": [
        ""
      ],
      "execution_count": null,
      "outputs": []
    },
    {
      "cell_type": "markdown",
      "metadata": {
        "id": "pzjDdbfNZtEy"
      },
      "source": [
        "#Sets \r\n",
        "Sets are an unordered collection of unique elements which can be constructed using the set() function.\r\n",
        "Let's go ahead and create a set to see how it works."
      ]
    },
    {
      "cell_type": "code",
      "metadata": {
        "colab": {
          "base_uri": "https://localhost:8080/"
        },
        "id": "7L7KmPMUbFr0",
        "outputId": "dc74f2c6-5cc4-474f-b2fa-10dc0aa78adb"
      },
      "source": [
        "s={} # no elements in curly braces dict\r\n",
        "type(s)"
      ],
      "execution_count": null,
      "outputs": [
        {
          "output_type": "execute_result",
          "data": {
            "text/plain": [
              "dict"
            ]
          },
          "metadata": {
            "tags": []
          },
          "execution_count": 27
        }
      ]
    },
    {
      "cell_type": "code",
      "metadata": {
        "colab": {
          "base_uri": "https://localhost:8080/"
        },
        "id": "NHDOrKLObOpY",
        "outputId": "c559ae6b-2d72-461f-de92-b81d124c1260"
      },
      "source": [
        "s={2,3,8,88,8,89,66,6,6,8,'krsna','krsna',\"jsaini\",'j','j'}\r\n",
        "type(s) # try to eliminate the redundant data. remove the duplicate the data and \r\n",
        "# to get the distinct data "
      ],
      "execution_count": null,
      "outputs": [
        {
          "output_type": "execute_result",
          "data": {
            "text/plain": [
              "set"
            ]
          },
          "metadata": {
            "tags": []
          },
          "execution_count": 29
        }
      ]
    },
    {
      "cell_type": "code",
      "metadata": {
        "colab": {
          "base_uri": "https://localhost:8080/"
        },
        "id": "kLzoPpj7bdzf",
        "outputId": "41fb4ee2-25d5-4364-f258-301d3a0f67d1"
      },
      "source": [
        "s"
      ],
      "execution_count": null,
      "outputs": [
        {
          "output_type": "execute_result",
          "data": {
            "text/plain": [
              "{2, 3, 6, 66, 8, 88, 89, 'j', 'jsaini', 'krsna'}"
            ]
          },
          "metadata": {
            "tags": []
          },
          "execution_count": 31
        }
      ]
    },
    {
      "cell_type": "code",
      "metadata": {
        "id": "th4EU4WTcJmc"
      },
      "source": [
        "x=set()"
      ],
      "execution_count": null,
      "outputs": []
    },
    {
      "cell_type": "code",
      "metadata": {
        "id": "nRuVAiRlbwwa"
      },
      "source": [
        "# We add to sets with the add() method\r\n",
        "x.add(3)"
      ],
      "execution_count": null,
      "outputs": []
    },
    {
      "cell_type": "code",
      "metadata": {
        "colab": {
          "base_uri": "https://localhost:8080/",
          "height": 163
        },
        "id": "gel99pMycZmH",
        "outputId": "6a2001a5-4372-4876-9e13-deb2215009ca"
      },
      "source": [
        "s={[2,3,8],[2,5,6]}\r\n"
      ],
      "execution_count": null,
      "outputs": [
        {
          "output_type": "error",
          "ename": "TypeError",
          "evalue": "ignored",
          "traceback": [
            "\u001b[0;31m---------------------------------------------------------------------------\u001b[0m",
            "\u001b[0;31mTypeError\u001b[0m                                 Traceback (most recent call last)",
            "\u001b[0;32m<ipython-input-34-8565195de0e4>\u001b[0m in \u001b[0;36m<module>\u001b[0;34m()\u001b[0m\n\u001b[0;32m----> 1\u001b[0;31m \u001b[0ms\u001b[0m\u001b[0;34m=\u001b[0m\u001b[0;34m{\u001b[0m\u001b[0;34m[\u001b[0m\u001b[0;36m2\u001b[0m\u001b[0;34m,\u001b[0m\u001b[0;36m3\u001b[0m\u001b[0;34m,\u001b[0m\u001b[0;36m8\u001b[0m\u001b[0;34m]\u001b[0m\u001b[0;34m,\u001b[0m\u001b[0;34m[\u001b[0m\u001b[0;36m2\u001b[0m\u001b[0;34m,\u001b[0m\u001b[0;36m5\u001b[0m\u001b[0;34m,\u001b[0m\u001b[0;36m6\u001b[0m\u001b[0;34m]\u001b[0m\u001b[0;34m}\u001b[0m\u001b[0;34m\u001b[0m\u001b[0;34m\u001b[0m\u001b[0m\n\u001b[0m",
            "\u001b[0;31mTypeError\u001b[0m: unhashable type: 'list'"
          ]
        }
      ]
    },
    {
      "cell_type": "code",
      "metadata": {
        "colab": {
          "base_uri": "https://localhost:8080/"
        },
        "id": "rR8N6b5bdQNZ",
        "outputId": "ee9808d7-ae6b-438a-b3ef-54113cf9764d"
      },
      "source": [
        "x=set([1,2,3,5,6,66,7,8,77])\r\n",
        "x"
      ],
      "execution_count": null,
      "outputs": [
        {
          "output_type": "execute_result",
          "data": {
            "text/plain": [
              "{1, 2, 3, 5, 6, 7, 8, 66, 77}"
            ]
          },
          "metadata": {
            "tags": []
          },
          "execution_count": 35
        }
      ]
    },
    {
      "cell_type": "code",
      "metadata": {
        "colab": {
          "base_uri": "https://localhost:8080/"
        },
        "id": "tmP3ZNQrckZr",
        "outputId": "3ab1b2f8-9ca1-4b4e-cf3a-c09c52788b91"
      },
      "source": [
        "for i in x:\r\n",
        "  print(i)"
      ],
      "execution_count": null,
      "outputs": [
        {
          "output_type": "stream",
          "text": [
            "1\n",
            "2\n",
            "3\n",
            "66\n",
            "5\n",
            "6\n",
            "7\n",
            "8\n",
            "77\n"
          ],
          "name": "stdout"
        }
      ]
    },
    {
      "cell_type": "code",
      "metadata": {
        "colab": {
          "base_uri": "https://localhost:8080/",
          "height": 163
        },
        "id": "bVRC_tk4dbZj",
        "outputId": "10414eb3-ba2e-411a-b70e-513681da2e01"
      },
      "source": [
        "x[2] # not possible indexing "
      ],
      "execution_count": null,
      "outputs": [
        {
          "output_type": "error",
          "ename": "TypeError",
          "evalue": "ignored",
          "traceback": [
            "\u001b[0;31m---------------------------------------------------------------------------\u001b[0m",
            "\u001b[0;31mTypeError\u001b[0m                                 Traceback (most recent call last)",
            "\u001b[0;32m<ipython-input-37-5567654ad882>\u001b[0m in \u001b[0;36m<module>\u001b[0;34m()\u001b[0m\n\u001b[0;32m----> 1\u001b[0;31m \u001b[0mx\u001b[0m\u001b[0;34m[\u001b[0m\u001b[0;36m2\u001b[0m\u001b[0;34m]\u001b[0m\u001b[0;34m\u001b[0m\u001b[0;34m\u001b[0m\u001b[0m\n\u001b[0m",
            "\u001b[0;31mTypeError\u001b[0m: 'set' object does not support indexing"
          ]
        }
      ]
    },
    {
      "cell_type": "code",
      "metadata": {
        "colab": {
          "base_uri": "https://localhost:8080/"
        },
        "id": "UZST127wdqVc",
        "outputId": "904640b0-8bbc-49c1-a119-f873d0decafa"
      },
      "source": [
        "x.add(34)\r\n",
        "x"
      ],
      "execution_count": null,
      "outputs": [
        {
          "output_type": "execute_result",
          "data": {
            "text/plain": [
              "{1, 2, 3, 5, 6, 7, 8, 34, 66, 77}"
            ]
          },
          "metadata": {
            "tags": []
          },
          "execution_count": 39
        }
      ]
    },
    {
      "cell_type": "code",
      "metadata": {
        "id": "ISgXN4D_eAiY"
      },
      "source": [
        "x.add(2)\r\n"
      ],
      "execution_count": null,
      "outputs": []
    },
    {
      "cell_type": "code",
      "metadata": {
        "colab": {
          "base_uri": "https://localhost:8080/"
        },
        "id": "RIKI85gddXDf",
        "outputId": "5e51308e-ada8-4767-ce81-82148734fae8"
      },
      "source": [
        "l=list(x)\r\n",
        "l"
      ],
      "execution_count": null,
      "outputs": [
        {
          "output_type": "execute_result",
          "data": {
            "text/plain": [
              "[1, 2, 3, 66, 5, 6, 7, 8, 34, 77]"
            ]
          },
          "metadata": {
            "tags": []
          },
          "execution_count": 45
        }
      ]
    },
    {
      "cell_type": "code",
      "metadata": {
        "colab": {
          "base_uri": "https://localhost:8080/"
        },
        "id": "PkJYangmerfJ",
        "outputId": "a831733b-3b51-40c9-874c-dec89c5c6544"
      },
      "source": [
        "set(l) #Build an unordered collection of unique elements"
      ],
      "execution_count": null,
      "outputs": [
        {
          "output_type": "execute_result",
          "data": {
            "text/plain": [
              "{1, 2, 3, 5, 6, 7, 8, 34, 66, 77}"
            ]
          },
          "metadata": {
            "tags": []
          },
          "execution_count": 46
        }
      ]
    },
    {
      "cell_type": "code",
      "metadata": {
        "colab": {
          "base_uri": "https://localhost:8080/"
        },
        "id": "kMrUnoUSeuGu",
        "outputId": "31097a1f-2c4c-4460-eeaf-41a7874f6c57"
      },
      "source": [
        "n={5,'Krsna','jaiRadhaMadhav',6,7,8,354,864,863,97,}\r\n",
        "n# ASCII indentation order"
      ],
      "execution_count": null,
      "outputs": [
        {
          "output_type": "execute_result",
          "data": {
            "text/plain": [
              "{354, 5, 6, 7, 8, 863, 864, 97, 'Krsna', 'jaiRadhaMadhav'}"
            ]
          },
          "metadata": {
            "tags": []
          },
          "execution_count": 48
        }
      ]
    },
    {
      "cell_type": "code",
      "metadata": {
        "id": "aXgKm0PLfiDJ"
      },
      "source": [
        ""
      ],
      "execution_count": null,
      "outputs": []
    },
    {
      "cell_type": "markdown",
      "metadata": {
        "id": "1M4Cle34gIUU"
      },
      "source": [
        "#Dictionaries \r\n",
        "We have learned about \"Sequences\" in the previous.Now let's switch the gears and learn about 'mappings' in Python. These dictionaries are nothing but hash tables inother programming languages.\r\n"
      ]
    },
    {
      "cell_type": "code",
      "metadata": {
        "id": "m9mcQoN4hING"
      },
      "source": [
        ""
      ],
      "execution_count": null,
      "outputs": []
    },
    {
      "cell_type": "markdown",
      "metadata": {
        "id": "pJ3A4P7thI4H"
      },
      "source": [
        "#constructing a Dictionary"
      ]
    },
    {
      "cell_type": "code",
      "metadata": {
        "colab": {
          "base_uri": "https://localhost:8080/"
        },
        "id": "tNHFs4-thNA5",
        "outputId": "32b50b07-2adb-406e-c267-daab8919433d"
      },
      "source": [
        "v={}\r\n",
        "type(v)"
      ],
      "execution_count": null,
      "outputs": [
        {
          "output_type": "execute_result",
          "data": {
            "text/plain": [
              "dict"
            ]
          },
          "metadata": {
            "tags": []
          },
          "execution_count": 49
        }
      ]
    },
    {
      "cell_type": "code",
      "metadata": {
        "colab": {
          "base_uri": "https://localhost:8080/",
          "height": 221
        },
        "id": "UgR1uaDZhQz8",
        "outputId": "9ea99bef-27ca-4578-e4d4-86bec6ec6891"
      },
      "source": [
        "v={'key':\"Hare_Krsna\",'key1':'Jai Shree krsna','Krsna':\"Radhye\"} # key ---> value pairs\r\n",
        "v\r\n",
        "v[0]"
      ],
      "execution_count": null,
      "outputs": [
        {
          "output_type": "error",
          "ename": "KeyError",
          "evalue": "ignored",
          "traceback": [
            "\u001b[0;31m---------------------------------------------------------------------------\u001b[0m",
            "\u001b[0;31mKeyError\u001b[0m                                  Traceback (most recent call last)",
            "\u001b[0;32m<ipython-input-54-92bb8a49c7ed>\u001b[0m in \u001b[0;36m<module>\u001b[0;34m()\u001b[0m\n\u001b[1;32m      1\u001b[0m \u001b[0mv\u001b[0m\u001b[0;34m=\u001b[0m\u001b[0;34m{\u001b[0m\u001b[0;34m'key'\u001b[0m\u001b[0;34m:\u001b[0m\u001b[0;34m\"Hare_Krsna\"\u001b[0m\u001b[0;34m,\u001b[0m\u001b[0;34m'key1'\u001b[0m\u001b[0;34m:\u001b[0m\u001b[0;34m'Jai Shree krsna'\u001b[0m\u001b[0;34m,\u001b[0m\u001b[0;34m'Krsna'\u001b[0m\u001b[0;34m:\u001b[0m\u001b[0;34m\"Radhye\"\u001b[0m\u001b[0;34m}\u001b[0m \u001b[0;31m# key ---> value pairs\u001b[0m\u001b[0;34m\u001b[0m\u001b[0;34m\u001b[0m\u001b[0m\n\u001b[1;32m      2\u001b[0m \u001b[0mv\u001b[0m\u001b[0;34m\u001b[0m\u001b[0;34m\u001b[0m\u001b[0m\n\u001b[0;32m----> 3\u001b[0;31m \u001b[0mv\u001b[0m\u001b[0;34m[\u001b[0m\u001b[0;36m0\u001b[0m\u001b[0;34m]\u001b[0m\u001b[0;34m\u001b[0m\u001b[0;34m\u001b[0m\u001b[0m\n\u001b[0m",
            "\u001b[0;31mKeyError\u001b[0m: 0"
          ]
        }
      ]
    },
    {
      "cell_type": "code",
      "metadata": {
        "colab": {
          "base_uri": "https://localhost:8080/",
          "height": 35
        },
        "id": "qAPiPk9Ihgg_",
        "outputId": "ee0ff07c-9b89-4d68-c7a6-8b22e3436f35"
      },
      "source": [
        "v[\"key\"] # only key pass not index"
      ],
      "execution_count": null,
      "outputs": [
        {
          "output_type": "execute_result",
          "data": {
            "application/vnd.google.colaboratory.intrinsic+json": {
              "type": "string"
            },
            "text/plain": [
              "'Hare_Krsna'"
            ]
          },
          "metadata": {
            "tags": []
          },
          "execution_count": 52
        }
      ]
    },
    {
      "cell_type": "code",
      "metadata": {
        "colab": {
          "base_uri": "https://localhost:8080/",
          "height": 35
        },
        "id": "T-5WKx1vh9Jx",
        "outputId": "29577be7-8c1e-4f0c-f29d-2e747c919557"
      },
      "source": [
        "v['Krsna']"
      ],
      "execution_count": null,
      "outputs": [
        {
          "output_type": "execute_result",
          "data": {
            "application/vnd.google.colaboratory.intrinsic+json": {
              "type": "string"
            },
            "text/plain": [
              "'Radhye'"
            ]
          },
          "metadata": {
            "tags": []
          },
          "execution_count": 55
        }
      ]
    },
    {
      "cell_type": "code",
      "metadata": {
        "colab": {
          "base_uri": "https://localhost:8080/",
          "height": 203
        },
        "id": "_FRggW-aiMPY",
        "outputId": "fb950034-56d1-43d0-8bd1-0f34a787be58"
      },
      "source": [
        "v={'key':\"Hare_Krsna\",'key1':'Jai Shree krsna',[5,6,7]:\"kanhaiya\",'Krsna':\"Radhye\"} # key ---> value pairs\r\n",
        "v\r\n",
        "[5,6,7]:\"kanhaiya\" # Not allowed"
      ],
      "execution_count": null,
      "outputs": [
        {
          "output_type": "error",
          "ename": "TypeError",
          "evalue": "ignored",
          "traceback": [
            "\u001b[0;31m---------------------------------------------------------------------------\u001b[0m",
            "\u001b[0;31mTypeError\u001b[0m                                 Traceback (most recent call last)",
            "\u001b[0;32m<ipython-input-56-61b4116e5d43>\u001b[0m in \u001b[0;36m<module>\u001b[0;34m()\u001b[0m\n\u001b[0;32m----> 1\u001b[0;31m \u001b[0mv\u001b[0m\u001b[0;34m=\u001b[0m\u001b[0;34m{\u001b[0m\u001b[0;34m'key'\u001b[0m\u001b[0;34m:\u001b[0m\u001b[0;34m\"Hare_Krsna\"\u001b[0m\u001b[0;34m,\u001b[0m\u001b[0;34m'key1'\u001b[0m\u001b[0;34m:\u001b[0m\u001b[0;34m'Jai Shree krsna'\u001b[0m\u001b[0;34m,\u001b[0m\u001b[0;34m[\u001b[0m\u001b[0;36m5\u001b[0m\u001b[0;34m,\u001b[0m\u001b[0;36m6\u001b[0m\u001b[0;34m,\u001b[0m\u001b[0;36m7\u001b[0m\u001b[0;34m]\u001b[0m\u001b[0;34m:\u001b[0m\u001b[0;34m\"kanhaiya\"\u001b[0m\u001b[0;34m,\u001b[0m\u001b[0;34m'Krsna'\u001b[0m\u001b[0;34m:\u001b[0m\u001b[0;34m\"Radhye\"\u001b[0m\u001b[0;34m}\u001b[0m \u001b[0;31m# key ---> value pairs\u001b[0m\u001b[0;34m\u001b[0m\u001b[0;34m\u001b[0m\u001b[0m\n\u001b[0m\u001b[1;32m      2\u001b[0m \u001b[0mv\u001b[0m\u001b[0;34m\u001b[0m\u001b[0;34m\u001b[0m\u001b[0m\n",
            "\u001b[0;31mTypeError\u001b[0m: unhashable type: 'list'"
          ]
        }
      ]
    },
    {
      "cell_type": "code",
      "metadata": {
        "colab": {
          "base_uri": "https://localhost:8080/"
        },
        "id": "v00fKeYcisN_",
        "outputId": "3ec9a322-684a-4363-9db4-560baf516e86"
      },
      "source": [
        "v={'key':[1,8,88,38],'krsna':\"Radha\",'key':set([4,5,6,8])}\r\n",
        "v"
      ],
      "execution_count": null,
      "outputs": [
        {
          "output_type": "execute_result",
          "data": {
            "text/plain": [
              "{'key': {4, 5, 6, 8}, 'krsna': 'Radha'}"
            ]
          },
          "metadata": {
            "tags": []
          },
          "execution_count": 61
        }
      ]
    },
    {
      "cell_type": "code",
      "metadata": {
        "colab": {
          "base_uri": "https://localhost:8080/"
        },
        "id": "zNncI2PEjvtS",
        "outputId": "a90d1147-b3ee-49e8-c42e-71066e49c272"
      },
      "source": [
        "d={'a':34,'b':345,'c':'shyam','d':{0:34,1:23}}\r\n",
        "d"
      ],
      "execution_count": null,
      "outputs": [
        {
          "output_type": "execute_result",
          "data": {
            "text/plain": [
              "{'a': 34, 'b': 345, 'c': 'shyam', 'd': {0: 34, 1: 23}}"
            ]
          },
          "metadata": {
            "tags": []
          },
          "execution_count": 62
        }
      ]
    },
    {
      "cell_type": "code",
      "metadata": {
        "colab": {
          "base_uri": "https://localhost:8080/"
        },
        "id": "hmmfstkIkCHG",
        "outputId": "589adf35-4dfc-4b75-e813-b36a3ec76f51"
      },
      "source": [
        "d['d'][1]"
      ],
      "execution_count": null,
      "outputs": [
        {
          "output_type": "execute_result",
          "data": {
            "text/plain": [
              "23"
            ]
          },
          "metadata": {
            "tags": []
          },
          "execution_count": 63
        }
      ]
    },
    {
      "cell_type": "code",
      "metadata": {
        "colab": {
          "base_uri": "https://localhost:8080/"
        },
        "id": "Qx2NTtA7k0BX",
        "outputId": "885d0939-0a26-4867-f29b-0541a38aba5d"
      },
      "source": [
        "for i in d:\r\n",
        "  print(i+\" \"+str(d[i]))"
      ],
      "execution_count": null,
      "outputs": [
        {
          "output_type": "stream",
          "text": [
            "a 34\n",
            "b 345\n",
            "c shyam\n",
            "d {0: 34, 1: 23}\n"
          ],
          "name": "stdout"
        }
      ]
    },
    {
      "cell_type": "code",
      "metadata": {
        "colab": {
          "base_uri": "https://localhost:8080/"
        },
        "id": "YshiScM6lvIt",
        "outputId": "e6979c4e-edc5-482b-d217-2a62a4f9d432"
      },
      "source": [
        "d.keys()"
      ],
      "execution_count": null,
      "outputs": [
        {
          "output_type": "execute_result",
          "data": {
            "text/plain": [
              "dict_keys(['a', 'b', 'c', 'd'])"
            ]
          },
          "metadata": {
            "tags": []
          },
          "execution_count": 67
        }
      ]
    },
    {
      "cell_type": "code",
      "metadata": {
        "colab": {
          "base_uri": "https://localhost:8080/"
        },
        "id": "m77-NwLflxsJ",
        "outputId": "c07a6acd-f8b0-441c-b072-9b81a35c61d7"
      },
      "source": [
        "d.values()"
      ],
      "execution_count": null,
      "outputs": [
        {
          "output_type": "execute_result",
          "data": {
            "text/plain": [
              "dict_values([34, 345, 'shyam', {0: 34, 1: 23}])"
            ]
          },
          "metadata": {
            "tags": []
          },
          "execution_count": 68
        }
      ]
    },
    {
      "cell_type": "code",
      "metadata": {
        "id": "Sh3E3dCdmXV1"
      },
      "source": [
        "d['key45']='jaiho'"
      ],
      "execution_count": null,
      "outputs": []
    },
    {
      "cell_type": "code",
      "metadata": {
        "id": "B8xzmGk_m1AL"
      },
      "source": [
        ""
      ],
      "execution_count": null,
      "outputs": []
    },
    {
      "cell_type": "markdown",
      "metadata": {
        "id": "EbzEm33Jm2Cn"
      },
      "source": [
        "#Nesting with Dictionaries"
      ]
    },
    {
      "cell_type": "code",
      "metadata": {
        "colab": {
          "base_uri": "https://localhost:8080/"
        },
        "id": "QgmOiH6Qm0h2",
        "outputId": "5025a91b-12f3-4b16-884f-6d6acb61187c"
      },
      "source": [
        "d={'key1':{'nestkey':{'subnestkey':'value'}}}\r\n",
        "d"
      ],
      "execution_count": null,
      "outputs": [
        {
          "output_type": "execute_result",
          "data": {
            "text/plain": [
              "{'key1': {'nestkey': {'subnestkey': 'value'}}}"
            ]
          },
          "metadata": {
            "tags": []
          },
          "execution_count": 72
        }
      ]
    },
    {
      "cell_type": "code",
      "metadata": {
        "colab": {
          "base_uri": "https://localhost:8080/",
          "height": 35
        },
        "id": "5VBNc6L4nMoV",
        "outputId": "fcc08263-9280-43de-ebe7-6bee72eba44a"
      },
      "source": [
        "d['key1']['nestkey']['subnestkey']"
      ],
      "execution_count": null,
      "outputs": [
        {
          "output_type": "execute_result",
          "data": {
            "application/vnd.google.colaboratory.intrinsic+json": {
              "type": "string"
            },
            "text/plain": [
              "'value'"
            ]
          },
          "metadata": {
            "tags": []
          },
          "execution_count": 73
        }
      ]
    },
    {
      "cell_type": "code",
      "metadata": {
        "colab": {
          "base_uri": "https://localhost:8080/"
        },
        "id": "B8vtZPUKncKC",
        "outputId": "bb710817-2e7e-4b30-d4ea-e7d1d42b63e6"
      },
      "source": [
        "d.items()"
      ],
      "execution_count": null,
      "outputs": [
        {
          "output_type": "execute_result",
          "data": {
            "text/plain": [
              "dict_items([('key1', {'nestkey': {'subnestkey': 'value'}})])"
            ]
          },
          "metadata": {
            "tags": []
          },
          "execution_count": 75
        }
      ]
    },
    {
      "cell_type": "markdown",
      "metadata": {
        "id": "DFUE7ZU4pT6o"
      },
      "source": [
        "#Dictionary Comprehension"
      ]
    },
    {
      "cell_type": "code",
      "metadata": {
        "colab": {
          "base_uri": "https://localhost:8080/"
        },
        "id": "YTqM1jd5o2nx",
        "outputId": "75189d3b-0b5a-46ed-afd8-8b8f56546116"
      },
      "source": [
        "l=['shyam','radha','xya',22,88,'abc']\r\n",
        "l"
      ],
      "execution_count": null,
      "outputs": [
        {
          "output_type": "execute_result",
          "data": {
            "text/plain": [
              "['shyam', 'radha', 'xya', 22, 88, 'abc']"
            ]
          },
          "metadata": {
            "tags": []
          },
          "execution_count": 87
        }
      ]
    },
    {
      "cell_type": "code",
      "metadata": {
        "colab": {
          "base_uri": "https://localhost:8080/",
          "height": 221
        },
        "id": "LrGbvOLapaFS",
        "outputId": "4f340ed7-a6ac-4ea3-d4fe-feb85d4ba583"
      },
      "source": [
        "{i[0]:i for i in l}"
      ],
      "execution_count": null,
      "outputs": [
        {
          "output_type": "error",
          "ename": "TypeError",
          "evalue": "ignored",
          "traceback": [
            "\u001b[0;31m---------------------------------------------------------------------------\u001b[0m",
            "\u001b[0;31mTypeError\u001b[0m                                 Traceback (most recent call last)",
            "\u001b[0;32m<ipython-input-88-e7db8e56876b>\u001b[0m in \u001b[0;36m<module>\u001b[0;34m()\u001b[0m\n\u001b[0;32m----> 1\u001b[0;31m \u001b[0;34m{\u001b[0m\u001b[0mi\u001b[0m\u001b[0;34m[\u001b[0m\u001b[0;36m0\u001b[0m\u001b[0;34m]\u001b[0m\u001b[0;34m:\u001b[0m\u001b[0mi\u001b[0m \u001b[0;32mfor\u001b[0m \u001b[0mi\u001b[0m \u001b[0;32min\u001b[0m \u001b[0ml\u001b[0m\u001b[0;34m}\u001b[0m\u001b[0;34m\u001b[0m\u001b[0;34m\u001b[0m\u001b[0m\n\u001b[0m",
            "\u001b[0;32m<ipython-input-88-e7db8e56876b>\u001b[0m in \u001b[0;36m<dictcomp>\u001b[0;34m(.0)\u001b[0m\n\u001b[0;32m----> 1\u001b[0;31m \u001b[0;34m{\u001b[0m\u001b[0mi\u001b[0m\u001b[0;34m[\u001b[0m\u001b[0;36m0\u001b[0m\u001b[0;34m]\u001b[0m\u001b[0;34m:\u001b[0m\u001b[0mi\u001b[0m \u001b[0;32mfor\u001b[0m \u001b[0mi\u001b[0m \u001b[0;32min\u001b[0m \u001b[0ml\u001b[0m\u001b[0;34m}\u001b[0m\u001b[0;34m\u001b[0m\u001b[0;34m\u001b[0m\u001b[0m\n\u001b[0m",
            "\u001b[0;31mTypeError\u001b[0m: 'int' object is not subscriptable"
          ]
        }
      ]
    },
    {
      "cell_type": "code",
      "metadata": {
        "colab": {
          "base_uri": "https://localhost:8080/"
        },
        "id": "_lsIHTR5noIY",
        "outputId": "d99e4f19-515f-42a4-8ccc-e935a34a9a16"
      },
      "source": [
        "{x:x**2 for x in range(10) if x%2 !=0}"
      ],
      "execution_count": null,
      "outputs": [
        {
          "output_type": "execute_result",
          "data": {
            "text/plain": [
              "{1: 1, 3: 9, 5: 25, 7: 49, 9: 81}"
            ]
          },
          "metadata": {
            "tags": []
          },
          "execution_count": 85
        }
      ]
    },
    {
      "cell_type": "code",
      "metadata": {
        "colab": {
          "base_uri": "https://localhost:8080/"
        },
        "id": "ZHpeGzQXq7nw",
        "outputId": "aad21c5d-1dc3-4eb2-d976-7a6f9b0e3fc5"
      },
      "source": [
        "{i[0]:i for i in l if type(i)==str}"
      ],
      "execution_count": null,
      "outputs": [
        {
          "output_type": "execute_result",
          "data": {
            "text/plain": [
              "{'a': 'abc', 'r': 'radha', 's': 'shyam', 'x': 'xya'}"
            ]
          },
          "metadata": {
            "tags": []
          },
          "execution_count": 89
        }
      ]
    },
    {
      "cell_type": "code",
      "metadata": {
        "id": "6W_mDzsKo0QI"
      },
      "source": [
        ""
      ],
      "execution_count": null,
      "outputs": []
    },
    {
      "cell_type": "code",
      "metadata": {
        "colab": {
          "base_uri": "https://localhost:8080/",
          "height": 35
        },
        "id": "XrNi33g2jHlX",
        "outputId": "55208f5c-a9a6-4ad9-a8ed-4349ab705bcf"
      },
      "source": [
        "v['krsna']"
      ],
      "execution_count": null,
      "outputs": [
        {
          "output_type": "execute_result",
          "data": {
            "application/vnd.google.colaboratory.intrinsic+json": {
              "type": "string"
            },
            "text/plain": [
              "'Radha'"
            ]
          },
          "metadata": {
            "tags": []
          },
          "execution_count": 60
        }
      ]
    },
    {
      "cell_type": "markdown",
      "metadata": {
        "id": "_lbozSpBpslJ"
      },
      "source": [
        "#Functions"
      ]
    },
    {
      "cell_type": "markdown",
      "metadata": {
        "id": "GxRjSW0BrbnT"
      },
      "source": [
        "#def Statements"
      ]
    },
    {
      "cell_type": "code",
      "metadata": {
        "id": "nUHEzoOYl5B3"
      },
      "source": [
        " #  def means definition  "
      ],
      "execution_count": null,
      "outputs": []
    },
    {
      "cell_type": "code",
      "metadata": {
        "id": "J7VB5-TMjK0H"
      },
      "source": [
        "def test():\r\n",
        "  print(\"this is my first functiion\")\r\n",
        "  pass"
      ],
      "execution_count": null,
      "outputs": []
    },
    {
      "cell_type": "code",
      "metadata": {
        "colab": {
          "base_uri": "https://localhost:8080/"
        },
        "id": "gQBsfuI_s8tk",
        "outputId": "f39e9755-f0ea-4a02-ccba-8dc943ddb85b"
      },
      "source": [
        "test()"
      ],
      "execution_count": null,
      "outputs": [
        {
          "output_type": "stream",
          "text": [
            "this is my first functiion\n"
          ],
          "name": "stdout"
        }
      ]
    },
    {
      "cell_type": "code",
      "metadata": {
        "colab": {
          "base_uri": "https://localhost:8080/",
          "height": 88
        },
        "id": "eduX-9hPtqX3",
        "outputId": "bb245074-59d4-4fe3-9814-7fd004afba9c"
      },
      "source": [
        "''' pass:\r\n",
        "Definition and Usage\r\n",
        "The pass statement is used as a placeholder for future code.\r\n",
        "\r\n",
        "When the pass statement is executed, \r\n",
        "nothing happens, but you avoid getting an error when empty code is not allowed.\r\n",
        "\r\n",
        "Empty code is not allowed in loops, function definitions, \r\n",
        "class definitions, or in if statements.\r\n",
        "'''"
      ],
      "execution_count": null,
      "outputs": [
        {
          "output_type": "execute_result",
          "data": {
            "application/vnd.google.colaboratory.intrinsic+json": {
              "type": "string"
            },
            "text/plain": [
              "' pass:\\nDefinition and Usage\\nThe pass statement is used as a placeholder for future code.\\n\\nWhen the pass statement is executed, \\nnothing happens, but you avoid getting an error when empty code is not allowed.\\n\\nEmpty code is not allowed in loops, function definitions, \\nclass definitions, or in if statements.\\n'"
            ]
          },
          "metadata": {
            "tags": []
          },
          "execution_count": 95
        }
      ]
    },
    {
      "cell_type": "code",
      "metadata": {
        "colab": {
          "base_uri": "https://localhost:8080/",
          "height": 203
        },
        "id": "pey4kU3Juho4",
        "outputId": "d56331d7-ce83-4ac8-ce00-e2556f22344e"
      },
      "source": [
        "a=test()\r\n",
        "a +\"shyam\""
      ],
      "execution_count": null,
      "outputs": [
        {
          "output_type": "stream",
          "text": [
            "this is my first functiion\n"
          ],
          "name": "stdout"
        },
        {
          "output_type": "error",
          "ename": "TypeError",
          "evalue": "ignored",
          "traceback": [
            "\u001b[0;31m---------------------------------------------------------------------------\u001b[0m",
            "\u001b[0;31mTypeError\u001b[0m                                 Traceback (most recent call last)",
            "\u001b[0;32m<ipython-input-98-29645040fe76>\u001b[0m in \u001b[0;36m<module>\u001b[0;34m()\u001b[0m\n\u001b[1;32m      1\u001b[0m \u001b[0ma\u001b[0m\u001b[0;34m=\u001b[0m\u001b[0mtest\u001b[0m\u001b[0;34m(\u001b[0m\u001b[0;34m)\u001b[0m\u001b[0;34m\u001b[0m\u001b[0;34m\u001b[0m\u001b[0m\n\u001b[0;32m----> 2\u001b[0;31m \u001b[0ma\u001b[0m \u001b[0;34m+\u001b[0m\u001b[0;34m\"shyam\"\u001b[0m\u001b[0;34m\u001b[0m\u001b[0;34m\u001b[0m\u001b[0m\n\u001b[0m",
            "\u001b[0;31mTypeError\u001b[0m: unsupported operand type(s) for +: 'NoneType' and 'str'"
          ]
        }
      ]
    },
    {
      "cell_type": "code",
      "metadata": {
        "id": "BcONCFQ1uwvh"
      },
      "source": [
        "def test1():\r\n",
        "  return \"this is my first function with return\"  # data type if return statement"
      ],
      "execution_count": null,
      "outputs": []
    },
    {
      "cell_type": "code",
      "metadata": {
        "colab": {
          "base_uri": "https://localhost:8080/"
        },
        "id": "KJOtt5aMs_Cj",
        "outputId": "c866a1d8-2fdb-4b9c-a7a2-f4c17227964f"
      },
      "source": [
        "type(test1())"
      ],
      "execution_count": null,
      "outputs": [
        {
          "output_type": "execute_result",
          "data": {
            "text/plain": [
              "str"
            ]
          },
          "metadata": {
            "tags": []
          },
          "execution_count": 100
        }
      ]
    },
    {
      "cell_type": "code",
      "metadata": {
        "colab": {
          "base_uri": "https://localhost:8080/",
          "height": 35
        },
        "id": "pvdCV_sju-Mz",
        "outputId": "59e85828-2bf7-4428-b2db-66c6d15bb013"
      },
      "source": [
        "b=test1()\r\n",
        "b + ' kanhiya'"
      ],
      "execution_count": null,
      "outputs": [
        {
          "output_type": "execute_result",
          "data": {
            "application/vnd.google.colaboratory.intrinsic+json": {
              "type": "string"
            },
            "text/plain": [
              "'this is my first function with return kanhiya'"
            ]
          },
          "metadata": {
            "tags": []
          },
          "execution_count": 104
        }
      ]
    },
    {
      "cell_type": "code",
      "metadata": {
        "id": "DBe2H5FWvjaO"
      },
      "source": [
        "def test1():\r\n",
        "  return 5+8j,6,8,88,77,66\r\n",
        "  "
      ],
      "execution_count": null,
      "outputs": []
    },
    {
      "cell_type": "code",
      "metadata": {
        "colab": {
          "base_uri": "https://localhost:8080/"
        },
        "id": "ycHzGd6xv33p",
        "outputId": "c78947cc-d5fd-4af6-890e-0cd73718e580"
      },
      "source": [
        "b,c,d,e,f,g=test1() # multiple value in single line \r\n",
        "g \r\n",
        "b,_,i,_,_,_=test1()\r\n",
        "_\r\n",
        "i"
      ],
      "execution_count": null,
      "outputs": [
        {
          "output_type": "execute_result",
          "data": {
            "text/plain": [
              "8"
            ]
          },
          "metadata": {
            "tags": []
          },
          "execution_count": 109
        }
      ]
    },
    {
      "cell_type": "code",
      "metadata": {
        "id": "b-BcU4oXv2uP"
      },
      "source": [
        "def test2(a,b):\r\n",
        "  return a + b"
      ],
      "execution_count": null,
      "outputs": []
    },
    {
      "cell_type": "code",
      "metadata": {
        "colab": {
          "base_uri": "https://localhost:8080/",
          "height": 35
        },
        "id": "WoW6xtumxCfg",
        "outputId": "35453981-0b10-4f71-c77d-ebb2aac2a6ea"
      },
      "source": [
        "test2(7,8)\r\n",
        "test2('jai shree',' Radhye')"
      ],
      "execution_count": null,
      "outputs": [
        {
          "output_type": "execute_result",
          "data": {
            "application/vnd.google.colaboratory.intrinsic+json": {
              "type": "string"
            },
            "text/plain": [
              "'jai shree Radhye'"
            ]
          },
          "metadata": {
            "tags": []
          },
          "execution_count": 115
        }
      ]
    },
    {
      "cell_type": "code",
      "metadata": {
        "colab": {
          "base_uri": "https://localhost:8080/"
        },
        "id": "WJpiS9FVxbWe",
        "outputId": "b77aed48-4ee1-4493-cf43-16de9ae6ba40"
      },
      "source": [
        "test2([3,5,5,8],[35,5,46])"
      ],
      "execution_count": null,
      "outputs": [
        {
          "output_type": "execute_result",
          "data": {
            "text/plain": [
              "[3, 5, 5, 8, 35, 5, 46]"
            ]
          },
          "metadata": {
            "tags": []
          },
          "execution_count": 116
        }
      ]
    },
    {
      "cell_type": "code",
      "metadata": {
        "colab": {
          "base_uri": "https://localhost:8080/",
          "height": 238
        },
        "id": "Tu-V7LUmxisp",
        "outputId": "c00219d0-823f-47dd-d5a3-5775bb6a5a20"
      },
      "source": [
        "test2([23,56,8],'krsna')"
      ],
      "execution_count": null,
      "outputs": [
        {
          "output_type": "error",
          "ename": "TypeError",
          "evalue": "ignored",
          "traceback": [
            "\u001b[0;31m---------------------------------------------------------------------------\u001b[0m",
            "\u001b[0;31mTypeError\u001b[0m                                 Traceback (most recent call last)",
            "\u001b[0;32m<ipython-input-117-dc56986ad1f4>\u001b[0m in \u001b[0;36m<module>\u001b[0;34m()\u001b[0m\n\u001b[0;32m----> 1\u001b[0;31m \u001b[0mtest2\u001b[0m\u001b[0;34m(\u001b[0m\u001b[0;34m[\u001b[0m\u001b[0;36m23\u001b[0m\u001b[0;34m,\u001b[0m\u001b[0;36m56\u001b[0m\u001b[0;34m,\u001b[0m\u001b[0;36m8\u001b[0m\u001b[0;34m]\u001b[0m\u001b[0;34m,\u001b[0m\u001b[0;34m'krsna'\u001b[0m\u001b[0;34m)\u001b[0m\u001b[0;34m\u001b[0m\u001b[0;34m\u001b[0m\u001b[0m\n\u001b[0m",
            "\u001b[0;32m<ipython-input-112-dc500f44e662>\u001b[0m in \u001b[0;36mtest2\u001b[0;34m(a, b)\u001b[0m\n\u001b[1;32m      1\u001b[0m \u001b[0;32mdef\u001b[0m \u001b[0mtest2\u001b[0m\u001b[0;34m(\u001b[0m\u001b[0ma\u001b[0m\u001b[0;34m,\u001b[0m\u001b[0mb\u001b[0m\u001b[0;34m)\u001b[0m\u001b[0;34m:\u001b[0m\u001b[0;34m\u001b[0m\u001b[0;34m\u001b[0m\u001b[0m\n\u001b[0;32m----> 2\u001b[0;31m   \u001b[0;32mreturn\u001b[0m \u001b[0ma\u001b[0m \u001b[0;34m+\u001b[0m \u001b[0mb\u001b[0m\u001b[0;34m\u001b[0m\u001b[0;34m\u001b[0m\u001b[0m\n\u001b[0m",
            "\u001b[0;31mTypeError\u001b[0m: can only concatenate list (not \"str\") to list"
          ]
        }
      ]
    },
    {
      "cell_type": "code",
      "metadata": {
        "id": "y-PUAPRaxoTO"
      },
      "source": [
        "def test2(a,b):\r\n",
        "  c=a/b\r\n",
        "  return c"
      ],
      "execution_count": null,
      "outputs": []
    },
    {
      "cell_type": "code",
      "metadata": {
        "colab": {
          "base_uri": "https://localhost:8080/"
        },
        "id": "fXBrv6XxxudN",
        "outputId": "a84673b5-79d3-4a62-b46c-1e8d1a3e3cfa"
      },
      "source": [
        "test2(16,8)"
      ],
      "execution_count": null,
      "outputs": [
        {
          "output_type": "execute_result",
          "data": {
            "text/plain": [
              "2.0"
            ]
          },
          "metadata": {
            "tags": []
          },
          "execution_count": 119
        }
      ]
    },
    {
      "cell_type": "code",
      "metadata": {
        "id": "_aAtSeYnHZer"
      },
      "source": [
        "def test5(a,b=1):\r\n",
        "  return a+b"
      ],
      "execution_count": null,
      "outputs": []
    },
    {
      "cell_type": "code",
      "metadata": {
        "colab": {
          "base_uri": "https://localhost:8080/"
        },
        "id": "5M9o4301Htn_",
        "outputId": "dd942fcf-6de6-4131-95df-b6d002b40af1"
      },
      "source": [
        "test5(10,45) #syntactically error compile time"
      ],
      "execution_count": null,
      "outputs": [
        {
          "output_type": "execute_result",
          "data": {
            "text/plain": [
              "55"
            ]
          },
          "metadata": {
            "tags": []
          },
          "execution_count": 123
        }
      ]
    },
    {
      "cell_type": "code",
      "metadata": {
        "id": "wtX-hEuOIZnu"
      },
      "source": [
        "def test4(a,n,m,b=1):\r\n",
        "  return a+b"
      ],
      "execution_count": null,
      "outputs": []
    },
    {
      "cell_type": "code",
      "metadata": {
        "colab": {
          "base_uri": "https://localhost:8080/"
        },
        "id": "srT2WxzpIor5",
        "outputId": "f8b12e0f-7bb1-4bd4-d452-cd057990ff54"
      },
      "source": [
        "test4(10,4,5)"
      ],
      "execution_count": null,
      "outputs": [
        {
          "output_type": "execute_result",
          "data": {
            "text/plain": [
              "11"
            ]
          },
          "metadata": {
            "tags": []
          },
          "execution_count": 127
        }
      ]
    },
    {
      "cell_type": "code",
      "metadata": {
        "id": "wmsSe32EI6BA"
      },
      "source": [
        "def modifylist(a):\r\n",
        "  l=[]\r\n",
        "  if type(a)==list:\r\n",
        "    for i in a:\r\n",
        "      l.append(i+4)\r\n",
        "  else :\r\n",
        "    print(\"input is not a list\")\r\n",
        "  return l\r\n"
      ],
      "execution_count": null,
      "outputs": []
    },
    {
      "cell_type": "code",
      "metadata": {
        "colab": {
          "base_uri": "https://localhost:8080/"
        },
        "id": "zALcHhC4JGp3",
        "outputId": "4dc73236-e124-43e0-a294-00df127b58c4"
      },
      "source": [
        "modifylist([4,5,6,7,8])"
      ],
      "execution_count": null,
      "outputs": [
        {
          "output_type": "execute_result",
          "data": {
            "text/plain": [
              "[8, 9, 10, 11, 12]"
            ]
          },
          "metadata": {
            "tags": []
          },
          "execution_count": 132
        }
      ]
    },
    {
      "cell_type": "code",
      "metadata": {
        "colab": {
          "base_uri": "https://localhost:8080/"
        },
        "id": "M96tlEIuJ6Xa",
        "outputId": "7287974e-e01d-4ca5-ec31-38f0a039b2da"
      },
      "source": [
        "modifylist('dkfjkdslfjkdls')"
      ],
      "execution_count": null,
      "outputs": [
        {
          "output_type": "stream",
          "text": [
            "input is not a list\n"
          ],
          "name": "stdout"
        },
        {
          "output_type": "execute_result",
          "data": {
            "text/plain": [
              "[]"
            ]
          },
          "metadata": {
            "tags": []
          },
          "execution_count": 133
        }
      ]
    },
    {
      "cell_type": "markdown",
      "metadata": {
        "id": "RDAWGYFOKBgA"
      },
      "source": [
        "# Example 2: A simple greeting function \r\n"
      ]
    },
    {
      "cell_type": "code",
      "metadata": {
        "id": "KTj1CiEkJ_RP"
      },
      "source": [
        "def greeting(name):\r\n",
        "  print(\"hello %s\" %name)"
      ],
      "execution_count": null,
      "outputs": []
    },
    {
      "cell_type": "code",
      "metadata": {
        "colab": {
          "base_uri": "https://localhost:8080/"
        },
        "id": "tEVNCbs0KVv9",
        "outputId": "c8b26cc3-f627-450d-e791-257886f399ff"
      },
      "source": [
        "greeting('krsna')"
      ],
      "execution_count": null,
      "outputs": [
        {
          "output_type": "stream",
          "text": [
            "hello krsna\n"
          ],
          "name": "stdout"
        }
      ]
    },
    {
      "cell_type": "code",
      "metadata": {
        "id": "PLHIQzt_Kn48"
      },
      "source": [
        " def is_prime(num):\r\n",
        "   '''\r\n",
        "   Naive method of checking for primes.\r\n",
        "   '''\r\n",
        "   for n in range(2,num):\r\n",
        "     if num % n==0:\r\n",
        "       print('not prime')\r\n",
        "       break\r\n",
        "   else:\r\n",
        "     print('prime')\r\n",
        "     "
      ],
      "execution_count": null,
      "outputs": []
    },
    {
      "cell_type": "code",
      "metadata": {
        "id": "HV5jln4nmSUQ"
      },
      "source": [
        "import math\r\n",
        "def is_prime(num):\r\n",
        "  '''\r\n",
        "  A better method of checking for primes.\r\n",
        "  '''\r\n",
        "  if num % 2==0 and num >2:\r\n",
        "    return False\r\n",
        "  for i in range(3,int(math.sqrt(num))+1,2):\r\n",
        "    if num % i==0:\r\n",
        "      return False\r\n",
        "  return True"
      ],
      "execution_count": null,
      "outputs": []
    },
    {
      "cell_type": "code",
      "metadata": {
        "colab": {
          "base_uri": "https://localhost:8080/"
        },
        "id": "Q3xw9xZ9pzHo",
        "outputId": "567c23f2-fa08-4123-96ec-3245a889a273"
      },
      "source": [
        "is_prime(23)"
      ],
      "execution_count": null,
      "outputs": [
        {
          "output_type": "execute_result",
          "data": {
            "text/plain": [
              "True"
            ]
          },
          "metadata": {
            "tags": []
          },
          "execution_count": 151
        }
      ]
    },
    {
      "cell_type": "code",
      "metadata": {
        "id": "I7R7WKN8qZI7"
      },
      "source": [
        ""
      ],
      "execution_count": null,
      "outputs": []
    },
    {
      "cell_type": "markdown",
      "metadata": {
        "id": "NdJhnlLGqZ_A"
      },
      "source": [
        "#Iterators and Generators\r\n"
      ]
    },
    {
      "cell_type": "code",
      "metadata": {
        "colab": {
          "base_uri": "https://localhost:8080/"
        },
        "id": "AcxGOJz0qjI3",
        "outputId": "d7079542-72c9-4d38-9d3d-5557705fa61c"
      },
      "source": [
        "list(range(8))"
      ],
      "execution_count": null,
      "outputs": [
        {
          "output_type": "execute_result",
          "data": {
            "text/plain": [
              "[0, 1, 2, 3, 4, 5, 6, 7]"
            ]
          },
          "metadata": {
            "tags": []
          },
          "execution_count": 153
        }
      ]
    },
    {
      "cell_type": "code",
      "metadata": {
        "id": "30x1Lp5krJg_"
      },
      "source": [
        "def gencubes(n):\r\n",
        "  for num in range(n):\r\n",
        "    print (num**3)\r\n"
      ],
      "execution_count": null,
      "outputs": []
    },
    {
      "cell_type": "code",
      "metadata": {
        "id": "MX1HmdHNqjWv"
      },
      "source": [
        ""
      ],
      "execution_count": null,
      "outputs": []
    },
    {
      "cell_type": "code",
      "metadata": {
        "colab": {
          "base_uri": "https://localhost:8080/"
        },
        "id": "lD-lLEdFq8CB",
        "outputId": "7b0c2be8-309a-4333-92e0-8f46f7328d1c"
      },
      "source": [
        "gencubes(8)"
      ],
      "execution_count": null,
      "outputs": [
        {
          "output_type": "stream",
          "text": [
            "0\n",
            "1\n",
            "8\n",
            "27\n",
            "64\n",
            "125\n",
            "216\n",
            "343\n"
          ],
          "name": "stdout"
        }
      ]
    },
    {
      "cell_type": "code",
      "metadata": {
        "id": "zL5QnbK6sK8I"
      },
      "source": [
        "#Generator function for the cube of numbers (powers of 3)\r\n",
        "def gencubes(n):\r\n",
        "  for num in range(n):\r\n",
        "    yield num**3\r\n",
        "# yield always gives to create generator function"
      ],
      "execution_count": null,
      "outputs": []
    },
    {
      "cell_type": "code",
      "metadata": {
        "id": "iZe6_j-vsMoV"
      },
      "source": [
        "b=gencubes(5) # given data address where it is stored "
      ],
      "execution_count": null,
      "outputs": []
    },
    {
      "cell_type": "code",
      "metadata": {
        "colab": {
          "base_uri": "https://localhost:8080/"
        },
        "id": "3tuHXAwEwIWL",
        "outputId": "31cbde46-6de9-4f1a-87ee-bea016b4a565"
      },
      "source": [
        "next(b)"
      ],
      "execution_count": null,
      "outputs": [
        {
          "output_type": "execute_result",
          "data": {
            "text/plain": [
              "0"
            ]
          },
          "metadata": {
            "tags": []
          },
          "execution_count": 183
        }
      ]
    },
    {
      "cell_type": "code",
      "metadata": {
        "colab": {
          "base_uri": "https://localhost:8080/"
        },
        "id": "SvPu-lnhsgom",
        "outputId": "d0b1fd9e-f577-4663-e5e1-a905c12526f1"
      },
      "source": [
        "list(gencubes(5)) "
      ],
      "execution_count": null,
      "outputs": [
        {
          "output_type": "execute_result",
          "data": {
            "text/plain": [
              "[0, 1, 8, 27, 64]"
            ]
          },
          "metadata": {
            "tags": []
          },
          "execution_count": 167
        }
      ]
    },
    {
      "cell_type": "code",
      "metadata": {
        "id": "r8W42eOPwF39"
      },
      "source": [
        ""
      ],
      "execution_count": null,
      "outputs": []
    },
    {
      "cell_type": "code",
      "metadata": {
        "colab": {
          "base_uri": "https://localhost:8080/"
        },
        "id": "0Pdd7f9WsjxA",
        "outputId": "dc804228-377f-4a85-eeed-1a46761378d4"
      },
      "source": [
        "str1='jitender saini'\r\n",
        "for i in str1:\r\n",
        "  print(i)"
      ],
      "execution_count": null,
      "outputs": [
        {
          "output_type": "stream",
          "text": [
            "j\n",
            "i\n",
            "t\n",
            "e\n",
            "n\n",
            "d\n",
            "e\n",
            "r\n",
            " \n",
            "s\n",
            "a\n",
            "i\n",
            "n\n",
            "i\n"
          ],
          "name": "stdout"
        }
      ]
    },
    {
      "cell_type": "code",
      "metadata": {
        "colab": {
          "base_uri": "https://localhost:8080/",
          "height": 167
        },
        "id": "-hfug00dtNvb",
        "outputId": "65a71b39-bbd3-4d95-ee6a-a32d3b890ae1"
      },
      "source": [
        "next(\"jitendersainni\")"
      ],
      "execution_count": null,
      "outputs": [
        {
          "output_type": "error",
          "ename": "TypeError",
          "evalue": "ignored",
          "traceback": [
            "\u001b[0;31m---------------------------------------------------------------------------\u001b[0m",
            "\u001b[0;31mTypeError\u001b[0m                                 Traceback (most recent call last)",
            "\u001b[0;32m<ipython-input-169-59aab87ee771>\u001b[0m in \u001b[0;36m<module>\u001b[0;34m()\u001b[0m\n\u001b[0;32m----> 1\u001b[0;31m \u001b[0mnext\u001b[0m\u001b[0;34m(\u001b[0m\u001b[0;34m\"jitendersainni\"\u001b[0m\u001b[0;34m)\u001b[0m\u001b[0;34m\u001b[0m\u001b[0;34m\u001b[0m\u001b[0m\n\u001b[0m",
            "\u001b[0;31mTypeError\u001b[0m: 'str' object is not an iterator"
          ]
        }
      ]
    },
    {
      "cell_type": "code",
      "metadata": {
        "id": "z_c7ZFo2tYXt"
      },
      "source": [
        "# Iterator :\r\n",
        "# Iterable : coverting from iterable to iterator by iter(s)"
      ],
      "execution_count": null,
      "outputs": []
    },
    {
      "cell_type": "code",
      "metadata": {
        "id": "mS0YB1xYvLh6"
      },
      "source": [
        ""
      ],
      "execution_count": null,
      "outputs": []
    },
    {
      "cell_type": "markdown",
      "metadata": {
        "id": "1WquzWx2vM6B"
      },
      "source": [
        "#Iterable \r\n",
        "is an object, which one can iterate over. ... Iterator is an object, which is used to iterate over an iterable object using __next__() method. Iterators have __next__() method, which returns the next item of the object. Note that every iterator is also an iterable, but not every iterable is an iterator"
      ]
    },
    {
      "cell_type": "code",
      "metadata": {
        "colab": {
          "base_uri": "https://localhost:8080/",
          "height": 167
        },
        "id": "KigLiSQrtwz6",
        "outputId": "c33c7981-7a6a-48e9-ea0b-052b1f4db045"
      },
      "source": [
        "next(767) "
      ],
      "execution_count": null,
      "outputs": [
        {
          "output_type": "error",
          "ename": "TypeError",
          "evalue": "ignored",
          "traceback": [
            "\u001b[0;31m---------------------------------------------------------------------------\u001b[0m",
            "\u001b[0;31mTypeError\u001b[0m                                 Traceback (most recent call last)",
            "\u001b[0;32m<ipython-input-171-91fd9e314df3>\u001b[0m in \u001b[0;36m<module>\u001b[0;34m()\u001b[0m\n\u001b[0;32m----> 1\u001b[0;31m \u001b[0mnext\u001b[0m\u001b[0;34m(\u001b[0m\u001b[0;36m767\u001b[0m\u001b[0;34m)\u001b[0m\u001b[0;34m\u001b[0m\u001b[0;34m\u001b[0m\u001b[0m\n\u001b[0m",
            "\u001b[0;31mTypeError\u001b[0m: 'int' object is not an iterator"
          ]
        }
      ]
    },
    {
      "cell_type": "markdown",
      "metadata": {
        "id": "2nMVBm9ywZgr"
      },
      "source": [
        ""
      ]
    },
    {
      "cell_type": "code",
      "metadata": {
        "id": "fh-bwZt2uA-X"
      },
      "source": [
        "s=\"jai ho kanha\"\r\n",
        "\r\n"
      ],
      "execution_count": null,
      "outputs": []
    },
    {
      "cell_type": "code",
      "metadata": {
        "colab": {
          "base_uri": "https://localhost:8080/",
          "height": 167
        },
        "id": "8KaC4wLQuFIy",
        "outputId": "0efb5559-286f-4a12-b893-d3750242d0a8"
      },
      "source": [
        "next(s)"
      ],
      "execution_count": null,
      "outputs": [
        {
          "output_type": "error",
          "ename": "TypeError",
          "evalue": "ignored",
          "traceback": [
            "\u001b[0;31m---------------------------------------------------------------------------\u001b[0m",
            "\u001b[0;31mTypeError\u001b[0m                                 Traceback (most recent call last)",
            "\u001b[0;32m<ipython-input-174-61c30b5fe1d5>\u001b[0m in \u001b[0;36m<module>\u001b[0;34m()\u001b[0m\n\u001b[0;32m----> 1\u001b[0;31m \u001b[0mnext\u001b[0m\u001b[0;34m(\u001b[0m\u001b[0ms\u001b[0m\u001b[0;34m)\u001b[0m\u001b[0;34m\u001b[0m\u001b[0;34m\u001b[0m\u001b[0m\n\u001b[0m",
            "\u001b[0;31mTypeError\u001b[0m: 'str' object is not an iterator"
          ]
        }
      ]
    },
    {
      "cell_type": "code",
      "metadata": {
        "colab": {
          "base_uri": "https://localhost:8080/"
        },
        "id": "ZaSAjYIZuWIf",
        "outputId": "9ebae680-ebee-4105-a0bc-b24b1a12896b"
      },
      "source": [
        "c=iter(s)\r\n",
        "c"
      ],
      "execution_count": null,
      "outputs": [
        {
          "output_type": "execute_result",
          "data": {
            "text/plain": [
              "<str_iterator at 0x7fc109066898>"
            ]
          },
          "metadata": {
            "tags": []
          },
          "execution_count": 176
        }
      ]
    },
    {
      "cell_type": "code",
      "metadata": {
        "colab": {
          "base_uri": "https://localhost:8080/",
          "height": 35
        },
        "id": "fVwINN7MudMu",
        "outputId": "f0928d73-4ca3-41dc-890c-e8e0c3b92dce"
      },
      "source": [
        "next(c)"
      ],
      "execution_count": null,
      "outputs": [
        {
          "output_type": "execute_result",
          "data": {
            "application/vnd.google.colaboratory.intrinsic+json": {
              "type": "string"
            },
            "text/plain": [
              "' '"
            ]
          },
          "metadata": {
            "tags": []
          },
          "execution_count": 180
        }
      ]
    },
    {
      "cell_type": "code",
      "metadata": {
        "colab": {
          "base_uri": "https://localhost:8080/"
        },
        "id": "lncPBfckt2jr",
        "outputId": "9e76ebfc-be7a-42f1-b8bb-2b33d17863bd"
      },
      "source": [
        "iter(\"HareKrsna\")"
      ],
      "execution_count": null,
      "outputs": [
        {
          "output_type": "execute_result",
          "data": {
            "text/plain": [
              "<str_iterator at 0x7fc109066ef0>"
            ]
          },
          "metadata": {
            "tags": []
          },
          "execution_count": 172
        }
      ]
    },
    {
      "cell_type": "code",
      "metadata": {
        "colab": {
          "base_uri": "https://localhost:8080/",
          "height": 167
        },
        "id": "KM7_ZlB-ttOa",
        "outputId": "25dec101-f621-475a-91ae-8eb65caa81da"
      },
      "source": [
        "iter(334)"
      ],
      "execution_count": null,
      "outputs": [
        {
          "output_type": "error",
          "ename": "TypeError",
          "evalue": "ignored",
          "traceback": [
            "\u001b[0;31m---------------------------------------------------------------------------\u001b[0m",
            "\u001b[0;31mTypeError\u001b[0m                                 Traceback (most recent call last)",
            "\u001b[0;32m<ipython-input-170-dac56364da7e>\u001b[0m in \u001b[0;36m<module>\u001b[0;34m()\u001b[0m\n\u001b[0;32m----> 1\u001b[0;31m \u001b[0miter\u001b[0m\u001b[0;34m(\u001b[0m\u001b[0;36m334\u001b[0m\u001b[0;34m)\u001b[0m\u001b[0;34m\u001b[0m\u001b[0;34m\u001b[0m\u001b[0m\n\u001b[0m",
            "\u001b[0;31mTypeError\u001b[0m: 'int' object is not iterable"
          ]
        }
      ]
    },
    {
      "cell_type": "code",
      "metadata": {
        "id": "2H44k1j-wbS3"
      },
      "source": [
        ""
      ],
      "execution_count": null,
      "outputs": []
    },
    {
      "cell_type": "code",
      "metadata": {
        "id": "mp20pw0vw610"
      },
      "source": [
        ""
      ],
      "execution_count": null,
      "outputs": []
    },
    {
      "cell_type": "markdown",
      "metadata": {
        "id": "5Jzujxb-wfOG"
      },
      "source": [
        "# fibonacci numbers\r\n"
      ]
    },
    {
      "cell_type": "code",
      "metadata": {
        "id": "3kQiEwapwl4U"
      },
      "source": [
        "def genfibon(n):\r\n",
        "  '''\r\n",
        "  Generate a fibonacci sequence up to n\r\n",
        "  '''\r\n",
        "  a=1\r\n",
        "  b=1\r\n",
        "  for i in range(n):\r\n",
        "    yield a\r\n",
        "    a,b=b,a+b "
      ],
      "execution_count": null,
      "outputs": []
    },
    {
      "cell_type": "code",
      "metadata": {
        "colab": {
          "base_uri": "https://localhost:8080/"
        },
        "id": "H3pikA1S05QZ",
        "outputId": "cdd500cb-0254-45ae-b11b-2e38ef243835"
      },
      "source": [
        "genfibon(384738473847850323494323001)"
      ],
      "execution_count": null,
      "outputs": [
        {
          "output_type": "execute_result",
          "data": {
            "text/plain": [
              "<generator object genfibon at 0x7fc109091360>"
            ]
          },
          "metadata": {
            "tags": []
          },
          "execution_count": 187
        }
      ]
    },
    {
      "cell_type": "code",
      "metadata": {
        "id": "amkexadCxXev"
      },
      "source": [
        "def fibon(n):\r\n",
        "  a=1\r\n",
        "  b=1\r\n",
        "  output=[]\r\n",
        "  for i in range(n):\r\n",
        "    output.append(a)\r\n",
        "    a,b=b,a+b\r\n",
        "  return output"
      ],
      "execution_count": null,
      "outputs": []
    },
    {
      "cell_type": "markdown",
      "metadata": {
        "id": "-zhz2aOc1s5m"
      },
      "source": [
        "#**Map** function"
      ]
    },
    {
      "cell_type": "code",
      "metadata": {
        "id": "FsACRpxtz3Cw"
      },
      "source": [
        "def fahrenheit(T):\r\n",
        "  return ((float(9)/5)*T+32)\r\n",
        "\r\n",
        "def celsius(T):\r\n",
        "  return (float(5)/9)*(T-32)\r\n",
        "\r\n",
        "temp=[0,22,5.5,70,34,100]\r\n",
        "def summ(x,y):\r\n",
        "  return x+y"
      ],
      "execution_count": null,
      "outputs": []
    },
    {
      "cell_type": "code",
      "metadata": {
        "id": "_JAKd9hZ2ai1"
      },
      "source": [
        "l=[]\r\n",
        "for i in temp:\r\n",
        "  l.append(fahrenheit(i))"
      ],
      "execution_count": null,
      "outputs": []
    },
    {
      "cell_type": "code",
      "metadata": {
        "colab": {
          "base_uri": "https://localhost:8080/"
        },
        "id": "S6KCDwMl2iz2",
        "outputId": "470b5cd0-3a8f-4bb3-c238-86b2e3c612a0"
      },
      "source": [
        "l"
      ],
      "execution_count": null,
      "outputs": [
        {
          "output_type": "execute_result",
          "data": {
            "text/plain": [
              "[32.0, 71.6, 41.9, 158.0, 93.2, 212.0]"
            ]
          },
          "metadata": {
            "tags": []
          },
          "execution_count": 190
        }
      ]
    },
    {
      "cell_type": "code",
      "metadata": {
        "colab": {
          "base_uri": "https://localhost:8080/"
        },
        "id": "bXKxjO2f3EBJ",
        "outputId": "6f4f435c-d6f8-499c-f356-2e40ceb81f5b"
      },
      "source": [
        "F_temps=list(map(fahrenheit,temp))\r\n",
        "# Show\r\n",
        "F_temps"
      ],
      "execution_count": null,
      "outputs": [
        {
          "output_type": "execute_result",
          "data": {
            "text/plain": [
              "[32.0, 71.6, 41.9, 158.0, 93.2, 212.0]"
            ]
          },
          "metadata": {
            "tags": []
          },
          "execution_count": 193
        }
      ]
    },
    {
      "cell_type": "code",
      "metadata": {
        "colab": {
          "base_uri": "https://localhost:8080/"
        },
        "id": "qkvuIreP20jp",
        "outputId": "42974d55-7efa-4109-cf42-85f0ddd90844"
      },
      "source": [
        "m=[]\r\n",
        "for i in temp:\r\n",
        "  m.append(celsius)\r\n",
        "\r\n"
      ],
      "execution_count": null,
      "outputs": [
        {
          "output_type": "execute_result",
          "data": {
            "text/plain": [
              "[<function __main__.celsius>,\n",
              " <function __main__.celsius>,\n",
              " <function __main__.celsius>,\n",
              " <function __main__.celsius>,\n",
              " <function __main__.celsius>,\n",
              " <function __main__.celsius>]"
            ]
          },
          "metadata": {
            "tags": []
          },
          "execution_count": 191
        }
      ]
    },
    {
      "cell_type": "code",
      "metadata": {
        "colab": {
          "base_uri": "https://localhost:8080/"
        },
        "id": "r6lsTlMU3NCl",
        "outputId": "128533d3-c281-444c-c5fe-9163619b7aa4"
      },
      "source": [
        "list(map(celsius,F_temps))"
      ],
      "execution_count": null,
      "outputs": [
        {
          "output_type": "execute_result",
          "data": {
            "text/plain": [
              "[0.0, 21.999999999999996, 5.499999999999999, 70.0, 34.0, 100.0]"
            ]
          },
          "metadata": {
            "tags": []
          },
          "execution_count": 194
        }
      ]
    },
    {
      "cell_type": "code",
      "metadata": {
        "id": "oL0KTNWfOsny"
      },
      "source": [
        "def test(b):\r\n",
        "  return b**5"
      ],
      "execution_count": null,
      "outputs": []
    },
    {
      "cell_type": "code",
      "metadata": {
        "id": "_HokgcKCOaR0"
      },
      "source": [
        "l=[4,5,6,8,9]\r\n"
      ],
      "execution_count": null,
      "outputs": []
    },
    {
      "cell_type": "code",
      "metadata": {
        "id": "yBaFQPQBOyNj"
      },
      "source": [
        "m=[]\r\n",
        "for i in l:\r\n",
        "  m.append(test(i))"
      ],
      "execution_count": null,
      "outputs": []
    },
    {
      "cell_type": "code",
      "metadata": {
        "colab": {
          "base_uri": "https://localhost:8080/"
        },
        "id": "WVjKRG97PIte",
        "outputId": "f7582c63-8d86-4aab-a618-9d53d7facc82"
      },
      "source": [
        "list(map(test,l))"
      ],
      "execution_count": null,
      "outputs": [
        {
          "output_type": "execute_result",
          "data": {
            "text/plain": [
              "[33554432.0,\n",
              " 1881763808.2457592,\n",
              " 129142775.18098998,\n",
              " 98465804768.0,\n",
              " 7032011329.464321,\n",
              " 428232184832.0]"
            ]
          },
          "metadata": {
            "tags": []
          },
          "execution_count": 197
        }
      ]
    },
    {
      "cell_type": "code",
      "metadata": {
        "colab": {
          "base_uri": "https://localhost:8080/"
        },
        "id": "oq_t8YVPPU5O",
        "outputId": "589dedfc-b9bc-4c32-85a4-fac87c6c7f40"
      },
      "source": [
        "m"
      ],
      "execution_count": null,
      "outputs": [
        {
          "output_type": "execute_result",
          "data": {
            "text/plain": [
              "[33554432.0,\n",
              " 1881763808.2457592,\n",
              " 129142775.18098998,\n",
              " 98465804768.0,\n",
              " 7032011329.464321,\n",
              " 428232184832.0]"
            ]
          },
          "metadata": {
            "tags": []
          },
          "execution_count": 198
        }
      ]
    },
    {
      "cell_type": "code",
      "metadata": {
        "colab": {
          "base_uri": "https://localhost:8080/"
        },
        "id": "jGuUF07sPhAI",
        "outputId": "3e5b9570-7219-4361-c5e2-224fe5610e4f"
      },
      "source": [
        "list(map(lambda x : x**5,l))"
      ],
      "execution_count": null,
      "outputs": [
        {
          "output_type": "execute_result",
          "data": {
            "text/plain": [
              "[33554432.0,\n",
              " 1881763808.2457592,\n",
              " 129142775.18098998,\n",
              " 98465804768.0,\n",
              " 7032011329.464321,\n",
              " 428232184832.0]"
            ]
          },
          "metadata": {
            "tags": []
          },
          "execution_count": 200
        }
      ]
    },
    {
      "cell_type": "code",
      "metadata": {
        "id": "OngTIAkDV1IN"
      },
      "source": [
        "a=[1,2,3,5,6]\r\n",
        "b=[4,5,5,64,5]\r\n",
        "c=[9,20,34,5,5,54]\r\n",
        "list(map(lambda x,y:x+y,a,b))\r\n",
        "\r\n",
        "def sum(x,y,z):\r\n",
        "  return x+y+z"
      ],
      "execution_count": null,
      "outputs": []
    },
    {
      "cell_type": "code",
      "metadata": {
        "colab": {
          "base_uri": "https://localhost:8080/"
        },
        "id": "Vc0YIgTjXhJc",
        "outputId": "28554f6f-d885-45ed-ed24-061c38b57079"
      },
      "source": [
        "\r\n",
        "list(map(lambda x,y,z:x+y+z,a,b,c))"
      ],
      "execution_count": null,
      "outputs": [
        {
          "output_type": "execute_result",
          "data": {
            "text/plain": [
              "[14, 27, 42, 74, 16]"
            ]
          },
          "metadata": {
            "tags": []
          },
          "execution_count": 207
        }
      ]
    },
    {
      "cell_type": "code",
      "metadata": {
        "id": "nR-rsG0bWjke"
      },
      "source": [
        "def test(x,y,z):\r\n",
        "  return x+y+z"
      ],
      "execution_count": null,
      "outputs": []
    },
    {
      "cell_type": "code",
      "metadata": {
        "colab": {
          "base_uri": "https://localhost:8080/"
        },
        "id": "k0GZfHxAW-hs",
        "outputId": "2cdc625d-8104-479c-efc9-26e402eb90c5"
      },
      "source": [
        "list(map(sum,a,b,c))"
      ],
      "execution_count": null,
      "outputs": [
        {
          "output_type": "execute_result",
          "data": {
            "text/plain": [
              "[14, 27, 42, 74, 16]"
            ]
          },
          "metadata": {
            "tags": []
          },
          "execution_count": 205
        }
      ]
    },
    {
      "cell_type": "code",
      "metadata": {
        "id": "ZyE-_Ym5W-Va"
      },
      "source": [
        "#map function"
      ],
      "execution_count": null,
      "outputs": []
    },
    {
      "cell_type": "code",
      "metadata": {
        "colab": {
          "base_uri": "https://localhost:8080/"
        },
        "id": "YuWoOj6JWqzG",
        "outputId": "ab221c55-8d8b-45ea-dee7-abf4cd69133f"
      },
      "source": [
        "list(map(test,a,b,c))"
      ],
      "execution_count": null,
      "outputs": [
        {
          "output_type": "execute_result",
          "data": {
            "text/plain": [
              "[14, 27, 42, 74, 16]"
            ]
          },
          "metadata": {
            "tags": []
          },
          "execution_count": 204
        }
      ]
    },
    {
      "cell_type": "code",
      "metadata": {
        "id": "y_5PGjiD-GMF"
      },
      "source": [
        ""
      ],
      "execution_count": null,
      "outputs": []
    },
    {
      "cell_type": "markdown",
      "metadata": {
        "id": "pEfjy2d7-IIq"
      },
      "source": [
        "Let's look at a diagram to get a better understanding of what is goingon here:"
      ]
    },
    {
      "cell_type": "code",
      "metadata": {
        "colab": {
          "base_uri": "https://localhost:8080/",
          "height": 223
        },
        "id": "W8CdDoL1_xAA",
        "outputId": "9e537567-379f-4cd9-e88d-061d6faf65a8"
      },
      "source": [
        "from IPython.display import Image\r\n",
        "Image('http://www.python-course.eu/images/reduce_diagram.png' )"
      ],
      "execution_count": 9,
      "outputs": [
        {
          "output_type": "execute_result",
          "data": {
            "image/png": "[encoded data removed]",
            "text/plain": [
              "<IPython.core.display.Image object>"
            ]
          },
          "metadata": {
            "tags": []
          },
          "execution_count": 9
        }
      ]
    },
    {
      "cell_type": "code",
      "metadata": {
        "colab": {
          "base_uri": "https://localhost:8080/",
          "height": 35
        },
        "id": "TgOGtDcM-dOG",
        "outputId": "5d3812d3-10b9-4cd3-a39f-af13be30a124"
      },
      "source": [
        "from functools import reduce\r\n",
        "lst=['sdds','krsna','Radhye']\r\n",
        "l=[8,3,54]\r\n",
        "reduce(lambda a,b:a+b,lst) #reduce function aggregation"
      ],
      "execution_count": 7,
      "outputs": [
        {
          "output_type": "execute_result",
          "data": {
            "application/vnd.google.colaboratory.intrinsic+json": {
              "type": "string"
            },
            "text/plain": [
              "'sddskrsnaRadhye'"
            ]
          },
          "metadata": {
            "tags": []
          },
          "execution_count": 7
        }
      ]
    },
    {
      "cell_type": "code",
      "metadata": {
        "id": "JSByERuR-9F_"
      },
      "source": [
        "def summation(a,b):\r\n",
        "  return a+b"
      ],
      "execution_count": 5,
      "outputs": []
    },
    {
      "cell_type": "code",
      "metadata": {
        "colab": {
          "base_uri": "https://localhost:8080/"
        },
        "id": "yJ4YmTS0_JQl",
        "outputId": "fac60616-e36b-45c9-9c28-4d32ea0e327c"
      },
      "source": [
        "reduce(summation,l) # reduce default gives an output  single value "
      ],
      "execution_count": 8,
      "outputs": [
        {
          "output_type": "execute_result",
          "data": {
            "text/plain": [
              "65"
            ]
          },
          "metadata": {
            "tags": []
          },
          "execution_count": 8
        }
      ]
    },
    {
      "cell_type": "code",
      "metadata": {
        "colab": {
          "base_uri": "https://localhost:8080/",
          "height": 35
        },
        "id": "n2nlA0gK_vVJ",
        "outputId": "26adbbc8-bb71-4420-93f9-deb601a58e63"
      },
      "source": [
        "reduce(summation,lst)"
      ],
      "execution_count": 10,
      "outputs": [
        {
          "output_type": "execute_result",
          "data": {
            "application/vnd.google.colaboratory.intrinsic+json": {
              "type": "string"
            },
            "text/plain": [
              "'sddskrsnaRadhye'"
            ]
          },
          "metadata": {
            "tags": []
          },
          "execution_count": 10
        }
      ]
    },
    {
      "cell_type": "markdown",
      "metadata": {
        "id": "31lB8Z0QOn4V"
      },
      "source": [
        "#Filter"
      ]
    },
    {
      "cell_type": "code",
      "metadata": {
        "id": "MMDdci9VOhVv"
      },
      "source": [
        "#first let's make a function \r\n",
        "def even_check(num):\r\n",
        "  if num%2==0:\r\n",
        "    return True\r\n",
        "  else:\r\n",
        "    return False"
      ],
      "execution_count": 17,
      "outputs": []
    },
    {
      "cell_type": "code",
      "metadata": {
        "colab": {
          "base_uri": "https://localhost:8080/"
        },
        "id": "zy8ImpRDQiZI",
        "outputId": "4069e21d-3a21-483f-97c5-83df0c895114"
      },
      "source": [
        "lst=[1,2,3,4,5,6,7,8,33,66,77]\r\n",
        "list(filter(even_check,lst))"
      ],
      "execution_count": 18,
      "outputs": [
        {
          "output_type": "execute_result",
          "data": {
            "text/plain": [
              "[2, 4, 6, 8, 66]"
            ]
          },
          "metadata": {
            "tags": []
          },
          "execution_count": 18
        }
      ]
    },
    {
      "cell_type": "code",
      "metadata": {
        "colab": {
          "base_uri": "https://localhost:8080/"
        },
        "id": "euXW1T2EQuAn",
        "outputId": "e9fb1472-f4bb-46dc-eaa9-ebe59ec00442"
      },
      "source": [
        "list(filter(lambda x:x%2==0,lst))"
      ],
      "execution_count": 15,
      "outputs": [
        {
          "output_type": "execute_result",
          "data": {
            "text/plain": [
              "[2, 4, 6, 8, 66]"
            ]
          },
          "metadata": {
            "tags": []
          },
          "execution_count": 15
        }
      ]
    },
    {
      "cell_type": "code",
      "metadata": {
        "colab": {
          "base_uri": "https://localhost:8080/"
        },
        "id": "3Tgrvz3xRK_f",
        "outputId": "d481b876-cbe1-4518-849d-a2d597e140b8"
      },
      "source": [
        "list(map(lambda x:x%2==0,lst))"
      ],
      "execution_count": 19,
      "outputs": [
        {
          "output_type": "execute_result",
          "data": {
            "text/plain": [
              "[False, True, False, True, False, True, False, True, False, True, False]"
            ]
          },
          "metadata": {
            "tags": []
          },
          "execution_count": 19
        }
      ]
    },
    {
      "cell_type": "code",
      "metadata": {
        "id": "tX_IXp4yTdQS"
      },
      "source": [
        "def func(age):\r\n",
        "  if(age%2==0):\r\n",
        "    age=age+1\r\n",
        "    return age\r\n",
        "  else:\r\n",
        "    return False"
      ],
      "execution_count": 20,
      "outputs": []
    },
    {
      "cell_type": "code",
      "metadata": {
        "colab": {
          "base_uri": "https://localhost:8080/"
        },
        "id": "xjtzpOSCTqOO",
        "outputId": "6915b93e-c4aa-473b-d7b5-04d03c87122e"
      },
      "source": [
        "age=[2,3,444,553,442,53,21,22]\r\n",
        "list(filter(func,age))\r\n",
        "list(map(lambda x:x%2==0,age))"
      ],
      "execution_count": 22,
      "outputs": [
        {
          "output_type": "execute_result",
          "data": {
            "text/plain": [
              "[True, False, True, False, True, False, False, True]"
            ]
          },
          "metadata": {
            "tags": []
          },
          "execution_count": 22
        }
      ]
    },
    {
      "cell_type": "code",
      "metadata": {
        "id": "srzUWSlfUTV5"
      },
      "source": [
        "#iter next()\r\n",
        "#lazy evaluation : go one by one  to get the value "
      ],
      "execution_count": null,
      "outputs": []
    },
    {
      "cell_type": "code",
      "metadata": {
        "colab": {
          "base_uri": "https://localhost:8080/"
        },
        "id": "KQwg5dzsWAd2",
        "outputId": "2fe9b2f6-50da-43d6-b419-d14c0a412665"
      },
      "source": [
        "square=lambda x:x**2\r\n",
        "product=lambda f,n:lambda x:f(x)*n\r\n",
        "ans=product(square,2)(10)\r\n",
        "ans"
      ],
      "execution_count": 23,
      "outputs": [
        {
          "output_type": "execute_result",
          "data": {
            "text/plain": [
              "200"
            ]
          },
          "metadata": {
            "tags": []
          },
          "execution_count": 23
        }
      ]
    }
  ]
}