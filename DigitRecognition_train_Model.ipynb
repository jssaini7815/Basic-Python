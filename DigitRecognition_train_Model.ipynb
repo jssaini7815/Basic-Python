{
  "nbformat": 4,
  "nbformat_minor": 0,
  "metadata": {
    "colab": {
      "name": "DigitRecognition_train_Model.ipynb",
      "provenance": [],
      "collapsed_sections": [],
      "authorship_tag": "ABX9TyMj2HqFhpxuFTmwt27x80gl",
      "include_colab_link": true
    },
    "kernelspec": {
      "name": "python3",
      "display_name": "Python 3"
    },
    "accelerator": "GPU"
  },
  "cells": [
    {
      "cell_type": "markdown",
      "metadata": {
        "id": "view-in-github",
        "colab_type": "text"
      },
      "source": [
        "<a href=\"https://colab.research.google.com/github/jssaini7815/Basic-Python/blob/main/DigitRecognition_train_Model.ipynb\" target=\"_parent\"><img src=\"https://colab.research.google.com/assets/colab-badge.svg\" alt=\"Open In Colab\"/></a>"
      ]
    },
    {
      "cell_type": "code",
      "metadata": {
        "id": "TqEbfbMVoKfI"
      },
      "source": [
        "#Import the necessary libraries and modules\r\n",
        "import matplotlib.pyplot as plt\r\n",
        "import numpy as np\r\n",
        "import keras \r\n",
        "from keras.datasets import mnist\r\n",
        "from keras.models import Sequential\r\n",
        "from keras.layers import Dense,Dropout,Flatten\r\n",
        "# Dense layer is the regular deeply connected neural network layer. \r\n",
        "# It is most common and frequently used layer. \r\n",
        "# Dense layer does the below operation on the input and return the output.\r\n",
        "# Dropout layer randomly sets input units to 0 with a \r\n",
        "# frequency of rate at each step during training time,\r\n",
        "# which helps prevent overfitting.\r\n",
        "# Keras - Flatten Layers. Flatten is used to flatten the input. \r\n",
        "# For example, if flatten is applied \r\n",
        "# to layer having input shape as (batch_size, 2,2), \r\n",
        "# then the output shape of the layer will be (batch_size, 4)\r\n",
        "# Flatten has one argument as follows.\r\n",
        "\r\n",
        "# Reshape Layers:This layer has the responsibility of changing the shape of the input.\r\n",
        "from keras.layers import Conv2D,MaxPooling2D\r\n",
        "# Introducing max pooling Max pooling is a type of operation that is \r\n",
        "# typically added to CNNs following individual convolutional layers.\r\n",
        "# When added to a model, max pooling reduces the dimensionality of images by reducing\r\n",
        "# the number of pixels in the output from the previous convolutional layer.\r\n",
        "# The pooling layer is used for applying max pooling operations \r\n",
        "# on temporal data\r\n",
        "#Conv2D:\r\n",
        "# 2D convolution layer (e.g. spatial convolution over images). This layer creates a convolution kernel \r\n",
        "# that is convolved with the layer input to produce a tensor of outputs.\r\n",
        "# two conv layers side by side, each seeing half the input channels, and producing half the output channels, \r\n",
        "# and both subsequently concatenated.\r\n",
        "from keras import backend as K\r\n",
        "# By default, keras uses TensorFlow backend. If you want to change backend configuration from TensorFlow to Theano,\r\n",
        "# just change the backend = theano in keras.json file"
      ],
      "execution_count": 94,
      "outputs": []
    },
    {
      "cell_type": "markdown",
      "metadata": {
        "id": "kTJm35Hduc5m"
      },
      "source": [
        "Splitting the MNIST dataset into Train and Test"
      ]
    },
    {
      "cell_type": "code",
      "metadata": {
        "id": "4Lz0voPjuWW_"
      },
      "source": [
        "(x_train, y_train), (x_test, y_test) = mnist.load_data()"
      ],
      "execution_count": 95,
      "outputs": []
    },
    {
      "cell_type": "markdown",
      "metadata": {
        "id": "p_0Or0Qqur_V"
      },
      "source": [
        "Preporcessing the input data"
      ]
    },
    {
      "cell_type": "code",
      "metadata": {
        "id": "qltGfRb8upVJ"
      },
      "source": [
        "# num_of_trainImgs=x_train.shape[0]#60000 here\r\n",
        "# num_of_testImgs=x_test.shape[0]#10000 here\r\n",
        "# img_width=28\r\n",
        "# img_height=28\r\n",
        "# x_train=x_train.reshape(x_train.shape[0],img_height,img_width,1)\r\n",
        "# x_test = x_test.reshape(x_test.shape[0], img_height, img_width, 1)\r\n",
        "\r\n",
        "# input_shape = (img_height, img_width, 1)\r\n",
        "# x_train = x_train.astype('float32')\r\n",
        "# x_test = x_test.astype('float32')\r\n",
        "# x_train /= 255\r\n",
        "# x_test /= 255"
      ],
      "execution_count": 61,
      "outputs": []
    },
    {
      "cell_type": "code",
      "metadata": {
        "colab": {
          "base_uri": "https://localhost:8080/"
        },
        "id": "36eKE-0RGn68",
        "outputId": "ec22f0b9-9af8-45f2-a283-61e2c5f4e287"
      },
      "source": [
        "print(x_train.shape)\r\n",
        "print(x_test.shape)"
      ],
      "execution_count": 96,
      "outputs": [
        {
          "output_type": "stream",
          "text": [
            "(60000, 28, 28)\n",
            "(10000, 28, 28)\n"
          ],
          "name": "stdout"
        }
      ]
    },
    {
      "cell_type": "code",
      "metadata": {
        "colab": {
          "base_uri": "https://localhost:8080/"
        },
        "id": "j1n0exYxG2pQ",
        "outputId": "d3bfe6d3-4fdf-484d-bb98-51096eb08a88"
      },
      "source": [
        "#Take a look at the first image at index=0 in the training data set\r\n",
        "x_train[0]"
      ],
      "execution_count": 97,
      "outputs": [
        {
          "output_type": "execute_result",
          "data": {
            "text/plain": [
              "array([[  0,   0,   0,   0,   0,   0,   0,   0,   0,   0,   0,   0,   0,\n",
              "          0,   0,   0,   0,   0,   0,   0,   0,   0,   0,   0,   0,   0,\n",
              "          0,   0],\n",
              "       [  0,   0,   0,   0,   0,   0,   0,   0,   0,   0,   0,   0,   0,\n",
              "          0,   0,   0,   0,   0,   0,   0,   0,   0,   0,   0,   0,   0,\n",
              "          0,   0],\n",
              "       [  0,   0,   0,   0,   0,   0,   0,   0,   0,   0,   0,   0,   0,\n",
              "          0,   0,   0,   0,   0,   0,   0,   0,   0,   0,   0,   0,   0,\n",
              "          0,   0],\n",
              "       [  0,   0,   0,   0,   0,   0,   0,   0,   0,   0,   0,   0,   0,\n",
              "          0,   0,   0,   0,   0,   0,   0,   0,   0,   0,   0,   0,   0,\n",
              "          0,   0],\n",
              "       [  0,   0,   0,   0,   0,   0,   0,   0,   0,   0,   0,   0,   0,\n",
              "          0,   0,   0,   0,   0,   0,   0,   0,   0,   0,   0,   0,   0,\n",
              "          0,   0],\n",
              "       [  0,   0,   0,   0,   0,   0,   0,   0,   0,   0,   0,   0,   3,\n",
              "         18,  18,  18, 126, 136, 175,  26, 166, 255, 247, 127,   0,   0,\n",
              "          0,   0],\n",
              "       [  0,   0,   0,   0,   0,   0,   0,   0,  30,  36,  94, 154, 170,\n",
              "        253, 253, 253, 253, 253, 225, 172, 253, 242, 195,  64,   0,   0,\n",
              "          0,   0],\n",
              "       [  0,   0,   0,   0,   0,   0,   0,  49, 238, 253, 253, 253, 253,\n",
              "        253, 253, 253, 253, 251,  93,  82,  82,  56,  39,   0,   0,   0,\n",
              "          0,   0],\n",
              "       [  0,   0,   0,   0,   0,   0,   0,  18, 219, 253, 253, 253, 253,\n",
              "        253, 198, 182, 247, 241,   0,   0,   0,   0,   0,   0,   0,   0,\n",
              "          0,   0],\n",
              "       [  0,   0,   0,   0,   0,   0,   0,   0,  80, 156, 107, 253, 253,\n",
              "        205,  11,   0,  43, 154,   0,   0,   0,   0,   0,   0,   0,   0,\n",
              "          0,   0],\n",
              "       [  0,   0,   0,   0,   0,   0,   0,   0,   0,  14,   1, 154, 253,\n",
              "         90,   0,   0,   0,   0,   0,   0,   0,   0,   0,   0,   0,   0,\n",
              "          0,   0],\n",
              "       [  0,   0,   0,   0,   0,   0,   0,   0,   0,   0,   0, 139, 253,\n",
              "        190,   2,   0,   0,   0,   0,   0,   0,   0,   0,   0,   0,   0,\n",
              "          0,   0],\n",
              "       [  0,   0,   0,   0,   0,   0,   0,   0,   0,   0,   0,  11, 190,\n",
              "        253,  70,   0,   0,   0,   0,   0,   0,   0,   0,   0,   0,   0,\n",
              "          0,   0],\n",
              "       [  0,   0,   0,   0,   0,   0,   0,   0,   0,   0,   0,   0,  35,\n",
              "        241, 225, 160, 108,   1,   0,   0,   0,   0,   0,   0,   0,   0,\n",
              "          0,   0],\n",
              "       [  0,   0,   0,   0,   0,   0,   0,   0,   0,   0,   0,   0,   0,\n",
              "         81, 240, 253, 253, 119,  25,   0,   0,   0,   0,   0,   0,   0,\n",
              "          0,   0],\n",
              "       [  0,   0,   0,   0,   0,   0,   0,   0,   0,   0,   0,   0,   0,\n",
              "          0,  45, 186, 253, 253, 150,  27,   0,   0,   0,   0,   0,   0,\n",
              "          0,   0],\n",
              "       [  0,   0,   0,   0,   0,   0,   0,   0,   0,   0,   0,   0,   0,\n",
              "          0,   0,  16,  93, 252, 253, 187,   0,   0,   0,   0,   0,   0,\n",
              "          0,   0],\n",
              "       [  0,   0,   0,   0,   0,   0,   0,   0,   0,   0,   0,   0,   0,\n",
              "          0,   0,   0,   0, 249, 253, 249,  64,   0,   0,   0,   0,   0,\n",
              "          0,   0],\n",
              "       [  0,   0,   0,   0,   0,   0,   0,   0,   0,   0,   0,   0,   0,\n",
              "          0,  46, 130, 183, 253, 253, 207,   2,   0,   0,   0,   0,   0,\n",
              "          0,   0],\n",
              "       [  0,   0,   0,   0,   0,   0,   0,   0,   0,   0,   0,   0,  39,\n",
              "        148, 229, 253, 253, 253, 250, 182,   0,   0,   0,   0,   0,   0,\n",
              "          0,   0],\n",
              "       [  0,   0,   0,   0,   0,   0,   0,   0,   0,   0,  24, 114, 221,\n",
              "        253, 253, 253, 253, 201,  78,   0,   0,   0,   0,   0,   0,   0,\n",
              "          0,   0],\n",
              "       [  0,   0,   0,   0,   0,   0,   0,   0,  23,  66, 213, 253, 253,\n",
              "        253, 253, 198,  81,   2,   0,   0,   0,   0,   0,   0,   0,   0,\n",
              "          0,   0],\n",
              "       [  0,   0,   0,   0,   0,   0,  18, 171, 219, 253, 253, 253, 253,\n",
              "        195,  80,   9,   0,   0,   0,   0,   0,   0,   0,   0,   0,   0,\n",
              "          0,   0],\n",
              "       [  0,   0,   0,   0,  55, 172, 226, 253, 253, 253, 253, 244, 133,\n",
              "         11,   0,   0,   0,   0,   0,   0,   0,   0,   0,   0,   0,   0,\n",
              "          0,   0],\n",
              "       [  0,   0,   0,   0, 136, 253, 253, 253, 212, 135, 132,  16,   0,\n",
              "          0,   0,   0,   0,   0,   0,   0,   0,   0,   0,   0,   0,   0,\n",
              "          0,   0],\n",
              "       [  0,   0,   0,   0,   0,   0,   0,   0,   0,   0,   0,   0,   0,\n",
              "          0,   0,   0,   0,   0,   0,   0,   0,   0,   0,   0,   0,   0,\n",
              "          0,   0],\n",
              "       [  0,   0,   0,   0,   0,   0,   0,   0,   0,   0,   0,   0,   0,\n",
              "          0,   0,   0,   0,   0,   0,   0,   0,   0,   0,   0,   0,   0,\n",
              "          0,   0],\n",
              "       [  0,   0,   0,   0,   0,   0,   0,   0,   0,   0,   0,   0,   0,\n",
              "          0,   0,   0,   0,   0,   0,   0,   0,   0,   0,   0,   0,   0,\n",
              "          0,   0]], dtype=uint8)"
            ]
          },
          "metadata": {
            "tags": []
          },
          "execution_count": 97
        }
      ]
    },
    {
      "cell_type": "code",
      "metadata": {
        "colab": {
          "base_uri": "https://localhost:8080/"
        },
        "id": "Nozxud3hHlhQ",
        "outputId": "76b6d079-a70c-480c-e70d-256ec0667d28"
      },
      "source": [
        "y_train[0]"
      ],
      "execution_count": 98,
      "outputs": [
        {
          "output_type": "execute_result",
          "data": {
            "text/plain": [
              "5"
            ]
          },
          "metadata": {
            "tags": []
          },
          "execution_count": 98
        }
      ]
    },
    {
      "cell_type": "code",
      "metadata": {
        "colab": {
          "base_uri": "https://localhost:8080/",
          "height": 282
        },
        "id": "miN2m9pIHo5H",
        "outputId": "99217210-850d-44ff-b826-cfa3750a1dbc"
      },
      "source": [
        "#show the image as a picture\r\n",
        "plt.imshow(x_train[0])"
      ],
      "execution_count": 99,
      "outputs": [
        {
          "output_type": "execute_result",
          "data": {
            "text/plain": [
              "<matplotlib.image.AxesImage at 0x7fe67e483ed0>"
            ]
          },
          "metadata": {
            "tags": []
          },
          "execution_count": 99
        },
        {
          "output_type": "display_data",
          "data": {
            "image/png": "[encoded data removed]",
            "text/plain": [
              "<Figure size 432x288 with 1 Axes>"
            ]
          },
          "metadata": {
            "tags": [],
            "needs_background": "light"
          }
        }
      ]
    },
    {
      "cell_type": "code",
      "metadata": {
        "id": "fB3tOnEAH4if"
      },
      "source": [
        "#Reshape the data to fit the model\r\n",
        "x_train=x_train.reshape(60000,28,28,1) # 1 means grayscale\r\n",
        "x_test=x_test.reshape(10000,28,28,1)"
      ],
      "execution_count": 100,
      "outputs": []
    },
    {
      "cell_type": "code",
      "metadata": {
        "id": "rJw8qRs-ILWf"
      },
      "source": [
        "#one-Hot Encoding:\r\n",
        "# y_train_one_hot= to_categorical(y_train)\r\n",
        "# y_test_one_hot=to_categorical(y_test)\r\n",
        "\r\n",
        "# #print the new label\r\n",
        "# print(y_train_one_hot[0])"
      ],
      "execution_count": 101,
      "outputs": []
    },
    {
      "cell_type": "markdown",
      "metadata": {
        "id": "CSOljhGdvgj3"
      },
      "source": [
        "Converting the class vectors to binary class"
      ]
    },
    {
      "cell_type": "code",
      "metadata": {
        "id": "cZgv50d3vleH"
      },
      "source": [
        "\r\n",
        "y_train_one_hot=keras.utils.to_categorical(y_train)\r\n",
        "y_test_one_hot=keras.utils.to_categorical(y_test)"
      ],
      "execution_count": 102,
      "outputs": []
    },
    {
      "cell_type": "code",
      "metadata": {
        "colab": {
          "base_uri": "https://localhost:8080/"
        },
        "id": "zu5i6uCpJW7t",
        "outputId": "3583afd2-eaf1-4bbe-f68f-2c9c36410a0f"
      },
      "source": [
        "print(y_train_one_hot[0])"
      ],
      "execution_count": 103,
      "outputs": [
        {
          "output_type": "stream",
          "text": [
            "[0. 0. 0. 0. 0. 1. 0. 0. 0. 0.]\n"
          ],
          "name": "stdout"
        }
      ]
    },
    {
      "cell_type": "code",
      "metadata": {
        "id": "6rLGXkOgJnFp"
      },
      "source": [
        "#Build the CNN model\r\n",
        "model=Sequential()\r\n",
        "#add model layers\r\n",
        "model.add(Conv2D(64,kernel_size=3,activation='relu',input_shape=(28,28,1)))\r\n",
        "model.add(Conv2D(32,kernel_size=3,activation='relu'))\r\n",
        "model.add(Flatten())\r\n",
        "model.add(Dense(10,activation='softmax'))"
      ],
      "execution_count": 104,
      "outputs": []
    },
    {
      "cell_type": "markdown",
      "metadata": {
        "id": "rlnEURrjv6_b"
      },
      "source": [
        "Defining the model architecture"
      ]
    },
    {
      "cell_type": "code",
      "metadata": {
        "id": "nbZGXT-Wv55J"
      },
      "source": [
        "# model =Sequential()\r\n",
        "# model.add(Conv2D(32,kernel_size=(3,3),activation='relu',input_shape=input_shape))\r\n",
        "# model.add(Conv2D(64,(3,3),activation='relu'))\r\n",
        "# model.add(MaxPooling2D(pool_size=(2,2)))\r\n",
        "# model.add(Dropout(0.25))\r\n",
        "# model.add(Flatten())\r\n",
        "# model.add(Dense(128,activation='relu'))\r\n",
        "# model.add(Dropout(0.5))\r\n",
        "# model.add(Dense(num_classes,activation='softmax'))"
      ],
      "execution_count": 63,
      "outputs": []
    },
    {
      "cell_type": "markdown",
      "metadata": {
        "id": "xjSqjnolxFL1"
      },
      "source": [
        "#Compiling the model"
      ]
    },
    {
      "cell_type": "code",
      "metadata": {
        "id": "cbILHhQTxEQS"
      },
      "source": [
        "model.compile(loss=keras.losses.categorical_crossentropy,\r\n",
        "              optimizer=keras.optimizers.Adam(),metrics=[\"accuracy\"])"
      ],
      "execution_count": 105,
      "outputs": []
    },
    {
      "cell_type": "code",
      "metadata": {
        "id": "0sUZvci2xqFF"
      },
      "source": [
        "# model.compile(loss=keras.losses.categorical_crossentropy,\r\n",
        "#               optimizer=keras.optimizers.Adadelta(),\r\n",
        "#               metrics=['accuracy'])"
      ],
      "execution_count": 56,
      "outputs": []
    },
    {
      "cell_type": "markdown",
      "metadata": {
        "id": "HZCezow8x35z"
      },
      "source": [
        "Fitting the model on trainin data"
      ]
    },
    {
      "cell_type": "code",
      "metadata": {
        "colab": {
          "base_uri": "https://localhost:8080/"
        },
        "id": "cU3JvD3rx2wH",
        "outputId": "a723fdc2-a194-498e-8ae4-9f60eda60fef"
      },
      "source": [
        "#Train the model\r\n",
        "hist=model.fit(x_train,y_train_one_hot,batch_size=128,epochs=30,verbose=1,validation_data=(x_test,y_test_one_hot))"
      ],
      "execution_count": 106,
      "outputs": [
        {
          "output_type": "stream",
          "text": [
            "Epoch 1/30\n",
            "469/469 [==============================] - 3s 6ms/step - loss: 1.9095 - accuracy: 0.8677 - val_loss: 0.0821 - val_accuracy: 0.9740\n",
            "Epoch 2/30\n",
            "469/469 [==============================] - 2s 5ms/step - loss: 0.0580 - accuracy: 0.9816 - val_loss: 0.0786 - val_accuracy: 0.9755\n",
            "Epoch 3/30\n",
            "469/469 [==============================] - 2s 5ms/step - loss: 0.0384 - accuracy: 0.9875 - val_loss: 0.0780 - val_accuracy: 0.9774\n",
            "Epoch 4/30\n",
            "469/469 [==============================] - 2s 5ms/step - loss: 0.0278 - accuracy: 0.9911 - val_loss: 0.0978 - val_accuracy: 0.9754\n",
            "Epoch 5/30\n",
            "469/469 [==============================] - 2s 5ms/step - loss: 0.0252 - accuracy: 0.9923 - val_loss: 0.0925 - val_accuracy: 0.9790\n",
            "Epoch 6/30\n",
            "469/469 [==============================] - 2s 5ms/step - loss: 0.0221 - accuracy: 0.9924 - val_loss: 0.1107 - val_accuracy: 0.9767\n",
            "Epoch 7/30\n",
            "469/469 [==============================] - 2s 5ms/step - loss: 0.0178 - accuracy: 0.9941 - val_loss: 0.1061 - val_accuracy: 0.9788\n",
            "Epoch 8/30\n",
            "469/469 [==============================] - 2s 5ms/step - loss: 0.0127 - accuracy: 0.9958 - val_loss: 0.1524 - val_accuracy: 0.9762\n",
            "Epoch 9/30\n",
            "469/469 [==============================] - 2s 5ms/step - loss: 0.0159 - accuracy: 0.9951 - val_loss: 0.1315 - val_accuracy: 0.9782\n",
            "Epoch 10/30\n",
            "469/469 [==============================] - 3s 5ms/step - loss: 0.0114 - accuracy: 0.9965 - val_loss: 0.1462 - val_accuracy: 0.9773\n",
            "Epoch 11/30\n",
            "469/469 [==============================] - 3s 6ms/step - loss: 0.0157 - accuracy: 0.9955 - val_loss: 0.1449 - val_accuracy: 0.9783\n",
            "Epoch 12/30\n",
            "469/469 [==============================] - 3s 6ms/step - loss: 0.0152 - accuracy: 0.9956 - val_loss: 0.1397 - val_accuracy: 0.9781\n",
            "Epoch 13/30\n",
            "469/469 [==============================] - 3s 5ms/step - loss: 0.0140 - accuracy: 0.9958 - val_loss: 0.1591 - val_accuracy: 0.9783\n",
            "Epoch 14/30\n",
            "469/469 [==============================] - 2s 5ms/step - loss: 0.0102 - accuracy: 0.9965 - val_loss: 0.1494 - val_accuracy: 0.9792\n",
            "Epoch 15/30\n",
            "469/469 [==============================] - 2s 5ms/step - loss: 0.0080 - accuracy: 0.9974 - val_loss: 0.1638 - val_accuracy: 0.9761\n",
            "Epoch 16/30\n",
            "469/469 [==============================] - 2s 5ms/step - loss: 0.0163 - accuracy: 0.9956 - val_loss: 0.1619 - val_accuracy: 0.9785\n",
            "Epoch 17/30\n",
            "469/469 [==============================] - 2s 5ms/step - loss: 0.0051 - accuracy: 0.9983 - val_loss: 0.1658 - val_accuracy: 0.9816\n",
            "Epoch 18/30\n",
            "469/469 [==============================] - 2s 5ms/step - loss: 0.0107 - accuracy: 0.9973 - val_loss: 0.1707 - val_accuracy: 0.9783\n",
            "Epoch 19/30\n",
            "469/469 [==============================] - 2s 5ms/step - loss: 0.0072 - accuracy: 0.9976 - val_loss: 0.2315 - val_accuracy: 0.9740\n",
            "Epoch 20/30\n",
            "469/469 [==============================] - 2s 5ms/step - loss: 0.0091 - accuracy: 0.9974 - val_loss: 0.1635 - val_accuracy: 0.9790\n",
            "Epoch 21/30\n",
            "469/469 [==============================] - 2s 5ms/step - loss: 0.0035 - accuracy: 0.9990 - val_loss: 0.2257 - val_accuracy: 0.9768\n",
            "Epoch 22/30\n",
            "469/469 [==============================] - 2s 5ms/step - loss: 0.0097 - accuracy: 0.9973 - val_loss: 0.1844 - val_accuracy: 0.9770\n",
            "Epoch 23/30\n",
            "469/469 [==============================] - 2s 5ms/step - loss: 0.0050 - accuracy: 0.9983 - val_loss: 0.1829 - val_accuracy: 0.9791\n",
            "Epoch 24/30\n",
            "469/469 [==============================] - 2s 5ms/step - loss: 0.0057 - accuracy: 0.9985 - val_loss: 0.2028 - val_accuracy: 0.9795\n",
            "Epoch 25/30\n",
            "469/469 [==============================] - 2s 5ms/step - loss: 0.0073 - accuracy: 0.9978 - val_loss: 0.2059 - val_accuracy: 0.9781\n",
            "Epoch 26/30\n",
            "469/469 [==============================] - 2s 5ms/step - loss: 0.0069 - accuracy: 0.9983 - val_loss: 0.2567 - val_accuracy: 0.9765\n",
            "Epoch 27/30\n",
            "469/469 [==============================] - 2s 5ms/step - loss: 0.0064 - accuracy: 0.9982 - val_loss: 0.2468 - val_accuracy: 0.9793\n",
            "Epoch 28/30\n",
            "469/469 [==============================] - 2s 5ms/step - loss: 0.0089 - accuracy: 0.9975 - val_loss: 0.2036 - val_accuracy: 0.9802\n",
            "Epoch 29/30\n",
            "469/469 [==============================] - 2s 5ms/step - loss: 0.0048 - accuracy: 0.9986 - val_loss: 0.2384 - val_accuracy: 0.9757\n",
            "Epoch 30/30\n",
            "469/469 [==============================] - 2s 5ms/step - loss: 0.0065 - accuracy: 0.9984 - val_loss: 0.2508 - val_accuracy: 0.9791\n"
          ],
          "name": "stdout"
        }
      ]
    },
    {
      "cell_type": "code",
      "metadata": {
        "colab": {
          "base_uri": "https://localhost:8080/",
          "height": 312
        },
        "id": "ZgpwnYRaLuvN",
        "outputId": "a9cf7ca1-5804-49bf-84a8-aca40527e708"
      },
      "source": [
        "#Visualize the models accuracy\r\n",
        "plt.plot(hist.history[\"accuracy\"])\r\n",
        "plt.plot(hist.history['val_accuracy'])\r\n",
        "plt.title(\"Model Accuracy\")\r\n",
        "plt.ylabel('Accuracy')\r\n",
        "plt.xlabel('Epoch')\r\n",
        "plt.legend(['Train','Val'],loc='upper left')"
      ],
      "execution_count": 108,
      "outputs": [
        {
          "output_type": "execute_result",
          "data": {
            "text/plain": [
              "<matplotlib.legend.Legend at 0x7fe5aa595f90>"
            ]
          },
          "metadata": {
            "tags": []
          },
          "execution_count": 108
        },
        {
          "output_type": "display_data",
          "data": {
            "image/png": "[encoded data removed]",
            "text/plain": [
              "<Figure size 432x288 with 1 Axes>"
            ]
          },
          "metadata": {
            "tags": [],
            "needs_background": "light"
          }
        }
      ]
    },
    {
      "cell_type": "code",
      "metadata": {
        "colab": {
          "base_uri": "https://localhost:8080/"
        },
        "id": "l4DeiuHuMnsl",
        "outputId": "3f8eb813-dd5e-4b6c-f67a-be5534acc7b9"
      },
      "source": [
        "#show predictioons as probabilities fo rthe first 4 images in the test set\r\n",
        "predictions=model.predict(x_test[:4])\r\n",
        "predictions"
      ],
      "execution_count": 110,
      "outputs": [
        {
          "output_type": "execute_result",
          "data": {
            "text/plain": [
              "array([[0., 0., 0., 0., 0., 0., 0., 1., 0., 0.],\n",
              "       [0., 0., 1., 0., 0., 0., 0., 0., 0., 0.],\n",
              "       [0., 1., 0., 0., 0., 0., 0., 0., 0., 0.],\n",
              "       [1., 0., 0., 0., 0., 0., 0., 0., 0., 0.]], dtype=float32)"
            ]
          },
          "metadata": {
            "tags": []
          },
          "execution_count": 110
        }
      ]
    },
    {
      "cell_type": "code",
      "metadata": {
        "colab": {
          "base_uri": "https://localhost:8080/"
        },
        "id": "92YsXuHYNKU-",
        "outputId": "feab66ec-f9aa-41b9-a3bb-b7283b682e84"
      },
      "source": [
        "#print our predictions as number labels for the first 4 images\r\n",
        "print(np.argmax(predictions,axis=1))\r\n",
        "#print the actual labels\r\n",
        "print(y_test[:4])"
      ],
      "execution_count": 111,
      "outputs": [
        {
          "output_type": "stream",
          "text": [
            "[7 2 1 0]\n",
            "[7 2 1 0]\n"
          ],
          "name": "stdout"
        }
      ]
    },
    {
      "cell_type": "code",
      "metadata": {
        "colab": {
          "base_uri": "https://localhost:8080/",
          "height": 1000
        },
        "id": "l19HKhI5Nq0n",
        "outputId": "75002c6d-fd0f-4c54-8382-ba40c92a0cd6"
      },
      "source": [
        "#show the first 4 images a pictures\r\n",
        "for i in range(0,5):\r\n",
        "  image=x_test[i]\r\n",
        "  image=np.array(image,dtype='float')\r\n",
        "  pixels=image.reshape((28,28))\r\n",
        "  plt.imshow(pixels,cmap='gray')\r\n",
        "  plt.show()"
      ],
      "execution_count": 115,
      "outputs": [
        {
          "output_type": "display_data",
          "data": {
            "image/png": "[encoded data removed]",
            "text/plain": [
              "<Figure size 432x288 with 1 Axes>"
            ]
          },
          "metadata": {
            "tags": [],
            "needs_background": "light"
          }
        },
        {
          "output_type": "display_data",
          "data": {
            "image/png": "[encoded data removed]",
            "text/plain": [
              "<Figure size 432x288 with 1 Axes>"
            ]
          },
          "metadata": {
            "tags": [],
            "needs_background": "light"
          }
        },
        {
          "output_type": "display_data",
          "data": {
            "image/png": "[encoded data removed]",
            "text/plain": [
              "<Figure size 432x288 with 1 Axes>"
            ]
          },
          "metadata": {
            "tags": [],
            "needs_background": "light"
          }
        },
        {
          "output_type": "display_data",
          "data": {
            "image/png": "[encoded data removed]",
            "text/plain": [
              "<Figure size 432x288 with 1 Axes>"
            ]
          },
          "metadata": {
            "tags": [],
            "needs_background": "light"
          }
        },
        {
          "output_type": "display_data",
          "data": {
            "image/png": "[encoded data removed]",
            "text/plain": [
              "<Figure size 432x288 with 1 Axes>"
            ]
          },
          "metadata": {
            "tags": [],
            "needs_background": "light"
          }
        }
      ]
    },
    {
      "cell_type": "markdown",
      "metadata": {
        "id": "u_ylMNdxyRDb"
      },
      "source": [
        "Evaluating the model on test data"
      ]
    },
    {
      "cell_type": "code",
      "metadata": {
        "colab": {
          "base_uri": "https://localhost:8080/"
        },
        "id": "5gT8BBUrxAeG",
        "outputId": "046ce0d9-7221-4c10-8aa7-000131b2476d"
      },
      "source": [
        "score=model.evaluate(x_test,y_test,verbose=0)\r\n",
        "print('Test loss:',score[0])\r\n",
        "print('Test accuracy:',score[1])"
      ],
      "execution_count": 66,
      "outputs": [
        {
          "output_type": "stream",
          "text": [
            "Test loss: 0.036519039422273636\n",
            "Test accuracy: 0.9926000237464905\n"
          ],
          "name": "stdout"
        }
      ]
    },
    {
      "cell_type": "code",
      "metadata": {
        "colab": {
          "base_uri": "https://localhost:8080/"
        },
        "id": "F9YHHjV4FdxP",
        "outputId": "e82ff86b-9d02-419e-e09f-2e314ee884c8"
      },
      "source": [
        "# predictions=model.predict(x_test)\r\n",
        "# import numpy as np\r\n",
        "# np.set_printoptions(suppress=True)\r\n",
        "# print(y_test[0])\r\n",
        "# print(predictions[0])"
      ],
      "execution_count": 68,
      "outputs": [
        {
          "output_type": "stream",
          "text": [
            "[0. 0. 0. 0. 0. 0. 0. 1. 0. 0.]\n",
            "[0. 0. 0. 0. 0. 0. 0. 1. 0. 0.]\n"
          ],
          "name": "stdout"
        }
      ]
    },
    {
      "cell_type": "markdown",
      "metadata": {
        "id": "ld5tSxEzy0hO"
      },
      "source": [
        "<!--  -->\r\n",
        "#Saving the Model"
      ]
    },
    {
      "cell_type": "code",
      "metadata": {
        "id": "5Mhbj0pJy8Fi"
      },
      "source": [
        "model.save('trained_model.h5')"
      ],
      "execution_count": 15,
      "outputs": []
    },
    {
      "cell_type": "code",
      "metadata": {
        "colab": {
          "base_uri": "https://localhost:8080/"
        },
        "id": "W0P16pBVzDx-",
        "outputId": "fe3f7577-fdd8-4f03-f8f8-7ec3bf0fdf3c"
      },
      "source": [
        "!pip install h5py pyyaml"
      ],
      "execution_count": 17,
      "outputs": [
        {
          "output_type": "stream",
          "text": [
            "Requirement already satisfied: h5py in /usr/local/lib/python3.7/dist-packages (2.10.0)\n",
            "Requirement already satisfied: pyyaml in /usr/local/lib/python3.7/dist-packages (3.13)\n",
            "Requirement already satisfied: six in /usr/local/lib/python3.7/dist-packages (from h5py) (1.15.0)\n",
            "Requirement already satisfied: numpy>=1.7 in /usr/local/lib/python3.7/dist-packages (from h5py) (1.19.5)\n"
          ],
          "name": "stdout"
        }
      ]
    },
    {
      "cell_type": "markdown",
      "metadata": {
        "id": "MgYMFwWtz_8C"
      },
      "source": [
        "#Digit Recognition \r\n"
      ]
    },
    {
      "cell_type": "code",
      "metadata": {
        "id": "G8tVS9Ei0Db7"
      },
      "source": [
        "#Importing the necessary libraries\r\n",
        "import numpy as np\r\n",
        "import cv2\r\n",
        "from skimage import img_as_ubyte\r\n",
        "from skimage.color import rgb2gray\r\n",
        "from keras.models import load_model"
      ],
      "execution_count": 20,
      "outputs": []
    },
    {
      "cell_type": "code",
      "metadata": {
        "id": "fuqPcYhB_TN5"
      },
      "source": [
        "# import dependencies\r\n",
        "from IPython.display import display, Javascript, Image\r\n",
        "from google.colab.output import eval_js\r\n",
        "from base64 import b64decode, b64encode\r\n",
        "import cv2\r\n",
        "import numpy as np\r\n",
        "import PIL\r\n",
        "import io\r\n",
        "import html\r\n",
        "import time"
      ],
      "execution_count": 119,
      "outputs": []
    },
    {
      "cell_type": "code",
      "metadata": {
        "id": "6IclOXpD_YWs"
      },
      "source": [
        "# function to convert the JavaScript object into an OpenCV image\r\n",
        "def js_to_image(js_reply):\r\n",
        "  \"\"\"\r\n",
        "  Params:\r\n",
        "          js_reply: JavaScript object containing image from webcam\r\n",
        "  Returns:\r\n",
        "          img: OpenCV BGR image\r\n",
        "  \"\"\"\r\n",
        "  # decode base64 image\r\n",
        "  image_bytes = b64decode(js_reply.split(',')[1])\r\n",
        "  # convert bytes to numpy array\r\n",
        "  jpg_as_np = np.frombuffer(image_bytes, dtype=np.uint8)\r\n",
        "  # decode numpy array into OpenCV BGR image\r\n",
        "  img = cv2.imdecode(jpg_as_np, flags=1)\r\n",
        "\r\n",
        "  return img\r\n",
        "\r\n",
        "# function to convert OpenCV Rectangle bounding box image into base64 byte string to be overlayed on video stream\r\n",
        "def bbox_to_bytes(bbox_array):\r\n",
        "  \"\"\"\r\n",
        "  Params:\r\n",
        "          bbox_array: Numpy array (pixels) containing rectangle to overlay on video stream.\r\n",
        "  Returns:\r\n",
        "        bytes: Base64 image byte string\r\n",
        "  \"\"\"\r\n",
        "  # convert array into PIL image\r\n",
        "  bbox_PIL = PIL.Image.fromarray(bbox_array, 'RGBA')\r\n",
        "  iobuf = io.BytesIO()\r\n",
        "  # format bbox into png for return\r\n",
        "  bbox_PIL.save(iobuf, format='png')\r\n",
        "  # format return string\r\n",
        "  bbox_bytes = 'data:image/png;base64,{}'.format((str(b64encode(iobuf.getvalue()), 'utf-8')))\r\n",
        "\r\n",
        "  return bbox_bytes"
      ],
      "execution_count": 39,
      "outputs": []
    },
    {
      "cell_type": "code",
      "metadata": {
        "id": "VWz0LZEi_hha"
      },
      "source": [
        "# initialize the Haar Cascade face detection model\r\n",
        "face_cascade = cv2.CascadeClassifier(cv2.samples.findFile(cv2.data.haarcascades + 'haarcascade_frontalface_default.xml'))"
      ],
      "execution_count": 41,
      "outputs": []
    },
    {
      "cell_type": "code",
      "metadata": {
        "id": "Qf86tUjH_oKV"
      },
      "source": [
        "def take_photo(filename='photo.jpg', quality=0.8):\r\n",
        "  js = Javascript('''\r\n",
        "    async function takePhoto(quality) {\r\n",
        "      const div = document.createElement('div');\r\n",
        "      const capture = document.createElement('button');\r\n",
        "      capture.textContent = 'Capture';\r\n",
        "      div.appendChild(capture);\r\n",
        "\r\n",
        "      const video = document.createElement('video');\r\n",
        "      video.style.display = 'block';\r\n",
        "      const stream = await navigator.mediaDevices.getUserMedia({video: true});\r\n",
        "\r\n",
        "      document.body.appendChild(div);\r\n",
        "      div.appendChild(video);\r\n",
        "      video.srcObject = stream;\r\n",
        "      await video.play();\r\n",
        "\r\n",
        "      // Resize the output to fit the video element.\r\n",
        "      google.colab.output.setIframeHeight(document.documentElement.scrollHeight, true);\r\n",
        "\r\n",
        "      // Wait for Capture to be clicked.\r\n",
        "      await new Promise((resolve) => capture.onclick = resolve);\r\n",
        "\r\n",
        "      const canvas = document.createElement('canvas');\r\n",
        "      canvas.width = video.videoWidth;\r\n",
        "      canvas.height = video.videoHeight;\r\n",
        "      canvas.getContext('2d').drawImage(video, 0, 0);\r\n",
        "      stream.getVideoTracks()[0].stop();\r\n",
        "      div.remove();\r\n",
        "      return canvas.toDataURL('image/jpeg', quality);\r\n",
        "    }\r\n",
        "    ''')\r\n",
        "  display(js)\r\n",
        "\r\n",
        "  # get photo data\r\n",
        "  data = eval_js('takePhoto({})'.format(quality))\r\n",
        "  # get OpenCV format image\r\n",
        "  img = js_to_image(data) \r\n",
        "  # grayscale img\r\n",
        "  gray = cv2.cvtColor(img, cv2.COLOR_RGB2GRAY)\r\n",
        "  print(gray.shape)\r\n",
        "  # get face bounding box coordinates using Haar Cascade\r\n",
        "  faces = face_cascade.detectMultiScale(gray)\r\n",
        "  # draw face bounding box on image\r\n",
        "  for (x,y,w,h) in faces:\r\n",
        "      img = cv2.rectangle(img,(x,y),(x+w,y+h),(255,0,0),2)\r\n",
        "  # save image\r\n",
        "  cv2.imwrite(filename, img)\r\n",
        "\r\n",
        "  return filename"
      ],
      "execution_count": 130,
      "outputs": []
    },
    {
      "cell_type": "code",
      "metadata": {
        "colab": {
          "base_uri": "https://localhost:8080/",
          "height": 527
        },
        "id": "qlp4g1s3_rxA",
        "outputId": "97474df7-7bcb-41a5-a538-e44fc9ccc3a6"
      },
      "source": [
        "try:\r\n",
        "  filename = take_photo('photo.jpg')\r\n",
        "  print('Saved to {}'.format(filename))\r\n",
        "  \r\n",
        "  # Show the image which was just taken.\r\n",
        "  display(Image(filename))\r\n",
        "except Exception as err:\r\n",
        "  # Errors will be thrown if the user does not have a webcam or if they do not\r\n",
        "  # grant the page permission to access it.\r\n",
        "  print(str(err))"
      ],
      "execution_count": 131,
      "outputs": [
        {
          "output_type": "display_data",
          "data": {
            "application/javascript": [
              "\n",
              "    async function takePhoto(quality) {\n",
              "      const div = document.createElement('div');\n",
              "      const capture = document.createElement('button');\n",
              "      capture.textContent = 'Capture';\n",
              "      div.appendChild(capture);\n",
              "\n",
              "      const video = document.createElement('video');\n",
              "      video.style.display = 'block';\n",
              "      const stream = await navigator.mediaDevices.getUserMedia({video: true});\n",
              "\n",
              "      document.body.appendChild(div);\n",
              "      div.appendChild(video);\n",
              "      video.srcObject = stream;\n",
              "      await video.play();\n",
              "\n",
              "      // Resize the output to fit the video element.\n",
              "      google.colab.output.setIframeHeight(document.documentElement.scrollHeight, true);\n",
              "\n",
              "      // Wait for Capture to be clicked.\n",
              "      await new Promise((resolve) => capture.onclick = resolve);\n",
              "\n",
              "      const canvas = document.createElement('canvas');\n",
              "      canvas.width = video.videoWidth;\n",
              "      canvas.height = video.videoHeight;\n",
              "      canvas.getContext('2d').drawImage(video, 0, 0);\n",
              "      stream.getVideoTracks()[0].stop();\n",
              "      div.remove();\n",
              "      return canvas.toDataURL('image/jpeg', quality);\n",
              "    }\n",
              "    "
            ],
            "text/plain": [
              "<IPython.core.display.Javascript object>"
            ]
          },
          "metadata": {
            "tags": []
          }
        },
        {
          "output_type": "stream",
          "text": [
            "(480, 640)\n",
            "Saved to photo.jpg\n"
          ],
          "name": "stdout"
        },
        {
          "output_type": "display_data",
          "data": {
            "image/jpeg": "[encoded data removed]",
            "text/plain": [
              "<IPython.core.display.Image object>"
            ]
          },
          "metadata": {
            "tags": []
          }
        }
      ]
    },
    {
      "cell_type": "code",
      "metadata": {
        "colab": {
          "base_uri": "https://localhost:8080/",
          "height": 34
        },
        "id": "CRLHugr_AMYP",
        "outputId": "47db131a-5c01-4fb4-f8e4-1aec4c1f2b71"
      },
      "source": [
        "x=display(take_photo)\r\n",
        "x"
      ],
      "execution_count": 127,
      "outputs": [
        {
          "output_type": "display_data",
          "data": {
            "text/plain": [
              "<function __main__.take_photo>"
            ]
          },
          "metadata": {
            "tags": []
          }
        }
      ]
    },
    {
      "cell_type": "code",
      "metadata": {
        "id": "MqrTHGWk1ODP"
      },
      "source": [
        ""
      ],
      "execution_count": null,
      "outputs": []
    },
    {
      "cell_type": "code",
      "metadata": {
        "colab": {
          "base_uri": "https://localhost:8080/"
        },
        "id": "jYJ2sGRX4i5c",
        "outputId": "e772a7e9-66ec-477d-d241-d6e2c67cf1fb"
      },
      "source": [
        "#Loading our pretrained model\r\n",
        "model=keras.models.load_model('trained_model.h5')\r\n",
        "model.summary()"
      ],
      "execution_count": 35,
      "outputs": [
        {
          "output_type": "stream",
          "text": [
            "Model: \"sequential_1\"\n",
            "_________________________________________________________________\n",
            "Layer (type)                 Output Shape              Param #   \n",
            "=================================================================\n",
            "conv2d_2 (Conv2D)            (None, 26, 26, 32)        320       \n",
            "_________________________________________________________________\n",
            "conv2d_3 (Conv2D)            (None, 24, 24, 64)        18496     \n",
            "_________________________________________________________________\n",
            "max_pooling2d_1 (MaxPooling2 (None, 12, 12, 64)        0         \n",
            "_________________________________________________________________\n",
            "dropout_1 (Dropout)          (None, 12, 12, 64)        0         \n",
            "_________________________________________________________________\n",
            "flatten (Flatten)            (None, 9216)              0         \n",
            "_________________________________________________________________\n",
            "dense (Dense)                (None, 128)               1179776   \n",
            "_________________________________________________________________\n",
            "dropout_2 (Dropout)          (None, 128)               0         \n",
            "_________________________________________________________________\n",
            "dense_1 (Dense)              (None, 10)                1290      \n",
            "=================================================================\n",
            "Total params: 1,199,882\n",
            "Trainable params: 1,199,882\n",
            "Non-trainable params: 0\n",
            "_________________________________________________________________\n"
          ],
          "name": "stdout"
        }
      ]
    },
    {
      "cell_type": "code",
      "metadata": {
        "colab": {
          "base_uri": "https://localhost:8080/"
        },
        "id": "mmpp2SWw50-Q",
        "outputId": "feebb135-37d6-4572-a172-587c5f0fa4a0"
      },
      "source": [
        "#Loading our pretrained model\r\n",
        "model"
      ],
      "execution_count": 30,
      "outputs": [
        {
          "output_type": "execute_result",
          "data": {
            "text/plain": [
              "<tensorflow.python.keras.engine.sequential.Sequential at 0x7fe60d6b8590>"
            ]
          },
          "metadata": {
            "tags": []
          },
          "execution_count": 30
        }
      ]
    },
    {
      "cell_type": "code",
      "metadata": {
        "id": "DE_H8JCC5_RC"
      },
      "source": [
        "#Reading the Image\r\n",
        "img_orig=cap.read()"
      ],
      "execution_count": 36,
      "outputs": []
    },
    {
      "cell_type": "code",
      "metadata": {
        "id": "cCGJf2dQ7Z6x"
      },
      "source": [
        "#Converting the image to grayscale\r\n",
        "img_gray=rgb2gray(img_orig)"
      ],
      "execution_count": null,
      "outputs": []
    }
  ]
}