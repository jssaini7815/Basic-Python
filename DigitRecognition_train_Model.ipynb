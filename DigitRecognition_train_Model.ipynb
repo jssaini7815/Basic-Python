{
  "nbformat": 4,
  "nbformat_minor": 0,
  "metadata": {
    "colab": {
      "name": "DigitRecognition_train_Model.ipynb",
      "provenance": [],
      "authorship_tag": "ABX9TyOSz8ga1COWT5hb0f4bUPSI",
      "include_colab_link": true
    },
    "kernelspec": {
      "name": "python3",
      "display_name": "Python 3"
    },
    "accelerator": "GPU"
  },
  "cells": [
    {
      "cell_type": "markdown",
      "metadata": {
        "id": "view-in-github",
        "colab_type": "text"
      },
      "source": [
        "<a href=\"https://colab.research.google.com/github/jssaini7815/Basic-Python/blob/main/DigitRecognition_train_Model.ipynb\" target=\"_parent\"><img src=\"https://colab.research.google.com/assets/colab-badge.svg\" alt=\"Open In Colab\"/></a>"
      ]
    },
    {
      "cell_type": "code",
      "metadata": {
        "id": "TqEbfbMVoKfI"
      },
      "source": [
        "#Import the necessary libraries and modules\r\n",
        "import keras \r\n",
        "from keras.datasets import mnist\r\n",
        "from keras.models import Sequential\r\n",
        "from keras.layers import Dense,Dropout,Flatten\r\n",
        "# Dense layer is the regular deeply connected neural network layer. \r\n",
        "# It is most common and frequently used layer. \r\n",
        "# Dense layer does the below operation on the input and return the output.\r\n",
        "# Dropout layer randomly sets input units to 0 with a \r\n",
        "# frequency of rate at each step during training time,\r\n",
        "# which helps prevent overfitting.\r\n",
        "# Keras - Flatten Layers. Flatten is used to flatten the input. \r\n",
        "# For example, if flatten is applied \r\n",
        "# to layer having input shape as (batch_size, 2,2), \r\n",
        "# then the output shape of the layer will be (batch_size, 4)\r\n",
        "# Flatten has one argument as follows.\r\n",
        "\r\n",
        "# Reshape Layers:This layer has the responsibility of changing the shape of the input.\r\n",
        "from keras.layers import Conv2D,MaxPooling2D\r\n",
        "# Introducing max pooling Max pooling is a type of operation that is \r\n",
        "# typically added to CNNs following individual convolutional layers.\r\n",
        "# When added to a model, max pooling reduces the dimensionality of images by reducing\r\n",
        "# the number of pixels in the output from the previous convolutional layer.\r\n",
        "# The pooling layer is used for applying max pooling operations \r\n",
        "# on temporal data\r\n",
        "#Conv2D:\r\n",
        "# 2D convolution layer (e.g. spatial convolution over images). This layer creates a convolution kernel \r\n",
        "# that is convolved with the layer input to produce a tensor of outputs.\r\n",
        "# two conv layers side by side, each seeing half the input channels, and producing half the output channels, \r\n",
        "# and both subsequently concatenated.\r\n",
        "from keras import backend as K\r\n",
        "# By default, keras uses TensorFlow backend. If you want to change backend configuration from TensorFlow to Theano,\r\n",
        "# just change the backend = theano in keras.json file"
      ],
      "execution_count": 1,
      "outputs": []
    },
    {
      "cell_type": "markdown",
      "metadata": {
        "id": "kTJm35Hduc5m"
      },
      "source": [
        "Splitting the MNIST dataset into Train and Test"
      ]
    },
    {
      "cell_type": "code",
      "metadata": {
        "colab": {
          "base_uri": "https://localhost:8080/"
        },
        "id": "4Lz0voPjuWW_",
        "outputId": "fa03a74b-80e4-4edc-bc1f-3fc5bb67bc3a"
      },
      "source": [
        "(x_train, y_train), (x_test, y_test) = mnist.load_data()"
      ],
      "execution_count": 2,
      "outputs": [
        {
          "output_type": "stream",
          "text": [
            "Downloading data from https://storage.googleapis.com/tensorflow/tf-keras-datasets/mnist.npz\n",
            "11493376/11490434 [==============================] - 0s 0us/step\n"
          ],
          "name": "stdout"
        }
      ]
    },
    {
      "cell_type": "markdown",
      "metadata": {
        "id": "p_0Or0Qqur_V"
      },
      "source": [
        "Preporcessing the input data"
      ]
    },
    {
      "cell_type": "code",
      "metadata": {
        "id": "qltGfRb8upVJ"
      },
      "source": [
        "num_of_trainImgs=x_train.shape[0]#60000 here\r\n",
        "num_of_testImgs=x_test.shape[0]#10000 here\r\n",
        "img_width=28\r\n",
        "img_height=28\r\n",
        "x_train=x_train.reshape(x_train.shape[0],img_height,img_width,1)\r\n",
        "x_test = x_test.reshape(x_test.shape[0], img_height, img_width, 1)\r\n",
        "\r\n",
        "input_shape = (img_height, img_width, 1)\r\n",
        "x_train = x_train.astype('float32')\r\n",
        "x_test = x_test.astype('float32')\r\n",
        "x_train /= 255\r\n",
        "x_test /= 255"
      ],
      "execution_count": 4,
      "outputs": []
    },
    {
      "cell_type": "markdown",
      "metadata": {
        "id": "CSOljhGdvgj3"
      },
      "source": [
        "Converting the class vectors to binary class"
      ]
    },
    {
      "cell_type": "code",
      "metadata": {
        "id": "cZgv50d3vleH"
      },
      "source": [
        "num_classes=10\r\n",
        "y_train=keras.utils.to_categorical(y_train,num_classes)\r\n",
        "y_test=keras.utils.to_categorical(y_test,num_classes)"
      ],
      "execution_count": 5,
      "outputs": []
    },
    {
      "cell_type": "markdown",
      "metadata": {
        "id": "rlnEURrjv6_b"
      },
      "source": [
        "Defining the model architecture"
      ]
    },
    {
      "cell_type": "code",
      "metadata": {
        "id": "nbZGXT-Wv55J"
      },
      "source": [
        "model =Sequential()\r\n",
        "model.add(Conv2D(32,kernel_size=(3,3),activation='relu',input_shape=input_shape))\r\n",
        "model.add(Conv2D(64,(3,3),activation='relu'))\r\n",
        "model.add(MaxPooling2D(pool_size=(2,2)))\r\n",
        "model.add(Dropout(0.25))\r\n",
        "model.add(Flatten())\r\n",
        "model.add(Dense(128,activation='relu'))\r\n",
        "model.add(Dropout(0.5))\r\n",
        "model.add(Dense(num_classes,activation='softmax'))"
      ],
      "execution_count": 7,
      "outputs": []
    },
    {
      "cell_type": "markdown",
      "metadata": {
        "id": "xjSqjnolxFL1"
      },
      "source": [
        "#Compiling the model"
      ]
    },
    {
      "cell_type": "code",
      "metadata": {
        "id": "cbILHhQTxEQS"
      },
      "source": [
        "model.compile(loss=keras.losses.categorical_crossentropy,optimizer=keras.optimizers.Adam(),metrics=[\"accuracy\"])"
      ],
      "execution_count": 9,
      "outputs": []
    },
    {
      "cell_type": "code",
      "metadata": {
        "id": "0sUZvci2xqFF"
      },
      "source": [
        "model.compile(loss=keras.losses.categorical_crossentropy,\r\n",
        "              optimizer=keras.optimizers.Adadelta(),\r\n",
        "              metrics=['accuracy'])"
      ],
      "execution_count": 10,
      "outputs": []
    },
    {
      "cell_type": "markdown",
      "metadata": {
        "id": "HZCezow8x35z"
      },
      "source": [
        "Fitting the model on trainin data"
      ]
    },
    {
      "cell_type": "code",
      "metadata": {
        "colab": {
          "base_uri": "https://localhost:8080/"
        },
        "id": "cU3JvD3rx2wH",
        "outputId": "9a2e1bea-1897-4f1d-9082-3e7437a7e458"
      },
      "source": [
        "model.fit(x_train,y_train,batch_size=128,epochs=30,verbose=1,validation_data=(x_test,y_test))"
      ],
      "execution_count": 13,
      "outputs": [
        {
          "output_type": "stream",
          "text": [
            "Epoch 1/30\n",
            "469/469 [==============================] - 3s 6ms/step - loss: 0.8984 - accuracy: 0.7342 - val_loss: 0.6530 - val_accuracy: 0.8531\n",
            "Epoch 2/30\n",
            "469/469 [==============================] - 3s 6ms/step - loss: 0.8511 - accuracy: 0.7462 - val_loss: 0.6076 - val_accuracy: 0.8586\n",
            "Epoch 3/30\n",
            "469/469 [==============================] - 3s 6ms/step - loss: 0.8086 - accuracy: 0.7571 - val_loss: 0.5708 - val_accuracy: 0.8642\n",
            "Epoch 4/30\n",
            "469/469 [==============================] - 3s 6ms/step - loss: 0.7746 - accuracy: 0.7664 - val_loss: 0.5400 - val_accuracy: 0.8694\n",
            "Epoch 5/30\n",
            "469/469 [==============================] - 3s 6ms/step - loss: 0.7463 - accuracy: 0.7712 - val_loss: 0.5144 - val_accuracy: 0.8735\n",
            "Epoch 6/30\n",
            "469/469 [==============================] - 3s 6ms/step - loss: 0.7191 - accuracy: 0.7805 - val_loss: 0.4928 - val_accuracy: 0.8769\n",
            "Epoch 7/30\n",
            "469/469 [==============================] - 3s 6ms/step - loss: 0.6959 - accuracy: 0.7851 - val_loss: 0.4731 - val_accuracy: 0.8812\n",
            "Epoch 8/30\n",
            "469/469 [==============================] - 3s 6ms/step - loss: 0.6744 - accuracy: 0.7949 - val_loss: 0.4559 - val_accuracy: 0.8849\n",
            "Epoch 9/30\n",
            "469/469 [==============================] - 3s 6ms/step - loss: 0.6529 - accuracy: 0.7986 - val_loss: 0.4407 - val_accuracy: 0.8873\n",
            "Epoch 10/30\n",
            "469/469 [==============================] - 3s 6ms/step - loss: 0.6362 - accuracy: 0.8062 - val_loss: 0.4272 - val_accuracy: 0.8897\n",
            "Epoch 11/30\n",
            "469/469 [==============================] - 3s 6ms/step - loss: 0.6224 - accuracy: 0.8108 - val_loss: 0.4158 - val_accuracy: 0.8909\n",
            "Epoch 12/30\n",
            "469/469 [==============================] - 3s 6ms/step - loss: 0.6090 - accuracy: 0.8136 - val_loss: 0.4049 - val_accuracy: 0.8940\n",
            "Epoch 13/30\n",
            "469/469 [==============================] - 3s 6ms/step - loss: 0.5962 - accuracy: 0.8195 - val_loss: 0.3949 - val_accuracy: 0.8972\n",
            "Epoch 14/30\n",
            "469/469 [==============================] - 3s 6ms/step - loss: 0.5838 - accuracy: 0.8220 - val_loss: 0.3862 - val_accuracy: 0.8986\n",
            "Epoch 15/30\n",
            "469/469 [==============================] - 3s 6ms/step - loss: 0.5735 - accuracy: 0.8237 - val_loss: 0.3780 - val_accuracy: 0.9002\n",
            "Epoch 16/30\n",
            "469/469 [==============================] - 3s 6ms/step - loss: 0.5617 - accuracy: 0.8275 - val_loss: 0.3706 - val_accuracy: 0.9020\n",
            "Epoch 17/30\n",
            "469/469 [==============================] - 3s 6ms/step - loss: 0.5528 - accuracy: 0.8328 - val_loss: 0.3636 - val_accuracy: 0.9040\n",
            "Epoch 18/30\n",
            "469/469 [==============================] - 3s 6ms/step - loss: 0.5471 - accuracy: 0.8353 - val_loss: 0.3570 - val_accuracy: 0.9049\n",
            "Epoch 19/30\n",
            "469/469 [==============================] - 3s 6ms/step - loss: 0.5375 - accuracy: 0.8376 - val_loss: 0.3509 - val_accuracy: 0.9060\n",
            "Epoch 20/30\n",
            "469/469 [==============================] - 3s 6ms/step - loss: 0.5330 - accuracy: 0.8370 - val_loss: 0.3456 - val_accuracy: 0.9073\n",
            "Epoch 21/30\n",
            "469/469 [==============================] - 3s 6ms/step - loss: 0.5175 - accuracy: 0.8438 - val_loss: 0.3397 - val_accuracy: 0.9087\n",
            "Epoch 22/30\n",
            "469/469 [==============================] - 3s 6ms/step - loss: 0.5145 - accuracy: 0.8435 - val_loss: 0.3351 - val_accuracy: 0.9097\n",
            "Epoch 23/30\n",
            "469/469 [==============================] - 3s 6ms/step - loss: 0.5072 - accuracy: 0.8468 - val_loss: 0.3304 - val_accuracy: 0.9098\n",
            "Epoch 24/30\n",
            "469/469 [==============================] - 3s 6ms/step - loss: 0.5010 - accuracy: 0.8481 - val_loss: 0.3258 - val_accuracy: 0.9114\n",
            "Epoch 25/30\n",
            "469/469 [==============================] - 3s 6ms/step - loss: 0.4985 - accuracy: 0.8499 - val_loss: 0.3215 - val_accuracy: 0.9119\n",
            "Epoch 26/30\n",
            "469/469 [==============================] - 3s 6ms/step - loss: 0.4898 - accuracy: 0.8514 - val_loss: 0.3176 - val_accuracy: 0.9122\n",
            "Epoch 27/30\n",
            "469/469 [==============================] - 3s 6ms/step - loss: 0.4822 - accuracy: 0.8547 - val_loss: 0.3133 - val_accuracy: 0.9134\n",
            "Epoch 28/30\n",
            "469/469 [==============================] - 3s 6ms/step - loss: 0.4769 - accuracy: 0.8562 - val_loss: 0.3094 - val_accuracy: 0.9145\n",
            "Epoch 29/30\n",
            "469/469 [==============================] - 3s 6ms/step - loss: 0.4733 - accuracy: 0.8573 - val_loss: 0.3063 - val_accuracy: 0.9146\n",
            "Epoch 30/30\n",
            "469/469 [==============================] - 3s 6ms/step - loss: 0.4686 - accuracy: 0.8589 - val_loss: 0.3024 - val_accuracy: 0.9155\n"
          ],
          "name": "stdout"
        },
        {
          "output_type": "execute_result",
          "data": {
            "text/plain": [
              "<tensorflow.python.keras.callbacks.History at 0x7fe60d681b50>"
            ]
          },
          "metadata": {
            "tags": []
          },
          "execution_count": 13
        }
      ]
    },
    {
      "cell_type": "markdown",
      "metadata": {
        "id": "u_ylMNdxyRDb"
      },
      "source": [
        "Evaluating the model on test data"
      ]
    },
    {
      "cell_type": "code",
      "metadata": {
        "colab": {
          "base_uri": "https://localhost:8080/"
        },
        "id": "5gT8BBUrxAeG",
        "outputId": "0c4ecb00-76b8-44f3-c20d-afd5894fe277"
      },
      "source": [
        "score=model.evaluate(x_test,y_test,verbose=0)\r\n",
        "print('Test loss:',score[0])\r\n",
        "print('Test accuracy:',score[1])"
      ],
      "execution_count": 14,
      "outputs": [
        {
          "output_type": "stream",
          "text": [
            "Test loss: 0.30242642760276794\n",
            "Test accuracy: 0.9154999852180481\n"
          ],
          "name": "stdout"
        }
      ]
    },
    {
      "cell_type": "markdown",
      "metadata": {
        "id": "ld5tSxEzy0hO"
      },
      "source": [
        "<!--  -->\r\n",
        "#Saving the Model"
      ]
    },
    {
      "cell_type": "code",
      "metadata": {
        "id": "5Mhbj0pJy8Fi"
      },
      "source": [
        "model.save('trained_model.h5')"
      ],
      "execution_count": null,
      "outputs": []
    },
    {
      "cell_type": "code",
      "metadata": {
        "id": "W0P16pBVzDx-"
      },
      "source": [
        ""
      ],
      "execution_count": null,
      "outputs": []
    }
  ]
}