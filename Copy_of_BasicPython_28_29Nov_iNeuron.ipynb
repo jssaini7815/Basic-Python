{
  "nbformat": 4,
  "nbformat_minor": 0,
  "metadata": {
    "colab": {
      "name": "Copy of BasicPython_28-29Nov_iNeuron.ipynb",
      "provenance": [],
      "collapsed_sections": [
        "VZnHfTe8AELB",
        "QFT6T801CdLz",
        "uwi21zSBK6JY",
        "PnObJDSBPOSH",
        "JFZqmDeqciiC",
        "2BVZHer2gInH",
        "tOQFVYhehOdy",
        "-NpjayOXh6N3",
        "3ahmccNmm1RI",
        "j_XhCNqQzN1y"
      ],
      "authorship_tag": "ABX9TyM1iVk65fEJGB2imdQgpt1G",
      "include_colab_link": true
    },
    "kernelspec": {
      "name": "python3",
      "display_name": "Python 3"
    }
  },
  "cells": [
    {
      "cell_type": "markdown",
      "metadata": {
        "id": "view-in-github",
        "colab_type": "text"
      },
      "source": [
        "<a href=\"https://colab.research.google.com/github/jssaini7815/Basic-Python/blob/main/Copy_of_BasicPython_28_29Nov_iNeuron.ipynb\" target=\"_parent\"><img src=\"https://colab.research.google.com/assets/colab-badge.svg\" alt=\"Open In Colab\"/></a>"
      ]
    },
    {
      "cell_type": "code",
      "metadata": {
        "id": "Ok71XDkZ6Sfd"
      },
      "source": [
        "str(1)\r\n",
        "# Never used Reserved keys"
      ],
      "execution_count": null,
      "outputs": []
    },
    {
      "cell_type": "code",
      "metadata": {
        "id": "NwhGVIUE6deM"
      },
      "source": [
        "str=\"Hare Krsna\""
      ],
      "execution_count": null,
      "outputs": []
    },
    {
      "cell_type": "code",
      "metadata": {
        "colab": {
          "base_uri": "https://localhost:8080/",
          "height": 35
        },
        "id": "AiBGPwGg6jC5",
        "outputId": "935d4f09-06d4-4406-a220-41b2660e141e"
      },
      "source": [
        "str\r\n"
      ],
      "execution_count": null,
      "outputs": [
        {
          "output_type": "execute_result",
          "data": {
            "application/vnd.google.colaboratory.intrinsic+json": {
              "type": "string"
            },
            "text/plain": [
              "'Hare Krsna'"
            ]
          },
          "metadata": {
            "tags": []
          },
          "execution_count": 3
        }
      ]
    },
    {
      "cell_type": "code",
      "metadata": {
        "id": "2osBEL6q6-Hl"
      },
      "source": [
        "str1=\" Jai\"\r\n",
        "str2=\"Krsna\"\r\n"
      ],
      "execution_count": null,
      "outputs": []
    },
    {
      "cell_type": "markdown",
      "metadata": {
        "id": "wRc5X7Fo7HUR"
      },
      "source": [
        "str1+\" \"+str2"
      ]
    },
    {
      "cell_type": "code",
      "metadata": {
        "colab": {
          "base_uri": "https://localhost:8080/"
        },
        "id": "dKn9Lm3w7ZQg",
        "outputId": "0a62370e-8372-4fa1-ebcd-d08181bd64f5"
      },
      "source": [
        "a=input(\"Enter no.1?\")\r\n",
        "b=input(\"enter no.2?\")\r\n",
        "c=a+b\r\n",
        "print(\"The output is \",c)\r\n",
        "# the output is concatenation due to string by default\r\n",
        "# typecasting needs to add the value\r\n",
        "a=float(input(\"Enter no.1?\"))\r\n",
        "b=float(input(\"enter no.2?\"))\r\n",
        "c=a+b\r\n",
        "print(\"The output is \",c)"
      ],
      "execution_count": null,
      "outputs": [
        {
          "output_type": "stream",
          "text": [
            "Enter no.1?34\n",
            "enter no.2?34\n",
            "The output is  3434\n",
            "Enter no.1?34\n",
            "enter no.2?34\n",
            "The output is  68.0\n"
          ],
          "name": "stdout"
        }
      ]
    },
    {
      "cell_type": "code",
      "metadata": {
        "colab": {
          "base_uri": "https://localhost:8080/"
        },
        "id": "e7YpQn8E7Wdu",
        "outputId": "096bf762-f9be-47b1-ed0a-a93c2c7d4ef1"
      },
      "source": [
        "## String formatting\r\n",
        "first_name=input('What is your first name?')\r\n",
        "last_name=input('What is your last name')\r\n",
        "# place holder {} to need desired place with help of placeholder\r\n",
        "print(\"My first name is {} and last name is {} \".format(first_name,last_name))"
      ],
      "execution_count": null,
      "outputs": [
        {
          "output_type": "stream",
          "text": [
            "What is your first name?Jitender\n",
            "What is your last nameSaini\n",
            "My first name is Jitender and last name is Saini \n"
          ],
          "name": "stdout"
        }
      ]
    },
    {
      "cell_type": "code",
      "metadata": {
        "colab": {
          "base_uri": "https://localhost:8080/"
        },
        "id": "Sw1OuJDF-f2s",
        "outputId": "37abbd2a-2792-428e-df8d-4b4843649620"
      },
      "source": [
        "## String formatting\r\n",
        "first_name=input('What is your first name?')\r\n",
        "last_name=input('What is your last name')\r\n",
        "# place holder {} to need desired place with help of placeholder\r\n",
        "print(\"My first name is {firstname} and last name is {lastname} \".format(lastname=first_name,firstname=last_name))"
      ],
      "execution_count": null,
      "outputs": [
        {
          "output_type": "stream",
          "text": [
            "What is your first name?Js\n",
            "What is your last nameSaini\n",
            "My first name is Saini and last name is Js \n"
          ],
          "name": "stdout"
        }
      ]
    },
    {
      "cell_type": "code",
      "metadata": {
        "id": "ypH0fB2R7TKE"
      },
      "source": [
        "### Variable Dynamic"
      ],
      "execution_count": null,
      "outputs": []
    },
    {
      "cell_type": "code",
      "metadata": {
        "id": "j4gh6UBc_e9I"
      },
      "source": [
        ""
      ],
      "execution_count": null,
      "outputs": []
    },
    {
      "cell_type": "code",
      "metadata": {
        "id": "vim7i3Oo_idO"
      },
      "source": [
        ""
      ],
      "execution_count": null,
      "outputs": []
    },
    {
      "cell_type": "markdown",
      "metadata": {
        "id": "5mhWySXR_Tw3"
      },
      "source": [
        "# Variable Dynamic Typing"
      ]
    },
    {
      "cell_type": "code",
      "metadata": {
        "colab": {
          "base_uri": "https://localhost:8080/"
        },
        "id": "oDIGrvHh_lEC",
        "outputId": "a50e0f6c-e826-49b3-8b81-8d320a483a27"
      },
      "source": [
        "a=10.0\r\n",
        "type(a)\r\n"
      ],
      "execution_count": null,
      "outputs": [
        {
          "output_type": "execute_result",
          "data": {
            "text/plain": [
              "float"
            ]
          },
          "metadata": {
            "tags": []
          },
          "execution_count": 17
        }
      ]
    },
    {
      "cell_type": "code",
      "metadata": {
        "colab": {
          "base_uri": "https://localhost:8080/",
          "height": 180
        },
        "id": "llOFKqmO_ud-",
        "outputId": "fcdf31e6-1a10-4e19-b772-4c317b0009cc"
      },
      "source": [
        "# Strong Typing\r\n",
        "1+'2'"
      ],
      "execution_count": null,
      "outputs": [
        {
          "output_type": "error",
          "ename": "TypeError",
          "evalue": "ignored",
          "traceback": [
            "\u001b[0;31m---------------------------------------------------------------------------\u001b[0m",
            "\u001b[0;31mTypeError\u001b[0m                                 Traceback (most recent call last)",
            "\u001b[0;32m<ipython-input-19-b2bc0f750540>\u001b[0m in \u001b[0;36m<module>\u001b[0;34m()\u001b[0m\n\u001b[1;32m      1\u001b[0m \u001b[0;31m# Strong Typing\u001b[0m\u001b[0;34m\u001b[0m\u001b[0;34m\u001b[0m\u001b[0;34m\u001b[0m\u001b[0m\n\u001b[0;32m----> 2\u001b[0;31m \u001b[0;36m1\u001b[0m\u001b[0;34m+\u001b[0m\u001b[0;34m'2'\u001b[0m\u001b[0;34m\u001b[0m\u001b[0;34m\u001b[0m\u001b[0m\n\u001b[0m",
            "\u001b[0;31mTypeError\u001b[0m: unsupported operand type(s) for +: 'int' and 'str'"
          ]
        }
      ]
    },
    {
      "cell_type": "code",
      "metadata": {
        "id": "zefNQ643AA7A"
      },
      "source": [
        ""
      ],
      "execution_count": null,
      "outputs": []
    },
    {
      "cell_type": "markdown",
      "metadata": {
        "id": "VZnHfTe8AELB"
      },
      "source": [
        "# Conditional Statement"
      ]
    },
    {
      "cell_type": "code",
      "metadata": {
        "colab": {
          "base_uri": "https://localhost:8080/",
          "height": 103
        },
        "id": "TcOUrnxR_7vw",
        "outputId": "d0a771af-9016-40f2-8b09-a1f2b9c9de6d"
      },
      "source": [
        "# if and elif\r\n",
        "a=int(input(\" Enter the no.1?\"))\r\n",
        "b=int(input(\"Enter the no.2?\"))\r\n",
        "c=a-b\r\n",
        "print(c)\r\n",
        "if c<0:\r\n",
        "  print(\"The no. is negative\")\r\n",
        "elif c>40:\r\n",
        "  print(\"The diff is huge\")\r\n",
        "else:\r\n",
        "  print(\"The no. is positive\")\r\n",
        "\r\n",
        "\r\n",
        "'''"
      ],
      "execution_count": null,
      "outputs": [
        {
          "output_type": "stream",
          "text": [
            " Enter the no.1?456\n",
            "Enter the no.2?34\n",
            "422\n",
            "The diff is huge\n"
          ],
          "name": "stdout"
        },
        {
          "output_type": "execute_result",
          "data": {
            "application/vnd.google.colaboratory.intrinsic+json": {
              "type": "string"
            },
            "text/plain": [
              "' \\nif \\nelif\\nelif \\nelif\\nelse\\nspeicific order\\n'"
            ]
          },
          "metadata": {
            "tags": []
          },
          "execution_count": 26
        }
      ]
    },
    {
      "cell_type": "code",
      "metadata": {
        "colab": {
          "base_uri": "https://localhost:8080/",
          "height": 35
        },
        "id": "i5ObWn01B3-D",
        "outputId": "e655d074-528f-4d31-d68b-93fed6b51559"
      },
      "source": [
        "''' \r\n",
        "if \r\n",
        "elif\r\n",
        "elif \r\n",
        "elif\r\n",
        "else\r\n",
        "speicific order\r\n",
        "'''"
      ],
      "execution_count": null,
      "outputs": [
        {
          "output_type": "execute_result",
          "data": {
            "application/vnd.google.colaboratory.intrinsic+json": {
              "type": "string"
            },
            "text/plain": [
              "' \\nif \\nelif\\nelif \\nelif\\nelse\\nspeicific order\\n\\nif\\n \\nelif\\n \\nelif \\n \\nelif\\n \\nelse\\n \\nspeicific order'"
            ]
          },
          "metadata": {
            "tags": []
          },
          "execution_count": 31
        }
      ]
    },
    {
      "cell_type": "code",
      "metadata": {
        "id": "CnPkxfLQBKgw"
      },
      "source": [
        ""
      ],
      "execution_count": null,
      "outputs": []
    },
    {
      "cell_type": "markdown",
      "metadata": {
        "id": "QFT6T801CdLz"
      },
      "source": [
        "#Data Structure\r\n",
        "1 list\r\n",
        "2 tuple\r\n",
        "3 string\r\n",
        "4 dictionary\r\n",
        "5 Sets"
      ]
    },
    {
      "cell_type": "code",
      "metadata": {
        "colab": {
          "base_uri": "https://localhost:8080/"
        },
        "id": "jtZWTiVFCrLw",
        "outputId": "b5ab5530-03fe-474f-f91b-86fc120c1df3"
      },
      "source": [
        "lst=[1,2,3,'jai shree Krsna',\"Hare\"]\r\n",
        "lst\r\n",
        "lst.index(\"Hare\")\r\n"
      ],
      "execution_count": null,
      "outputs": [
        {
          "output_type": "execute_result",
          "data": {
            "text/plain": [
              "4"
            ]
          },
          "metadata": {
            "tags": []
          },
          "execution_count": 47
        }
      ]
    },
    {
      "cell_type": "code",
      "metadata": {
        "colab": {
          "base_uri": "https://localhost:8080/"
        },
        "id": "NNjE8XElC9l_",
        "outputId": "a7cfe97c-b8f1-4503-b148-0b2f704cf9d9"
      },
      "source": [
        "type(lst[3])"
      ],
      "execution_count": null,
      "outputs": [
        {
          "output_type": "execute_result",
          "data": {
            "text/plain": [
              "str"
            ]
          },
          "metadata": {
            "tags": []
          },
          "execution_count": 36
        }
      ]
    },
    {
      "cell_type": "code",
      "metadata": {
        "colab": {
          "base_uri": "https://localhost:8080/",
          "height": 231
        },
        "id": "EzFlos69DK__",
        "outputId": "f683f362-5254-486c-e50a-bd584656c9be"
      },
      "source": [
        "lst.append(4)\r\n",
        "lst2=[45,7,8]\r\n",
        "lst.append(\"Jai shree krsna\")\r\n",
        "lst.extend(lst2)\r\n",
        "lst.insert('x')\r\n",
        "# vowel list\r\n",
        "vowel = ['a', 'e', 'i', 'u']\r\n",
        "\r\n",
        "# 'o' is inserted at index 3\r\n",
        "# the position of 'o' will be 4th\r\n",
        "vowel.insert(3, 'o')\r\n",
        "print('Updated List:', vowel)\r\n",
        "\r\n",
        "lst.remove(x)\r\n",
        "lst.pop([i])\r\n",
        "lst.clear()\r\n",
        "\r\n",
        "lst.count()\r\n",
        "lst.sort(key=None,reverse=False)\r\n",
        "lst.reverse()\r\n",
        "lst.copy()"
      ],
      "execution_count": null,
      "outputs": [
        {
          "output_type": "error",
          "ename": "TypeError",
          "evalue": "ignored",
          "traceback": [
            "\u001b[0;31m---------------------------------------------------------------------------\u001b[0m",
            "\u001b[0;31mTypeError\u001b[0m                                 Traceback (most recent call last)",
            "\u001b[0;32m<ipython-input-41-b3c247126f60>\u001b[0m in \u001b[0;36m<module>\u001b[0;34m()\u001b[0m\n\u001b[1;32m      2\u001b[0m \u001b[0mlst2\u001b[0m\u001b[0;34m=\u001b[0m\u001b[0;34m[\u001b[0m\u001b[0;36m45\u001b[0m\u001b[0;34m,\u001b[0m\u001b[0;36m7\u001b[0m\u001b[0;34m,\u001b[0m\u001b[0;36m8\u001b[0m\u001b[0;34m]\u001b[0m\u001b[0;34m\u001b[0m\u001b[0;34m\u001b[0m\u001b[0m\n\u001b[1;32m      3\u001b[0m \u001b[0mlst\u001b[0m\u001b[0;34m.\u001b[0m\u001b[0mextend\u001b[0m\u001b[0;34m(\u001b[0m\u001b[0mlst2\u001b[0m\u001b[0;34m)\u001b[0m\u001b[0;34m\u001b[0m\u001b[0;34m\u001b[0m\u001b[0m\n\u001b[0;32m----> 4\u001b[0;31m \u001b[0mlst\u001b[0m\u001b[0;34m.\u001b[0m\u001b[0minsert\u001b[0m\u001b[0;34m(\u001b[0m\u001b[0;34m'x'\u001b[0m\u001b[0;34m)\u001b[0m\u001b[0;34m\u001b[0m\u001b[0;34m\u001b[0m\u001b[0m\n\u001b[0m\u001b[1;32m      5\u001b[0m \u001b[0mlst\u001b[0m\u001b[0;34m.\u001b[0m\u001b[0mremove\u001b[0m\u001b[0;34m(\u001b[0m\u001b[0mx\u001b[0m\u001b[0;34m)\u001b[0m\u001b[0;34m\u001b[0m\u001b[0;34m\u001b[0m\u001b[0m\n\u001b[1;32m      6\u001b[0m \u001b[0mlst\u001b[0m\u001b[0;34m.\u001b[0m\u001b[0mpop\u001b[0m\u001b[0;34m(\u001b[0m\u001b[0;34m[\u001b[0m\u001b[0mi\u001b[0m\u001b[0;34m]\u001b[0m\u001b[0;34m)\u001b[0m\u001b[0;34m\u001b[0m\u001b[0;34m\u001b[0m\u001b[0m\n",
            "\u001b[0;31mTypeError\u001b[0m: insert() takes exactly 2 arguments (1 given)"
          ]
        }
      ]
    },
    {
      "cell_type": "code",
      "metadata": {
        "colab": {
          "base_uri": "https://localhost:8080/",
          "height": 35
        },
        "id": "8fSZyHqSFmg_",
        "outputId": "5a249fcc-f37b-4738-9d42-ee7d67cf107c"
      },
      "source": [
        "# String is immutable \r\n",
        "# whenever the string is definde you can not change the item inside\r\n",
        "# but list item can be changed \r\n",
        "# Indexing\r\n",
        "# Immutable\r\n",
        "str1=\"jai\"\r\n",
        "str1=\"Jai\"\r\n",
        "str1"
      ],
      "execution_count": null,
      "outputs": [
        {
          "output_type": "execute_result",
          "data": {
            "application/vnd.google.colaboratory.intrinsic+json": {
              "type": "string"
            },
            "text/plain": [
              "'Jai'"
            ]
          },
          "metadata": {
            "tags": []
          },
          "execution_count": 49
        }
      ]
    },
    {
      "cell_type": "code",
      "metadata": {
        "id": "rxGxeMpTGA0A"
      },
      "source": [
        ""
      ],
      "execution_count": null,
      "outputs": []
    },
    {
      "cell_type": "markdown",
      "metadata": {
        "id": "uwi21zSBK6JY"
      },
      "source": [
        "#Complex"
      ]
    },
    {
      "cell_type": "code",
      "metadata": {
        "colab": {
          "base_uri": "https://localhost:8080/"
        },
        "id": "likPEsB8K9Cf",
        "outputId": "2c974edd-a4f7-44e2-9def-b2ffd4600633"
      },
      "source": [
        "jk=1.0-2.0j\r\n",
        "jk"
      ],
      "execution_count": null,
      "outputs": [
        {
          "output_type": "execute_result",
          "data": {
            "text/plain": [
              "(1-2j)"
            ]
          },
          "metadata": {
            "tags": []
          },
          "execution_count": 51
        }
      ]
    },
    {
      "cell_type": "code",
      "metadata": {
        "colab": {
          "base_uri": "https://localhost:8080/"
        },
        "id": "HBGiHJjWLD04",
        "outputId": "bdf8ca50-d7d2-42c0-c3da-ae9bc0e78263"
      },
      "source": [
        "jk"
      ],
      "execution_count": null,
      "outputs": [
        {
          "output_type": "execute_result",
          "data": {
            "text/plain": [
              "(1-2j)"
            ]
          },
          "metadata": {
            "tags": []
          },
          "execution_count": 52
        }
      ]
    },
    {
      "cell_type": "code",
      "metadata": {
        "colab": {
          "base_uri": "https://localhost:8080/"
        },
        "id": "DGKq16J_LSMk",
        "outputId": "f90c451c-c31b-4d52-d3e5-44c2c27f0f62"
      },
      "source": [
        "print(jk.real,jk.imag)"
      ],
      "execution_count": null,
      "outputs": [
        {
          "output_type": "stream",
          "text": [
            "1.0 -2.0\n"
          ],
          "name": "stdout"
        }
      ]
    },
    {
      "cell_type": "code",
      "metadata": {
        "colab": {
          "base_uri": "https://localhost:8080/"
        },
        "id": "co4re1QHLicJ",
        "outputId": "77b6eda8-682d-4c83-a65a-a72b6a22c1c6"
      },
      "source": [
        "tenth=10\r\n",
        "tenth"
      ],
      "execution_count": null,
      "outputs": [
        {
          "output_type": "execute_result",
          "data": {
            "text/plain": [
              "10"
            ]
          },
          "metadata": {
            "tags": []
          },
          "execution_count": 56
        }
      ]
    },
    {
      "cell_type": "code",
      "metadata": {
        "colab": {
          "base_uri": "https://localhost:8080/"
        },
        "id": "ut3qP9xbLqHk",
        "outputId": "1ab9b7dc-62d7-4466-b17a-140a2405bfa5"
      },
      "source": [
        "i=8\r\n",
        "if(i<3):\r\n",
        "  print('less than 3')\r\n",
        "  if i==2:\r\n",
        "    print(\"less than 2\")\r\n",
        "  elif i==1:\r\n",
        "    print(\"It is equal to 1\")\r\n",
        "elif i<5:\r\n",
        "  print('less than 5')\r\n",
        "else:\r\n",
        "  print('5 or now')\r\n"
      ],
      "execution_count": null,
      "outputs": [
        {
          "output_type": "stream",
          "text": [
            "5 or now\n"
          ],
          "name": "stdout"
        }
      ]
    },
    {
      "cell_type": "code",
      "metadata": {
        "id": "1leh2xfZOVNO"
      },
      "source": [
        "# Shallow Copy \r\n",
        "# deep copy\r\n",
        "'''A shallow copy constructs a new compound object and \r\n",
        "then (to the extent possible) inserts references into it \r\n",
        "to the objects found in the original. \r\n",
        "A deep copy constructs a new compound object and then, recursively,\r\n",
        "inserts copies into it of the objects found in the original.'''"
      ],
      "execution_count": null,
      "outputs": []
    },
    {
      "cell_type": "code",
      "metadata": {
        "id": "hwBekeEOPKiD"
      },
      "source": [
        ""
      ],
      "execution_count": null,
      "outputs": []
    },
    {
      "cell_type": "markdown",
      "metadata": {
        "id": "PnObJDSBPOSH"
      },
      "source": [
        "#Loop"
      ]
    },
    {
      "cell_type": "code",
      "metadata": {
        "colab": {
          "base_uri": "https://localhost:8080/"
        },
        "id": "a2ZWbz_cPQx7",
        "outputId": "6c582fed-6acc-440e-9371-eac34c40bbec"
      },
      "source": [
        "str1=\"jitender saini\"\r\n",
        "len(str1)"
      ],
      "execution_count": null,
      "outputs": [
        {
          "output_type": "execute_result",
          "data": {
            "text/plain": [
              "14"
            ]
          },
          "metadata": {
            "tags": []
          },
          "execution_count": 60
        }
      ]
    },
    {
      "cell_type": "code",
      "metadata": {
        "colab": {
          "base_uri": "https://localhost:8080/"
        },
        "id": "KptourfWPWbc",
        "outputId": "7e528710-213a-4be7-f0fe-423258708b04"
      },
      "source": [
        "for fg in str1:\r\n",
        "  print((fg))"
      ],
      "execution_count": null,
      "outputs": [
        {
          "output_type": "stream",
          "text": [
            "j\n",
            "i\n",
            "t\n",
            "e\n",
            "n\n",
            "d\n",
            "e\n",
            "r\n",
            " \n",
            "s\n",
            "a\n",
            "i\n",
            "n\n",
            "i\n"
          ],
          "name": "stdout"
        }
      ]
    },
    {
      "cell_type": "code",
      "metadata": {
        "colab": {
          "base_uri": "https://localhost:8080/"
        },
        "id": "yxvE-_nTQBFx",
        "outputId": "ec03f309-6b78-4b2d-c511-81867d3ee0f9"
      },
      "source": [
        "## Sum of all the elements in thelist\r\n",
        "## for loop\r\n",
        "## first output is sum of odd numbers and sum of even number in this elwt \r\n",
        "lst=[1,3,4,5,6,7,8,9,2,3,4,5]\r\n",
        "even_sum=0\r\n",
        "odd_sum=0\r\n",
        "for i in lst:\r\n",
        "  if i%2==0:\r\n",
        "    even_sum=even_sum+i\r\n",
        "  else:\r\n",
        "      odd_sum=odd_sum+i\r\n",
        "print(even_sum)\r\n",
        "print(odd_sum)\r\n",
        "\r\n",
        "  \r\n"
      ],
      "execution_count": null,
      "outputs": [
        {
          "output_type": "stream",
          "text": [
            "24\n",
            "33\n"
          ],
          "name": "stdout"
        }
      ]
    },
    {
      "cell_type": "code",
      "metadata": {
        "colab": {
          "base_uri": "https://localhost:8080/"
        },
        "id": "fQsYR3FCSDZm",
        "outputId": "bf0ba0a7-0054-412d-dbbd-94025402025d"
      },
      "source": [
        "lst=[4,5,6,3,7,8,9,11,23,5,78,90]\r\n",
        "sum1=0\r\n",
        "for i in lst:\r\n",
        "  if i==1:\r\n",
        "    break\r\n",
        "  sum1=sum1+i\r\n",
        "else:\r\n",
        "  print(\"1 was not there\")\r\n",
        "print(sum1)\r\n"
      ],
      "execution_count": null,
      "outputs": [
        {
          "output_type": "stream",
          "text": [
            "1 was not there\n",
            "249\n"
          ],
          "name": "stdout"
        }
      ]
    },
    {
      "cell_type": "code",
      "metadata": {
        "colab": {
          "base_uri": "https://localhost:8080/"
        },
        "id": "Ry-eGyOvbPNH",
        "outputId": "84562866-cf67-4520-87c7-244375ba8403"
      },
      "source": [
        "lst=[1,2,3,4,5,6,7]\r\n",
        "even_sum=0\r\n",
        "odd_sum=0\r\n",
        "for i in lst:\r\n",
        "  if i%2==0:\r\n",
        "    even_sum = even_sum+i\r\n",
        "    if even_sum>20:\r\n",
        "      break\r\n",
        "  else:\r\n",
        "    odd_sum=odd_sum+i\r\n",
        "    if odd_sum>20:\r\n",
        "      break\r\n",
        "else:\r\n",
        "  print(even_sum)\r\n",
        "  print(odd_sum)\r\n"
      ],
      "execution_count": null,
      "outputs": [
        {
          "output_type": "stream",
          "text": [
            "12\n",
            "16\n"
          ],
          "name": "stdout"
        }
      ]
    },
    {
      "cell_type": "code",
      "metadata": {
        "id": "MQ3HEQYycfDY"
      },
      "source": [
        ""
      ],
      "execution_count": null,
      "outputs": []
    },
    {
      "cell_type": "markdown",
      "metadata": {
        "id": "JFZqmDeqciiC"
      },
      "source": [
        "#While loop\r\n"
      ]
    },
    {
      "cell_type": "code",
      "metadata": {
        "colab": {
          "base_uri": "https://localhost:8080/"
        },
        "id": "rQUGGwaEdAXw",
        "outputId": "b80c4975-a83a-4556-b841-c49bf487e37d"
      },
      "source": [
        "# ## while loop\r\n",
        "# sum of the n elemnts(1,2,3,4,5,6,7,8,9,10)\r\n",
        "n=10\r\n",
        "i=1\r\n",
        "even_sum=0\r\n",
        "odd_sum=0\r\n",
        "while i<=n:\r\n",
        "  if i%2==0:\r\n",
        "    even_sum=even_sum+i\r\n",
        "    i=i+1\r\n",
        "  else:\r\n",
        "    odd_sum=odd_sum+i\r\n",
        "    i=i+1\r\n",
        "print(even_sum)\r\n",
        "print(odd_sum)\r\n"
      ],
      "execution_count": null,
      "outputs": [
        {
          "output_type": "stream",
          "text": [
            "30\n",
            "25\n"
          ],
          "name": "stdout"
        }
      ]
    },
    {
      "cell_type": "code",
      "metadata": {
        "id": "jhqFL7p0cmdw"
      },
      "source": [
        "#Program to add natural\r\n",
        "#numbers upto \r\n",
        "# sum=1+2+3+4.....+n\r\n",
        "# to take input from the user\r\n",
        "# n=int(input(\"Enter n:\"))\r\n",
        "n=10\r\n",
        "#initialize sum and counter\r\n"
      ],
      "execution_count": null,
      "outputs": []
    },
    {
      "cell_type": "code",
      "metadata": {
        "id": "Y1N-6RxdT7lf"
      },
      "source": [
        ""
      ],
      "execution_count": null,
      "outputs": []
    },
    {
      "cell_type": "markdown",
      "metadata": {
        "id": "2BVZHer2gInH"
      },
      "source": [
        "# The Range "
      ]
    },
    {
      "cell_type": "code",
      "metadata": {
        "colab": {
          "base_uri": "https://localhost:8080/"
        },
        "id": "lwknFZcJgOdl",
        "outputId": "61b44d72-2466-4b0f-dd5a-19932818c351"
      },
      "source": [
        "print(range(6))"
      ],
      "execution_count": null,
      "outputs": [
        {
          "output_type": "stream",
          "text": [
            "range(0, 6)\n"
          ],
          "name": "stdout"
        }
      ]
    },
    {
      "cell_type": "code",
      "metadata": {
        "colab": {
          "base_uri": "https://localhost:8080/"
        },
        "id": "jv4EVOZlgWe1",
        "outputId": "ca482af0-ce28-40ac-9bad-7399876dc402"
      },
      "source": [
        "list(range(6))"
      ],
      "execution_count": null,
      "outputs": [
        {
          "output_type": "execute_result",
          "data": {
            "text/plain": [
              "[0, 1, 2, 3, 4, 5]"
            ]
          },
          "metadata": {
            "tags": []
          },
          "execution_count": 81
        }
      ]
    },
    {
      "cell_type": "code",
      "metadata": {
        "colab": {
          "base_uri": "https://localhost:8080/"
        },
        "id": "BDvEBfAQgafp",
        "outputId": "1d5e1ab3-bee0-43d6-849c-2438635007f5"
      },
      "source": [
        "list(range(6,50,2))"
      ],
      "execution_count": null,
      "outputs": [
        {
          "output_type": "execute_result",
          "data": {
            "text/plain": [
              "[6,\n",
              " 8,\n",
              " 10,\n",
              " 12,\n",
              " 14,\n",
              " 16,\n",
              " 18,\n",
              " 20,\n",
              " 22,\n",
              " 24,\n",
              " 26,\n",
              " 28,\n",
              " 30,\n",
              " 32,\n",
              " 34,\n",
              " 36,\n",
              " 38,\n",
              " 40,\n",
              " 42,\n",
              " 44,\n",
              " 46,\n",
              " 48]"
            ]
          },
          "metadata": {
            "tags": []
          },
          "execution_count": 82
        }
      ]
    },
    {
      "cell_type": "code",
      "metadata": {
        "id": "OuDW7nOYhLCP"
      },
      "source": [
        ""
      ],
      "execution_count": null,
      "outputs": []
    },
    {
      "cell_type": "markdown",
      "metadata": {
        "id": "tOQFVYhehOdy"
      },
      "source": [
        "#break "
      ]
    },
    {
      "cell_type": "code",
      "metadata": {
        "colab": {
          "base_uri": "https://localhost:8080/"
        },
        "id": "rFnJKr4ahS4_",
        "outputId": "19872c19-cc98-486a-a822-6227037e9050"
      },
      "source": [
        "# continue\r\n",
        "for val in \"string\":\r\n",
        "  if val=='i':\r\n",
        "    continue\r\n",
        "  print(val)\r\n",
        "print(\"The end\")\r\n",
        "# that skip just specific thing "
      ],
      "execution_count": null,
      "outputs": [
        {
          "output_type": "stream",
          "text": [
            "s\n",
            "t\n",
            "r\n",
            "n\n",
            "g\n",
            "The end\n"
          ],
          "name": "stdout"
        }
      ]
    },
    {
      "cell_type": "code",
      "metadata": {
        "id": "v_gGx5a0hwj-"
      },
      "source": [
        ""
      ],
      "execution_count": null,
      "outputs": []
    },
    {
      "cell_type": "markdown",
      "metadata": {
        "id": "-NpjayOXh6N3"
      },
      "source": [
        "#Session 2-stings and list objects\r\n",
        "string"
      ]
    },
    {
      "cell_type": "code",
      "metadata": {
        "colab": {
          "base_uri": "https://localhost:8080/",
          "height": 35
        },
        "id": "tDxj4JjTidWT",
        "outputId": "e258d470-151a-4bda-ba36-fa857739014a"
      },
      "source": [
        "# Be careful the quote\r\n",
        "\"I'm the devotee of Hare Krsna\""
      ],
      "execution_count": null,
      "outputs": [
        {
          "output_type": "execute_result",
          "data": {
            "application/vnd.google.colaboratory.intrinsic+json": {
              "type": "string"
            },
            "text/plain": [
              "\"I'm the devotee of Hare Krsna\""
            ]
          },
          "metadata": {
            "tags": []
          },
          "execution_count": 84
        }
      ]
    },
    {
      "cell_type": "code",
      "metadata": {
        "colab": {
          "base_uri": "https://localhost:8080/",
          "height": 35
        },
        "id": "s56dw5N7iriI",
        "outputId": "e2ca2930-c5e6-478f-c6a8-010ce385861e"
      },
      "source": [
        "# String indexing \r\n",
        "s=\"hello World\"\r\n",
        "# check\r\n",
        "s"
      ],
      "execution_count": null,
      "outputs": [
        {
          "output_type": "execute_result",
          "data": {
            "application/vnd.google.colaboratory.intrinsic+json": {
              "type": "string"
            },
            "text/plain": [
              "'hello World'"
            ]
          },
          "metadata": {
            "tags": []
          },
          "execution_count": 85
        }
      ]
    },
    {
      "cell_type": "code",
      "metadata": {
        "colab": {
          "base_uri": "https://localhost:8080/",
          "height": 35
        },
        "id": "DhOzxnKIi7lW",
        "outputId": "88c636e5-5cf4-45cc-b9e4-787672b46c63"
      },
      "source": [
        "s[2]"
      ],
      "execution_count": null,
      "outputs": [
        {
          "output_type": "execute_result",
          "data": {
            "application/vnd.google.colaboratory.intrinsic+json": {
              "type": "string"
            },
            "text/plain": [
              "'l'"
            ]
          },
          "metadata": {
            "tags": []
          },
          "execution_count": 86
        }
      ]
    },
    {
      "cell_type": "code",
      "metadata": {
        "colab": {
          "base_uri": "https://localhost:8080/",
          "height": 163
        },
        "id": "43quLUp_i-EJ",
        "outputId": "9790b27d-9fa8-4896-db8f-dee8ea97daa1"
      },
      "source": [
        "s[0]='s'\r\n",
        "# assigment can not be valid due to immutable string"
      ],
      "execution_count": null,
      "outputs": [
        {
          "output_type": "error",
          "ename": "TypeError",
          "evalue": "ignored",
          "traceback": [
            "\u001b[0;31m---------------------------------------------------------------------------\u001b[0m",
            "\u001b[0;31mTypeError\u001b[0m                                 Traceback (most recent call last)",
            "\u001b[0;32m<ipython-input-87-a0518bb1a172>\u001b[0m in \u001b[0;36m<module>\u001b[0;34m()\u001b[0m\n\u001b[0;32m----> 1\u001b[0;31m \u001b[0ms\u001b[0m\u001b[0;34m[\u001b[0m\u001b[0;36m0\u001b[0m\u001b[0;34m]\u001b[0m\u001b[0;34m=\u001b[0m\u001b[0;34m's'\u001b[0m\u001b[0;34m\u001b[0m\u001b[0;34m\u001b[0m\u001b[0m\n\u001b[0m",
            "\u001b[0;31mTypeError\u001b[0m: 'str' object does not support item assignment"
          ]
        }
      ]
    },
    {
      "cell_type": "code",
      "metadata": {
        "colab": {
          "base_uri": "https://localhost:8080/",
          "height": 35
        },
        "id": "Tok2ySyljPYN",
        "outputId": "b704a160-8593-4572-c0d7-8bf8d6c81047"
      },
      "source": [
        "s[:]"
      ],
      "execution_count": null,
      "outputs": [
        {
          "output_type": "execute_result",
          "data": {
            "application/vnd.google.colaboratory.intrinsic+json": {
              "type": "string"
            },
            "text/plain": [
              "'hello World'"
            ]
          },
          "metadata": {
            "tags": []
          },
          "execution_count": 88
        }
      ]
    },
    {
      "cell_type": "code",
      "metadata": {
        "colab": {
          "base_uri": "https://localhost:8080/",
          "height": 35
        },
        "id": "8E8jVESVjRa5",
        "outputId": "1a013825-420c-457e-b56f-846b767f053a"
      },
      "source": [
        "s[1:]"
      ],
      "execution_count": null,
      "outputs": [
        {
          "output_type": "execute_result",
          "data": {
            "application/vnd.google.colaboratory.intrinsic+json": {
              "type": "string"
            },
            "text/plain": [
              "'ello World'"
            ]
          },
          "metadata": {
            "tags": []
          },
          "execution_count": 89
        }
      ]
    },
    {
      "cell_type": "code",
      "metadata": {
        "colab": {
          "base_uri": "https://localhost:8080/",
          "height": 35
        },
        "id": "-wv0JB6QjU5X",
        "outputId": "63305441-fb66-4e8e-f0cf-67bddb16a8e1"
      },
      "source": [
        "s[1:-2]# -2 remove last the characters"
      ],
      "execution_count": null,
      "outputs": [
        {
          "output_type": "execute_result",
          "data": {
            "application/vnd.google.colaboratory.intrinsic+json": {
              "type": "string"
            },
            "text/plain": [
              "'ello Wor'"
            ]
          },
          "metadata": {
            "tags": []
          },
          "execution_count": 93
        }
      ]
    },
    {
      "cell_type": "code",
      "metadata": {
        "colab": {
          "base_uri": "https://localhost:8080/",
          "height": 35
        },
        "id": "M-K8CiH_jqlM",
        "outputId": "1e1206e4-ee46-4180-b3f4-881cedfc85de"
      },
      "source": [
        "s[-1] # only last element"
      ],
      "execution_count": null,
      "outputs": [
        {
          "output_type": "execute_result",
          "data": {
            "application/vnd.google.colaboratory.intrinsic+json": {
              "type": "string"
            },
            "text/plain": [
              "'d'"
            ]
          },
          "metadata": {
            "tags": []
          },
          "execution_count": 95
        }
      ]
    },
    {
      "cell_type": "code",
      "metadata": {
        "colab": {
          "base_uri": "https://localhost:8080/",
          "height": 35
        },
        "id": "y8C652X_j6OW",
        "outputId": "24b5e429-f801-4515-ea91-9a6ce339a3f6"
      },
      "source": [
        "s[::-1] # to inverse the string"
      ],
      "execution_count": null,
      "outputs": [
        {
          "output_type": "execute_result",
          "data": {
            "application/vnd.google.colaboratory.intrinsic+json": {
              "type": "string"
            },
            "text/plain": [
              "'dlroW olleh'"
            ]
          },
          "metadata": {
            "tags": []
          },
          "execution_count": 100
        }
      ]
    },
    {
      "cell_type": "code",
      "metadata": {
        "colab": {
          "base_uri": "https://localhost:8080/"
        },
        "id": "orT_2KELkeMt",
        "outputId": "dc418762-049f-4573-a83a-102a87bcab14"
      },
      "source": [
        "s[::-3]\r\n",
        "s.upper()\r\n",
        "s.lower()\r\n",
        "s.split(sep='W')"
      ],
      "execution_count": null,
      "outputs": [
        {
          "output_type": "execute_result",
          "data": {
            "text/plain": [
              "['hello ', 'orld']"
            ]
          },
          "metadata": {
            "tags": []
          },
          "execution_count": 105
        }
      ]
    },
    {
      "cell_type": "code",
      "metadata": {
        "colab": {
          "base_uri": "https://localhost:8080/"
        },
        "id": "3aWbsffUlK8Y",
        "outputId": "fd3ef181-3d89-4bf6-c7ee-956930564b4e"
      },
      "source": [
        "s.split(sep=' ')"
      ],
      "execution_count": null,
      "outputs": [
        {
          "output_type": "execute_result",
          "data": {
            "text/plain": [
              "['hello', 'World']"
            ]
          },
          "metadata": {
            "tags": []
          },
          "execution_count": 106
        }
      ]
    },
    {
      "cell_type": "code",
      "metadata": {
        "id": "U29ZepHylVoD"
      },
      "source": [
        "### Location and counting "
      ],
      "execution_count": null,
      "outputs": []
    },
    {
      "cell_type": "code",
      "metadata": {
        "colab": {
          "base_uri": "https://localhost:8080/"
        },
        "id": "hI04hdLmlaV6",
        "outputId": "88088f27-e46a-4cb6-ce0e-7aa8a86ddc9a"
      },
      "source": [
        "s.count('o')"
      ],
      "execution_count": null,
      "outputs": [
        {
          "output_type": "execute_result",
          "data": {
            "text/plain": [
              "2"
            ]
          },
          "metadata": {
            "tags": []
          },
          "execution_count": 107
        }
      ]
    },
    {
      "cell_type": "code",
      "metadata": {
        "colab": {
          "base_uri": "https://localhost:8080/"
        },
        "id": "4zikUMrTldMj",
        "outputId": "d087f25b-0a84-46d9-8e42-32c144815b57"
      },
      "source": [
        "s.find('o')"
      ],
      "execution_count": null,
      "outputs": [
        {
          "output_type": "execute_result",
          "data": {
            "text/plain": [
              "4"
            ]
          },
          "metadata": {
            "tags": []
          },
          "execution_count": 108
        }
      ]
    },
    {
      "cell_type": "code",
      "metadata": {
        "colab": {
          "base_uri": "https://localhost:8080/",
          "height": 35
        },
        "id": "veSp1BR5lms1",
        "outputId": "2dc8390d-9617-436a-9006-474ccd0fdd8b"
      },
      "source": [
        "s.center(20,'z') # Formatting The center() method allows you to place your string 'centered between a provided string with a certain length"
      ],
      "execution_count": null,
      "outputs": [
        {
          "output_type": "execute_result",
          "data": {
            "application/vnd.google.colaboratory.intrinsic+json": {
              "type": "string"
            },
            "text/plain": [
              "'zzzzhello Worldzzzzz'"
            ]
          },
          "metadata": {
            "tags": []
          },
          "execution_count": 109
        }
      ]
    },
    {
      "cell_type": "code",
      "metadata": {
        "colab": {
          "base_uri": "https://localhost:8080/",
          "height": 35
        },
        "id": "1O6Qybs_mJeJ",
        "outputId": "5cd8ca6e-6065-4fcb-f79f-bc0980e50f3a"
      },
      "source": [
        "# expandtabs() will expand tab notations \\t into spaces. Let's see an example to understand the concept.\r\n",
        "'hello\\thi'.expandtabs()"
      ],
      "execution_count": null,
      "outputs": [
        {
          "output_type": "execute_result",
          "data": {
            "application/vnd.google.colaboratory.intrinsic+json": {
              "type": "string"
            },
            "text/plain": [
              "'hello   hi'"
            ]
          },
          "metadata": {
            "tags": []
          },
          "execution_count": 111
        }
      ]
    },
    {
      "cell_type": "code",
      "metadata": {
        "id": "AkLlIHxZmjZZ"
      },
      "source": [
        ""
      ],
      "execution_count": null,
      "outputs": []
    },
    {
      "cell_type": "markdown",
      "metadata": {
        "id": "3ahmccNmm1RI"
      },
      "source": [
        "# is check methods \r\n",
        "These various methods below check it the string is some case. Lets explore them:\r\n",
        "s='hello'\r\n"
      ]
    },
    {
      "cell_type": "code",
      "metadata": {
        "colab": {
          "base_uri": "https://localhost:8080/"
        },
        "id": "94Pz9_s_m2jj",
        "outputId": "67321bba-f552-4795-ea85-5cffbeaee71a"
      },
      "source": [
        "s='hello123'\r\n",
        "# isalnum() will return \"True\" if all characters in S are alphanumeric\r\n",
        "s.isalnum()"
      ],
      "execution_count": null,
      "outputs": [
        {
          "output_type": "execute_result",
          "data": {
            "text/plain": [
              "True"
            ]
          },
          "metadata": {
            "tags": []
          },
          "execution_count": 116
        }
      ]
    },
    {
      "cell_type": "code",
      "metadata": {
        "colab": {
          "base_uri": "https://localhost:8080/"
        },
        "id": "qHZcvSwcnY8t",
        "outputId": "3f4910c2-0481-4b2d-d3fa-a7c4b2aeeba1"
      },
      "source": [
        "s.isalnum()"
      ],
      "execution_count": null,
      "outputs": [
        {
          "output_type": "execute_result",
          "data": {
            "text/plain": [
              "True"
            ]
          },
          "metadata": {
            "tags": []
          },
          "execution_count": 120
        }
      ]
    },
    {
      "cell_type": "code",
      "metadata": {
        "colab": {
          "base_uri": "https://localhost:8080/"
        },
        "id": "AnyAX22inc0F",
        "outputId": "cbb078d1-513b-483e-f2e0-3a20948abc1b"
      },
      "source": [
        "s.isalpha()"
      ],
      "execution_count": null,
      "outputs": [
        {
          "output_type": "execute_result",
          "data": {
            "text/plain": [
              "False"
            ]
          },
          "metadata": {
            "tags": []
          },
          "execution_count": 121
        }
      ]
    },
    {
      "cell_type": "code",
      "metadata": {
        "colab": {
          "base_uri": "https://localhost:8080/"
        },
        "id": "rTlH0vY3n1yr",
        "outputId": "e11160b9-b1fa-4da1-a1a3-352bea7b44c3"
      },
      "source": [
        "s.isupper()"
      ],
      "execution_count": null,
      "outputs": [
        {
          "output_type": "execute_result",
          "data": {
            "text/plain": [
              "False"
            ]
          },
          "metadata": {
            "tags": []
          },
          "execution_count": 122
        }
      ]
    },
    {
      "cell_type": "code",
      "metadata": {
        "colab": {
          "base_uri": "https://localhost:8080/"
        },
        "id": "UbJZzlCZoAtu",
        "outputId": "d24c3fea-ecfc-4673-d318-1f9a3091b531"
      },
      "source": [
        "s.islower()"
      ],
      "execution_count": null,
      "outputs": [
        {
          "output_type": "execute_result",
          "data": {
            "text/plain": [
              "True"
            ]
          },
          "metadata": {
            "tags": []
          },
          "execution_count": 123
        }
      ]
    },
    {
      "cell_type": "code",
      "metadata": {
        "colab": {
          "base_uri": "https://localhost:8080/"
        },
        "id": "M5D5aw0JoDY9",
        "outputId": "80bdf053-b760-47c8-e585-f319264629e4"
      },
      "source": [
        "s.endswith('o')"
      ],
      "execution_count": null,
      "outputs": [
        {
          "output_type": "execute_result",
          "data": {
            "text/plain": [
              "False"
            ]
          },
          "metadata": {
            "tags": []
          },
          "execution_count": 124
        }
      ]
    },
    {
      "cell_type": "markdown",
      "metadata": {
        "id": "j_XhCNqQzN1y"
      },
      "source": [
        "# Built-in Reg. Expressions\r\n",
        "In Strings,there are some built-in methods which is similar to regular expression operations. Split() function is used to split the string at a certain element and return a list of the result. Partition is used to return a tuple that includes the separator (the first occurreecne). the first half and the end half."
      ]
    },
    {
      "cell_type": "code",
      "metadata": {
        "id": "g28FHp8-FFSI"
      },
      "source": [
        "s='jitender saini'"
      ],
      "execution_count": null,
      "outputs": []
    },
    {
      "cell_type": "code",
      "metadata": {
        "colab": {
          "base_uri": "https://localhost:8080/"
        },
        "id": "qfdJ-8bOFlKa",
        "outputId": "4082febd-51a4-4cde-d374-61c0a404d842"
      },
      "source": [
        "s.split('s')"
      ],
      "execution_count": null,
      "outputs": [
        {
          "output_type": "execute_result",
          "data": {
            "text/plain": [
              "['jitender ', 'aini']"
            ]
          },
          "metadata": {
            "tags": []
          },
          "execution_count": 126
        }
      ]
    },
    {
      "cell_type": "code",
      "metadata": {
        "colab": {
          "base_uri": "https://localhost:8080/"
        },
        "id": "h4PPiXTPFt2Z",
        "outputId": "30716337-d4b6-4981-9e0b-d70a82a9c3bf"
      },
      "source": [
        "s.partition('s')"
      ],
      "execution_count": null,
      "outputs": [
        {
          "output_type": "execute_result",
          "data": {
            "text/plain": [
              "('jitender ', 's', 'aini')"
            ]
          },
          "metadata": {
            "tags": []
          },
          "execution_count": 127
        }
      ]
    },
    {
      "cell_type": "code",
      "metadata": {
        "id": "2Uff_SLvFwxh"
      },
      "source": [
        ""
      ],
      "execution_count": null,
      "outputs": []
    }
  ]
}